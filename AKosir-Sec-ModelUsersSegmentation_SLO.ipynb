{
 "cells": [
  {
   "cell_type": "markdown",
   "metadata": {
    "collapsed": true,
    "slideshow": {
     "slide_type": "slide"
    }
   },
   "source": [
    "<img style=\"float: center; width: 100%\" src=\"https://raw.githubusercontent.com/andrejkk/TalksImgs/master/FrontSlideUpperBan.png\">\n",
    "<p style=\"margin-bottom:2cm;\"></p>\n",
    "\n",
    "<center>\n",
    "    <H1> Modeliranje uporabnikov: segmentacija </H1>\n",
    "   \n",
    "\n",
    "\n",
    "<br><br>\n",
    "    <H3> Andrej Košir, Lucami, FE </H3>\n",
    "    <H4> Kontakt: prof. dr. Andrej Košir, andrej.kosir@fe.uni-lj.si </H4>\n",
    "    <H4> ZOOM https://uni-lj-si.zoom.us/j/8638167479  </H4>\n",
    "</center>\n",
    "\n",
    "\n",
    "\n",
    "<p style=\"margin-bottom:1cm;\"></p>\n",
    "<div style=\"width:100%;text-align:right;font-weight:bold;font-size:1.2em;\"> 1 </div>\n",
    "<img src=\"https://raw.githubusercontent.com/andrejkk/ORvTK_SlidesImgs/master/footer_full.jpg\">"
   ]
  },
  {
   "cell_type": "markdown",
   "metadata": {
    "slideshow": {
     "slide_type": "slide"
    }
   },
   "source": [
    "<div style=\"display:flex;font-weight:bold;font-size:0.9em;\">\n",
    "<div style=\"flex:1;width:50%;text-align:left;\"> Modeliranje uporabnikov: segmentacija  </div>\n",
    "</div>\n",
    "\n",
    "\n",
    "## Cilji\n",
    "\n",
    "- seznaniti se s pomenom uporabniške segmentacije\n",
    "- spoznati primer segmentacije\n",
    "- spoznati osnovne mehanizme določanja segmentov\n",
    "\n",
    "\n",
    "\n",
    "<p style=\"margin-bottom:1cm;\"></p>\n",
    "<div style=\"width:100%;text-align:right;font-weight:bold;font-size:1.2em;\"> 2 </div>\n",
    "<img src=\"https://raw.githubusercontent.com/andrejkk/ORvTK_SlidesImgs/master/footer_full.jpg\">"
   ]
  },
  {
   "attachments": {},
   "cell_type": "markdown",
   "metadata": {
    "slideshow": {
     "slide_type": "slide"
    }
   },
   "source": [
    "<div style=\"display:flex;font-weight:bold;font-size:0.9em;\">\n",
    "<div style=\"flex:1;width:50%;text-align:left;\"> Modeliranje uporabnikov: segmentacija  </div>\n",
    "</div>\n",
    "\n",
    "\n",
    "# ■ Uvod v modeliranje uporabnikov\n",
    "\n",
    "#### Def. Modeliranje uporabnikov je postopek gradnje digitalne reprezentacije uporabnika za uporabo in razumevanje njegovega vedenja, preferenc, potreb in namenov. \n",
    "\n",
    "Profil uporabnika je centralni pojem v okviru uporabniku prilagojenih storitev. Navadno se dinamično razvija, obnavljamo ga periodično v različnih časovnih periodah, npr. vsak teden. \n",
    "\n",
    "Najpreprostejši model uporabnika je enostavno zgodovina njegove uporabe, to je seznam njegovih aktivnosti s časovnimi žigi. Pri soobonem prilagajanju uporabnikov navadno gre za model strojnega učenja, ki je v rabi pri prilagajanju. Npr. pri priporočilnem sistemu je to vrstica matrike P, ki pripada danemu uporabniku. \n",
    "\n",
    "Žal so sodobni profili uporabnikov v veliki večini specfično vezani na zelo ozko specifično prilagoditev in je prensoljivost na druga področja prilagajanja praktično nična. To pomeni, da je model uporabnika za prilagajanje medijskih vsebin večinoma neuporaben npr. pri izbiri filmov. \n",
    "\n",
    "\n",
    "\n",
    "\n",
    "\n",
    "\n",
    "\n",
    "<p style=\"margin-bottom:1cm;\"></p>\n",
    "<div style=\"width:100%;text-align:right;font-weight:bold;font-size:1.2em;\"> 3 </div>\n",
    "<img src=\"https://raw.githubusercontent.com/andrejkk/ORvTK_SlidesImgs/master/footer_full.jpg\">"
   ]
  },
  {
   "cell_type": "markdown",
   "metadata": {},
   "source": [
    "<div style=\"display:flex;font-weight:bold;font-size:0.9em;\">\n",
    "<div style=\"flex:1;width:50%;text-align:left;\"> Modeliranje uporabnikov: segmentacija  </div>\n",
    "</div>\n",
    "\n",
    "\n",
    "# ■ Uvod v segmentacijo\n",
    "\n",
    "#### Def. Segmentacija je grupiranje uporabnikov glede na izbrane značilnosti, relevantne za izbrano področje in izbrano dejavnost\n",
    "\n",
    "\n",
    "#### Uvodne opombe\n",
    "\n",
    "- segmentacija uporabnikov je vhodna informacija v optimizacijo storitev: učinkovita segmentacija je možna znotraj posameznega segmenta\n",
    "- večinoma temeljijo na marketing analizah\n",
    "- zelo specifično po področjih\n",
    "- različne so tudi metodologije. Najbolj razvite so tržne segmentacije\n",
    "- Primer: indeks ciljnih skupin (TGI) v Sloveniji\n",
    "\n",
    "\n",
    "\n",
    "<p style=\"margin-bottom:1cm;\"></p>\n",
    "<div style=\"width:100%;text-align:right;font-weight:bold;font-size:1.2em;\"> 3 </div>\n",
    "<img src=\"https://raw.githubusercontent.com/andrejkk/ORvTK_SlidesImgs/master/footer_full.jpg\">"
   ]
  },
  {
   "cell_type": "markdown",
   "metadata": {
    "slideshow": {
     "slide_type": "slide"
    }
   },
   "source": [
    "<div style=\"display:flex;font-weight:bold;font-size:0.9em;\">\n",
    "<div style=\"flex:1;width:50%;text-align:left;\"> Modeliranje uporabnikov: segmentacija  </div>\n",
    "</div>\n",
    "\n",
    "\n",
    "# 1. Segmentacija\n",
    "\n",
    "■ Uvod - kaj je segmentacija\n",
    "\n",
    "■ Kaj je segmentacija TGI\n",
    "\n",
    "■ Cilji TGI - kaj nudi\n",
    "\n",
    "■ Sektorji uporabnikov\n",
    "\n",
    "■ Segmenti uporabnikov\n",
    "\n",
    "■ Zaključki\n",
    "\n",
    "\n",
    "\n",
    "\n",
    "\n",
    "<p style=\"margin-bottom:1cm;\"></p>\n",
    "<div style=\"width:100%;text-align:right;font-weight:bold;font-size:1.2em;\"> 4 </div>\n",
    "<img src=\"https://raw.githubusercontent.com/andrejkk/ORvTK_SlidesImgs/master/footer_full.jpg\">"
   ]
  },
  {
   "cell_type": "markdown",
   "metadata": {
    "slideshow": {
     "slide_type": "slide"
    }
   },
   "source": [
    "<div style=\"display:flex;font-weight:bold;font-size:0.9em;\">\n",
    "<div style=\"flex:1;width:50%;text-align:left;\"> Modeliranje uporabnikov: segmentacija  </div>\n",
    "</div>\n",
    "\n",
    "\n",
    "# ■ Kaj je segmentacija, zakaj\n",
    "\n",
    "#### Def.: Segmentacija uporabnikov je postopek ločevanja uporabnikov v različne podskupine ali segmente na podlagi skupnih značilnosti, ki določajo njihove skupne potrebe. \n",
    "\n",
    "Segmentacija uporabnikov je postopek delitve večje baze uporabnikov na manjše, ločene skupine na podlagi skupnih značilnosti, vedenja, potreb ali želja. Ti segmenti pomagajo podjetjem ali ponudnikom storitev razumeti raznolikost njihovih uporabnikov in jim omogočajo učinkovitejše prilagajanje vsebine in storitev. Hkrati so osnova za tržne strategije. \n",
    "\n",
    "##### Zakaj segmentacija \n",
    "\n",
    "- osnova za razumevanje uporabnikov\n",
    "- načrtovanje storitev: storitve načrtujemo po segmentih \n",
    "- izboljšava storitev\n",
    "- **Personalizacija in prilagajanje uporabnikom**\n",
    "- pridobivanje novih uporabnikov in zadrževanje obstoječih: stroški proibl. 6-8 : 1\n",
    "\n",
    "\n",
    "##### Pomembni vidiki\n",
    "\n",
    "\n",
    "1. **Demografska segmentacija:** Uporabniki so razvrščeni po lastnostih, kot so starost, spol, dohodek, izobrazba ali lokacija.\n",
    "2. **Geografsko segmentiranje:** Segmentira uporabnike na podlagi njihove geografske lokacije, kar lahko vpliva na jezikovne preference, kulturne vrednote in nakupno vedenje.\n",
    "3. **Segmentacija na osnovi potreb**: Pomembno pri podpori strankam in razvoju izdelkov.\n",
    "4. **Vedenjska segmentiranja:** razdeli uporabnike na podlagi njihovih interakcij z izdelkom ali storitvijo, vključno z vzorci uporabe, zgodovino nakupov ali stopnjo vključenosti.\n",
    "5. **Psihografska segmentacija:** Segmentacija: obravnava življenjski slog, interese, vrednote ali osebnostne lastnosti, kar pogosto omogoča globlji vpogled v to, kaj spodbuja odločitve uporabnikov.\n",
    "\n",
    "\n",
    "\n",
    "##### Izvedba segmentacije\n",
    "- Danes: vprašalniki + uporabniški podatki\n",
    "- Prihodnost: analiza uporabniških podatkov s strojnimi in statističnimi metodami\n",
    "\n",
    "<p style=\"margin-bottom:1cm;\"></p>\n",
    "<div style=\"width:100%;text-align:right;font-weight:bold;font-size:1.2em;\"> 5 </div>\n",
    "<img src=\"https://raw.githubusercontent.com/andrejkk/ORvTK_SlidesImgs/master/footer_full.jpg\">"
   ]
  },
  {
   "cell_type": "markdown",
   "metadata": {
    "slideshow": {
     "slide_type": "slide"
    }
   },
   "source": [
    "<div style=\"display:flex;font-weight:bold;font-size:0.9em;\">\n",
    "<div style=\"flex:1;width:50%;text-align:left;\"> Modeliranje uporabnikov: segmentacija  </div>\n",
    "</div>\n",
    "\n",
    "\n",
    "# ■ Kaj je segmentacija TGI\n",
    "\n",
    "Segmentacija uporabnikov TGI (angl. Target Group Index) je sistem vprašalnikov za izdelavo segmentacije uproabnikov, glejte npr. https://www.warc.com/partners/tgi. \n",
    "\n",
    "Segmentacija TGI je orodje za profiliranje potrošnikov (uporabniki so tudi potrošniki), ki ga je razvil Kantar Media in se pogosto uporablja v tržnih raziskavah za poglobljeno razumevanje vedenja in demografije potrošnikov. Segmentacija TGI razdeli potrošnike v skupine na podlagi njihovih stališč, interesov, življenjskih slogov, porabe medijev in nakupnih navad. Blagovnim znamkam omogoča vpogled v posebne značilnosti njihovih ciljnih skupin, kar jim omogoča sprejemanje premišljenih odločitev pri oglaševanju, razvoju izdelkov in medijskem načrtovanju.\n",
    "\n",
    "Tehnike in rezultati segmentacije so v veliki meri odvisni od ciljev in izbranega podorčja. Zato predstavljamo slovenski primer segmentacije po TGI pristopu. \n",
    "\n",
    "Okvir zajema podatkov za segmentacijo:\n",
    " - število responednetov n=4000 letno \n",
    " - starost: 15 do 75 let\n",
    " - vzorčenje: enostaven naključni vzorec, reprezentativen za Slovenijo po spolu, starosti in regijah\n",
    "\n",
    "\n",
    "<p style=\"margin-bottom:1cm;\"></p>\n",
    "<div style=\"width:100%;text-align:right;font-weight:bold;font-size:1.2em;\"> 5 </div>\n",
    "<img src=\"https://raw.githubusercontent.com/andrejkk/ORvTK_SlidesImgs/master/footer_full.jpg\">"
   ]
  },
  {
   "cell_type": "markdown",
   "metadata": {
    "slideshow": {
     "slide_type": "slide"
    }
   },
   "source": [
    "<div style=\"display:flex;font-weight:bold;font-size:0.9em;\">\n",
    "<div style=\"flex:1;width:50%;text-align:left;\"> Modeliranje uporabnikov: segmentacija  </div>\n",
    "</div>\n",
    "\n",
    "\n",
    "# ■ Cilji TGI - kaj nudi\n",
    "\n",
    "\n",
    "\n",
    "Cilj segmentacije TGI je\n",
    "- določiti splošne segmente\n",
    "- zbrati karakteristike segmentov, ki so uporabni za posamezen segment\n",
    "\n",
    "\n",
    "\n",
    "\n",
    "Raziskava TGI omogoča:\n",
    "- Razumeti stanje na trgu;\n",
    "- Identificirati pravilno ciljno skupino;\n",
    "- Podrobno spoznati ciljno skupino in jo personalizirati;\n",
    "- Spoznati naročnikove in konkurenčne uporabnike;\n",
    "- Razumeti obnašanje potrošnikov na trgu;\n",
    "- Razumeti  uporabo znamk in njihove konkurenčne prednosti\n",
    "- Odkriti najboljši način za komuniciranje;\n",
    "- Strateško in taktično medijsko planiranje;\n",
    "- Segmentacije za različne trge;\n",
    "\n",
    "\n",
    "<p style=\"margin-bottom:1cm;\"></p>\n",
    "<div style=\"width:100%;text-align:right;font-weight:bold;font-size:1.2em;\"> 6 </div>\n",
    "<img src=\"https://raw.githubusercontent.com/andrejkk/ORvTK_SlidesImgs/master/footer_full.jpg\">"
   ]
  },
  {
   "cell_type": "markdown",
   "metadata": {
    "slideshow": {
     "slide_type": "slide"
    }
   },
   "source": [
    "<div style=\"display:flex;font-weight:bold;font-size:0.9em;\">\n",
    "<div style=\"flex:1;width:50%;text-align:left;\"> Modeliranje uporabnikov: segmentacija  </div>\n",
    "</div>\n",
    "\n",
    "\n",
    "# ■ Sektorji uporabnikov TGI\n",
    "\n",
    "Sektorji uporabniki so povsem splošni - za (tele)komunikacije je to predsegmentacija:\n",
    "- hrana\n",
    "- gospdinjski izdelki\n",
    "- domače živali in hrana za živali\n",
    "- osebna nega in kozmetika\n",
    "- farmacevtski izdelki \n",
    "- nakupovanje, trgovine in oblačila\n",
    "- avtomobilizem\n",
    "- počitnice in potovanja\n",
    "- bančne in finančne storitve\n",
    "- šport in prosti čas\n",
    "- DIY in vrtnarjenje\n",
    "- sladkarije in prigrizki\n",
    "- tobačni izdelki\n",
    "- brezalkoholne pijače\n",
    "- alkoholne pijače\n",
    "- **komunikacije in internet**\n",
    "- bela tehnika in mali gospodinjski aparati\n",
    "- elektronika\n",
    "\n",
    "<p style=\"margin-bottom:1cm;\"></p>\n",
    "<div style=\"width:100%;text-align:right;font-weight:bold;font-size:1.2em;\"> 7 </div>\n",
    "<img src=\"https://raw.githubusercontent.com/andrejkk/ORvTK_SlidesImgs/master/footer_full.jpg\">"
   ]
  },
  {
   "cell_type": "markdown",
   "metadata": {
    "slideshow": {
     "slide_type": "slide"
    }
   },
   "source": [
    "<div style=\"display:flex;font-weight:bold;font-size:0.9em;\">\n",
    "<div style=\"flex:1;width:50%;text-align:left;\"> Modeliranje uporabnikov: segmentacija  </div>\n",
    "</div>\n",
    "\n",
    "\n",
    "# ■ Primer rezultata: segmenti uporabnikov z opisi\n",
    "\n",
    "To je rezultat analize z opisi, kjer je bil cilj razumeti nakupovalne navade.\n",
    "\n",
    "|Segment |Opis |\n",
    "|:--- |:--- |\n",
    "|ČASTILCI KAKOVOSTI|Za kvalitetne proizvode so pripravljeni plačati dodatno, sploh če ustrezajo njihovemu okusu in stilu. |\n",
    "|BIO SPECIALCI|Kupujejo ekološko pridelano meso, mlečne izdelke, sadje in zelenjavo, so pozorni na prosto rejo, ekološka potrdila in pravično trgovino. |\n",
    "|BIO SLEDILCI|Kupujejo ekološko pridelano meso, mlečne izdelke, sadje in zelenjavo. |\n",
    "|SPLETNI NAVDUŠENCI|Najpogosteje od vseh segmentov kupujejo preko spleta, in sicer vse vrste izdelkov.|\n",
    "|PREUDARNI KUPCI|Ne kupujejo najcenejših izdelkov, so pa izredno pozorni na promocijske aktivnosti in nagrade. |\n",
    "|LOVCI NA POPUSTE|Največ jim pomenijo cenovne promocije, izbirajo najnižje cene in se ne poglabljajo v ostalo ponudbo. |\n",
    "\n",
    "\n",
    "\n",
    "\n",
    "<p style=\"margin-bottom:1cm;\"></p>\n",
    "<div style=\"width:100%;text-align:right;font-weight:bold;font-size:1.2em;\"> 8 </div>\n",
    "<img src=\"https://raw.githubusercontent.com/andrejkk/ORvTK_SlidesImgs/master/footer_full.jpg\">"
   ]
  },
  {
   "cell_type": "markdown",
   "metadata": {
    "slideshow": {
     "slide_type": "slide"
    }
   },
   "source": [
    "<div style=\"display:flex;font-weight:bold;font-size:0.9em;\">\n",
    "<div style=\"flex:1;width:50%;text-align:left;\"> Modeliranje uporabnikov: segmentacija  </div>\n",
    "</div>\n",
    "\n",
    "\n",
    "# 2. Segmentacija uporabnikov mobilnih komunikacij\n",
    "\n",
    "\n",
    "■ Uvod\n",
    "\n",
    "■ Dimenzije segemtov uporabnikov mobilnih komunikacij $\\large{*}$\n",
    "\n",
    "■ Konceptualno drevo za uporabnikov stil življenja\n",
    "\n",
    "■ Konceptualno drevo za motivacijo uporabe\n",
    "\n",
    "■ Konceptualno drevo za lastnosti storitev in produktov\n",
    "\n",
    "■ Izvedba uporabniške raziskave in analize\n",
    "\n",
    "\n",
    "\n",
    "\n",
    "\n",
    "\n",
    "\n",
    "<p style=\"margin-bottom:1cm;\"></p>\n",
    "<div style=\"width:100%;text-align:right;font-weight:bold;font-size:1.2em;\"> 9 </div>\n",
    "<img src=\"https://raw.githubusercontent.com/andrejkk/ORvTK_SlidesImgs/master/footer_full.jpg\">"
   ]
  },
  {
   "cell_type": "markdown",
   "metadata": {
    "slideshow": {
     "slide_type": "slide"
    }
   },
   "source": [
    "<div style=\"display:flex;font-weight:bold;font-size:0.9em;\">\n",
    "<div style=\"flex:1;width:50%;text-align:left;\"> Modeliranje uporabnikov: segmentacija  </div>\n",
    "</div>\n",
    "\n",
    "\n",
    "# ■ Uvod\n",
    "\n",
    "Segmentiranje mobilnih uporabnikov je razdelitev v segmente na podlagi vzorcev uporabe, vedenja in preferenc, ki so značilni za mobilne platforme. S porastom števila uporabnikov, ki uporabljajo samo mobilne naprave, je segmentacija postala ključna za optimizacijo strategij mobilnega trženja, oblikovanja aplikacij in uporabniške izkušnje.\n",
    "\n",
    "\n",
    "Obsega tri dimenzije\n",
    "1. uporabnikov stil življenja\n",
    "2. motivacija za uporabo mobilnih komunikacij\n",
    "3. lastnosti storitev in produktov\n",
    "\n",
    "\n",
    "Za vsako navajamo konceptualna drevesa, ki služijo za osnovo izvedbe uporabniških študij.\n",
    "\n",
    "\n",
    "<p style=\"margin-bottom:1cm;\"></p>\n",
    "<div style=\"width:100%;text-align:right;font-weight:bold;font-size:1.2em;\"> 10 </div>\n",
    "<img src=\"https://raw.githubusercontent.com/andrejkk/ORvTK_SlidesImgs/master/footer_full.jpg\">"
   ]
  },
  {
   "cell_type": "markdown",
   "metadata": {},
   "source": [
    "<div style=\"display:flex;font-weight:bold;font-size:0.9em;\">\n",
    "<div style=\"flex:1;width:50%;text-align:left;\"> Modeliranje uporabnikov: segmentacija  </div>\n",
    "</div>\n",
    "\n",
    "\n",
    "# ■ Dimenzije segemtov uporabnikov mobilnih komunikacij\n",
    "\n",
    "Bazična segmentacija je vhod v\n",
    "\n",
    "Obsega tri dimenzije\n",
    "- uporabnikov stil življenja\n",
    "- motivacija za uporabo mobilnih komunikacij\n",
    "- lastnosti storitev in produktov\n",
    "\n",
    "\n",
    "Za vsako navajamo konceptualna drevesa, ki služijo za osnovo izvedbe uporabniških študij.\n",
    "\n",
    "\n",
    "<p style=\"margin-bottom:1cm;\"></p>\n",
    "<div style=\"width:100%;text-align:right;font-weight:bold;font-size:1.2em;\"> 10 </div>\n",
    "<img src=\"https://raw.githubusercontent.com/andrejkk/ORvTK_SlidesImgs/master/footer_full.jpg\">"
   ]
  },
  {
   "cell_type": "markdown",
   "metadata": {
    "slideshow": {
     "slide_type": "slide"
    }
   },
   "source": [
    "<div style=\"display:flex;font-weight:bold;font-size:0.9em;\">\n",
    "<div style=\"flex:1;width:50%;text-align:left;\"> Modeliranje uporabnikov: segmentacija  </div>\n",
    "</div>\n",
    "\n",
    "\n",
    "# ■ Konceptualno drevo za uporabnikov stil življenja\n",
    "\n",
    "Stil življenja vpliva na segmentacijo uporabnikov katerikoli storitev. Pomembna informacija je kateri vidiki stila življenja so relevantni za dano segmentacijo.\n",
    "\n",
    "<br>\n",
    "<figure>\n",
    "  <img src=\"https://raw.githubusercontent.com/andrejkk/ORvTK_SlidesImgs/master/CommunicationUserSegmentation_LifeStyle_SLO.png\" width=\"60%\">\n",
    "  <figcaption>Vir: Mazzoni in dr.: Market segmentation of mobile communication: overview and concept maps, 2019.</figcaption>\n",
    "</figure>\n",
    "\n",
    "\n",
    "\n",
    "\n",
    "<p style=\"margin-bottom:1cm;\"></p>\n",
    "<div style=\"width:100%;text-align:right;font-weight:bold;font-size:1.2em;\"> 11 </div>\n",
    "<img src=\"https://raw.githubusercontent.com/andrejkk/ORvTK_SlidesImgs/master/footer_full.jpg\">"
   ]
  },
  {
   "cell_type": "markdown",
   "metadata": {
    "slideshow": {
     "slide_type": "slide"
    }
   },
   "source": [
    "<div style=\"display:flex;font-weight:bold;font-size:0.9em;\">\n",
    "<div style=\"flex:1;width:50%;text-align:left;\"> Modeliranje uporabnikov: segmentacija  </div>\n",
    "</div>\n",
    "\n",
    "\n",
    "# ■ Konceptualno drevo za motivacijo uporabe\n",
    "\n",
    "\n",
    "Motivacija za uporabo v veliki meri določa cilje uporabe in je bistvena za načrtovanje storitev.\n",
    "\n",
    "<br>\n",
    "<figure>\n",
    "  <img src=\"https://raw.githubusercontent.com/andrejkk/ORvTK_SlidesImgs/master/CommunicationUserSegmentation_Motivation_SLO.png\" width=\"50%\">\n",
    "  <figcaption>Vir: Mazzoni in dr.: Market segmentation of mobile communication: overview and concept maps, 2019.</figcaption>\n",
    "</figure>\n",
    "\n",
    "\n",
    "<p style=\"margin-bottom:1cm;\"></p>\n",
    "<div style=\"width:100%;text-align:right;font-weight:bold;font-size:1.2em;\"> 12 </div>\n",
    "<img src=\"https://raw.githubusercontent.com/andrejkk/ORvTK_SlidesImgs/master/footer_full.jpg\">"
   ]
  },
  {
   "cell_type": "markdown",
   "metadata": {
    "slideshow": {
     "slide_type": "slide"
    }
   },
   "source": [
    "<div style=\"display:flex;font-weight:bold;font-size:0.9em;\">\n",
    "<div style=\"flex:1;width:50%;text-align:left;\"> Modeliranje uporabnikov: segmentacija  </div>\n",
    "</div>\n",
    "\n",
    "\n",
    "# ■ Konceptualno drevo za lastnosti storitev in produktov\n",
    "\n",
    "\n",
    "Motivacija za uporabo v veliki meri določa cilje uporabe in je bistvena za načrtovanje storitev.\n",
    "\n",
    "<br><br>\n",
    "<figure>\n",
    "  <img src=\"https://raw.githubusercontent.com/andrejkk/ORvTK_SlidesImgs/master/CommunicationUserSegmentation_Attributes_SLO.png\" width=\"40%\">\n",
    "  <figcaption>Vir: Mazzoni in dr.: Market segmentation of mobile communication: overview and concept maps, 2019.</figcaption>\n",
    "</figure>\n",
    "\n",
    "\n",
    "\n",
    "\n",
    "<p style=\"margin-bottom:1cm;\"></p>\n",
    "<div style=\"width:100%;text-align:right;font-weight:bold;font-size:1.2em;\"> 13 </div>\n",
    "<img src=\"https://raw.githubusercontent.com/andrejkk/ORvTK_SlidesImgs/master/footer_full.jpg\">"
   ]
  },
  {
   "cell_type": "markdown",
   "metadata": {
    "slideshow": {
     "slide_type": "slide"
    }
   },
   "source": [
    "<div style=\"display:flex;font-weight:bold;font-size:0.9em;\">\n",
    "<div style=\"flex:1;width:50%;text-align:left;\"> Modeliranje uporabnikov: segmentacija  </div>\n",
    "</div>\n",
    "\n",
    "\n",
    "# ■ Izvedba uporabniške raziskave in analize\n",
    "\n",
    "\n",
    "- glede na konceptualno drevo izberemo vprašalnike in izdelamo načrt eksperimenta\n",
    "- uporabimo klasične metode analize podatkov: korespondenčna analiza, rojenje (angl. clustering)\n",
    "\n",
    "\n",
    "Za Slovenijo ni dostopnih podatkov. \n",
    "\n",
    "\n",
    "\n",
    "\n",
    "\n",
    "<p style=\"margin-bottom:1cm;\"></p>\n",
    "<div style=\"width:100%;text-align:right;font-weight:bold;font-size:1.2em;\"> 14 </div>\n",
    "<img src=\"https://raw.githubusercontent.com/andrejkk/ORvTK_SlidesImgs/master/footer_full.jpg\">"
   ]
  },
  {
   "cell_type": "markdown",
   "metadata": {
    "slideshow": {
     "slide_type": "slide"
    }
   },
   "source": [
    "<div style=\"display:flex;font-weight:bold;font-size:0.9em;\">\n",
    "<div style=\"flex:1;width:50%;text-align:left;\"> Modeliranje uporabnikov: segmentacija  </div>\n",
    "</div>\n",
    "\n",
    "\n",
    "# ■ Zaključki\n",
    "\n",
    "\n",
    "- segmentacije uporabnikov temeljijo na marketinških raziskavah. V okviru (tele) komunikacij te služijo za osnovno segmentacijo;\n",
    "- rezultati segmentacije so zelo specifično odvisni od ciljev segmentacije\n",
    "- segmentacija uporabnikov na osnovi obnašanja je v razvoju in rezultati še niso v realni rabi\n",
    "\n",
    "<p style=\"margin-bottom:1cm;\"></p>\n",
    "<div style=\"width:100%;text-align:right;font-weight:bold;font-size:1.2em;\"> 15 </div>\n",
    "<img src=\"https://raw.githubusercontent.com/andrejkk/ORvTK_SlidesImgs/master/footer_full.jpg\">"
   ]
  },
  {
   "cell_type": "code",
   "execution_count": null,
   "metadata": {},
   "outputs": [],
   "source": []
  }
 ],
 "metadata": {
  "celltoolbar": "Slideshow",
  "kernelspec": {
   "display_name": "Python 3.10.5 64-bit",
   "language": "python",
   "name": "python3"
  },
  "language_info": {
   "codemirror_mode": {
    "name": "ipython",
    "version": 3
   },
   "file_extension": ".py",
   "mimetype": "text/x-python",
   "name": "python",
   "nbconvert_exporter": "python",
   "pygments_lexer": "ipython3",
   "version": "3.10.5"
  },
  "vscode": {
   "interpreter": {
    "hash": "66d245bc0aa345411577de3f292b9e6a6906f0558af2a59212c3c2455e5d14f2"
   }
  }
 },
 "nbformat": 4,
 "nbformat_minor": 2
}
