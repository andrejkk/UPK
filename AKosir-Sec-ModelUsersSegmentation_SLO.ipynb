{
 "cells": [
  {
   "cell_type": "code",
   "execution_count": null,
   "metadata": {},
   "outputs": [],
   "source": []
  },
  {
   "cell_type": "markdown",
   "metadata": {
    "collapsed": true,
    "slideshow": {
     "slide_type": "slide"
    }
   },
   "source": [
    "<img style=\"float: center; width: 100%\" src=\"https://raw.githubusercontent.com/andrejkk/TalksImgs/master/FrontSlideUpperBan.png\">\n",
    "<p style=\"margin-bottom:2cm;\"></p>\n",
    "\n",
    "<center>\n",
    "    <H1> Modeliranje uporabnikov: segmentacija </H1>\n",
    "   \n",
    "\n",
    "\n",
    "<br><br>\n",
    "    <H3> Andrej Košir, Lucami, FE </H3>\n",
    "    <H4> Kontakt: prof. dr. Andrej Košir, andrej.kosir@lucami.fe.uni-lj.si, skype=akosir_sid </H4>\n",
    "</center>\n",
    "\n",
    "\n",
    "\n",
    "<p style=\"margin-bottom:1cm;\"></p>\n",
    "<div style=\"width:100%;text-align:right;font-weight:bold;font-size:1.2em;\"> 1 </div>\n",
    "<img src=\"https://raw.githubusercontent.com/andrejkk/ORvTK_SlidesImgs/master/footer_full.jpg\">"
   ]
  },
  {
   "cell_type": "markdown",
   "metadata": {
    "slideshow": {
     "slide_type": "slide"
    }
   },
   "source": [
    "<div style=\"display:flex;font-weight:bold;font-size:0.9em;\">\n",
    "<div style=\"flex:1;width:50%;text-align:left;\"> Modeliranje uporabnikov: segmentacija  </div>\n",
    "</div>\n",
    "\n",
    "\n",
    "## Cilji\n",
    "\n",
    "- seznaniti se s pomenom uporabniške segmentacije\n",
    "- spoznati primer segmentacije\n",
    "- spoznati osnovne mehanizme določanja segmentov\n",
    "\n",
    "\n",
    "\n",
    "<p style=\"margin-bottom:1cm;\"></p>\n",
    "<div style=\"width:100%;text-align:right;font-weight:bold;font-size:1.2em;\"> 2 </div>\n",
    "<img src=\"https://raw.githubusercontent.com/andrejkk/ORvTK_SlidesImgs/master/footer_full.jpg\">"
   ]
  },
  {
   "cell_type": "markdown",
   "metadata": {
    "slideshow": {
     "slide_type": "slide"
    }
   },
   "source": [
    "<div style=\"display:flex;font-weight:bold;font-size:0.9em;\">\n",
    "<div style=\"flex:1;width:50%;text-align:left;\"> Modeliranje uporabnikov: segmentacija  </div>\n",
    "</div>\n",
    "\n",
    "\n",
    "# ■ Uvod\n",
    "\n",
    "#### Def. Segmentacija je grupiranje uporabnikov glede na izbrane značilnosti\n",
    "\n",
    "\n",
    "#### Uvodne opombe\n",
    "\n",
    "- segmentacija uporabnikov je vhodna informacija v optimizacijo storitev: učinkovita segmentacija je možna znotraj posameznega segmenta\n",
    "- večinoma temeljijo na marketing analizah\n",
    "- zelo specifično po področjih\n",
    "- različne so tudi metodologije. Najbolj razvite so tržne segmentacije\n",
    "- Primer: indeks ciljnih skupin (TGI) v Sloveniji\n",
    "\n",
    "\n",
    "\n",
    "<p style=\"margin-bottom:1cm;\"></p>\n",
    "<div style=\"width:100%;text-align:right;font-weight:bold;font-size:1.2em;\"> 3 </div>\n",
    "<img src=\"https://raw.githubusercontent.com/andrejkk/ORvTK_SlidesImgs/master/footer_full.jpg\">"
   ]
  },
  {
   "cell_type": "markdown",
   "metadata": {
    "slideshow": {
     "slide_type": "slide"
    }
   },
   "source": [
    "<div style=\"display:flex;font-weight:bold;font-size:0.9em;\">\n",
    "<div style=\"flex:1;width:50%;text-align:left;\"> Modeliranje uporabnikov: segmentacija  </div>\n",
    "</div>\n",
    "\n",
    "\n",
    "# 1. Segmentacija TGI\n",
    "\n",
    "■ Uvod - kaj je segmentacija\n",
    "\n",
    "■ Kaj je segmentacija TGI\n",
    "\n",
    "■ Cilji TGI - kaj nudi\n",
    "\n",
    "■ Sektorji uporabnikov\n",
    "\n",
    "■ Segmenti uporabnikov\n",
    "\n",
    "■ Zaključki\n",
    "\n",
    "\n",
    "\n",
    "\n",
    "\n",
    "<p style=\"margin-bottom:1cm;\"></p>\n",
    "<div style=\"width:100%;text-align:right;font-weight:bold;font-size:1.2em;\"> 4 </div>\n",
    "<img src=\"https://raw.githubusercontent.com/andrejkk/ORvTK_SlidesImgs/master/footer_full.jpg\">"
   ]
  },
  {
   "cell_type": "markdown",
   "metadata": {
    "slideshow": {
     "slide_type": "slide"
    }
   },
   "source": [
    "<div style=\"display:flex;font-weight:bold;font-size:0.9em;\">\n",
    "<div style=\"flex:1;width:50%;text-align:left;\"> Modeliranje uporabnikov: segmentacija  </div>\n",
    "</div>\n",
    "\n",
    "\n",
    "# ■ Kaj je segmentacija TGI\n",
    "\n",
    "Segmentacija uporabnikov TGI (angl. Target Group Index) je sistem vprašalnikov za izdelavo segmentacije uproabnikov, glejte npr. https://www.warc.com/partners/tgi. \n",
    "\n",
    "\n",
    "Tehnike in rezultati segmentacije so v veliki meri odvisni od ciljev in izbranega podorčja. Zato predstavljamo slovenski primer segmentacije po TGI pristopu. \n",
    "\n",
    "\n",
    "\n",
    "Okvir zajema podatkov za segmentacijo:\n",
    " - število responednetov n=4000 letno \n",
    " - starost: 15 do 75 let\n",
    " - vzorčenje: enostaven naključni vzorec, reprezentativen za Slovenijo po spolu, starosti in regijah\n",
    "\n",
    "\n",
    "<p style=\"margin-bottom:1cm;\"></p>\n",
    "<div style=\"width:100%;text-align:right;font-weight:bold;font-size:1.2em;\"> 5 </div>\n",
    "<img src=\"https://raw.githubusercontent.com/andrejkk/ORvTK_SlidesImgs/master/footer_full.jpg\">"
   ]
  },
  {
   "cell_type": "markdown",
   "metadata": {
    "slideshow": {
     "slide_type": "slide"
    }
   },
   "source": [
    "<div style=\"display:flex;font-weight:bold;font-size:0.9em;\">\n",
    "<div style=\"flex:1;width:50%;text-align:left;\"> Modeliranje uporabnikov: segmentacija  </div>\n",
    "</div>\n",
    "\n",
    "\n",
    "# ■ Cilji TGI - kaj nudi\n",
    "\n",
    "\n",
    "\n",
    "Cilj segmentacije TGI je\n",
    "- določiti splošne segmente\n",
    "- zbrati karakteristike segmentov, ki so uporabni za posamezen segment\n",
    "\n",
    "\n",
    "\n",
    "\n",
    "Raziskava TGI omogoča:\n",
    "- Razumeti stanje na trgu;\n",
    "- Identificirati pravilno ciljno skupino;\n",
    "- Podrobno spoznati ciljno skupino in jo personalizirati;\n",
    "- Spoznati naročnikove in konkurenčne uporabnike;\n",
    "- Razumeti obnašanje potrošnikov na trgu;\n",
    "- Razumeti  uporabo znamk in njihove konkurenčne prednosti\n",
    "- Odkriti najboljši način za komuniciranje;\n",
    "- Strateško in taktično medijsko planiranje;\n",
    "- Segmentacije za različne trge;\n",
    "\n",
    "\n",
    "<p style=\"margin-bottom:1cm;\"></p>\n",
    "<div style=\"width:100%;text-align:right;font-weight:bold;font-size:1.2em;\"> 6 </div>\n",
    "<img src=\"https://raw.githubusercontent.com/andrejkk/ORvTK_SlidesImgs/master/footer_full.jpg\">"
   ]
  },
  {
   "cell_type": "markdown",
   "metadata": {
    "slideshow": {
     "slide_type": "slide"
    }
   },
   "source": [
    "<div style=\"display:flex;font-weight:bold;font-size:0.9em;\">\n",
    "<div style=\"flex:1;width:50%;text-align:left;\"> Modeliranje uporabnikov: segmentacija  </div>\n",
    "</div>\n",
    "\n",
    "\n",
    "# ■ Sektorji uporabnikov\n",
    "\n",
    "Sektorji uporabniki so povsem splošni - za (tele)komunikacije je to predsegmentacija:\n",
    "- hrana\n",
    "- gospdinjski izdelki\n",
    "- domače živali in hrana za živali\n",
    "- osebna nega in kozmetika\n",
    "- farmacevtski izdelki \n",
    "- nakupovanje, trgovine in oblačila\n",
    "- avtomobilizem\n",
    "- počitnice in potovanja\n",
    "- bančne in finančne storitve\n",
    "- šport in prosti čas\n",
    "- DIY in vrtnarjenje\n",
    "- sladkarije in prigrizki\n",
    "- tobačni izdelki\n",
    "- brezalkoholne pijače\n",
    "- alkoholne pijače\n",
    "- **komunikacije in internet**\n",
    "- bela tehnika in mali gospodinjski aparati\n",
    "- elektronika\n",
    "\n",
    "<p style=\"margin-bottom:1cm;\"></p>\n",
    "<div style=\"width:100%;text-align:right;font-weight:bold;font-size:1.2em;\"> 7 </div>\n",
    "<img src=\"https://raw.githubusercontent.com/andrejkk/ORvTK_SlidesImgs/master/footer_full.jpg\">"
   ]
  },
  {
   "cell_type": "markdown",
   "metadata": {
    "slideshow": {
     "slide_type": "slide"
    }
   },
   "source": [
    "<div style=\"display:flex;font-weight:bold;font-size:0.9em;\">\n",
    "<div style=\"flex:1;width:50%;text-align:left;\"> Modeliranje uporabnikov: segmentacija  </div>\n",
    "</div>\n",
    "\n",
    "\n",
    "# ■ Segmenti uporabniki\n",
    "\n",
    "To je rezultat analize z opisi, kjer je bil cilj razumeti nakupovalne navade.\n",
    "\n",
    "|Segment |Opis |\n",
    "|:--- |:--- |\n",
    "|ČASTILCI KAKOVOSTI|Za kvalitetne proizvode so pripravljeni plačati dodatno, sploh če ustrezajo njihovemu okusu in stilu. |\n",
    "|BIO SPECIALCI|Kupujejo ekološko pridelano meso, mlečne izdelke, sadje in zelenjavo, so pozorni na prosto rejo, ekološka potrdila in pravično trgovino. |\n",
    "|BIO SLEDILCI|Kupujejo ekološko pridelano meso, mlečne izdelke, sadje in zelenjavo. |\n",
    "|SPLETNI NAVDUŠENCI|Najpogosteje od vseh segmentov kupujejo preko spleta, in sicer vse vrste izdelkov.|\n",
    "|PREUDARNI KUPCI|Ne kupujejo najcenejših izdelkov, so pa izredno pozorni na promocijske aktivnosti in nagrade. |\n",
    "|LOVCI NA POPUSTE|Največ jim pomenijo cenovne promocije, izbirajo najnižje cene in se ne poglabljajo v ostalo ponudbo. |\n",
    "\n",
    "\n",
    "\n",
    "\n",
    "<p style=\"margin-bottom:1cm;\"></p>\n",
    "<div style=\"width:100%;text-align:right;font-weight:bold;font-size:1.2em;\"> 8 </div>\n",
    "<img src=\"https://raw.githubusercontent.com/andrejkk/ORvTK_SlidesImgs/master/footer_full.jpg\">"
   ]
  },
  {
   "cell_type": "markdown",
   "metadata": {
    "slideshow": {
     "slide_type": "slide"
    }
   },
   "source": [
    "<div style=\"display:flex;font-weight:bold;font-size:0.9em;\">\n",
    "<div style=\"flex:1;width:50%;text-align:left;\"> Modeliranje uporabnikov: segmentacija  </div>\n",
    "</div>\n",
    "\n",
    "\n",
    "# 2. Segmentacija uporabnikov mobilnih komunikacij\n",
    "\n",
    "\n",
    "■ Dimenzije segemtov uporabnikov mobilnih komunikacij $\\large{*}$\n",
    "\n",
    "■ Konceptualno drevo za uporabnikov stil življenja\n",
    "\n",
    "■ Konceptualno drevo za motivacijo uporabe\n",
    "\n",
    "■ Konceptualno drevo za lastnosti storitev in produktov\n",
    "\n",
    "■ Izvedba uporabniške raziskave in analize\n",
    "\n",
    "\n",
    "\n",
    "\n",
    "\n",
    "\n",
    "\n",
    "<p style=\"margin-bottom:1cm;\"></p>\n",
    "<div style=\"width:100%;text-align:right;font-weight:bold;font-size:1.2em;\"> 9 </div>\n",
    "<img src=\"https://raw.githubusercontent.com/andrejkk/ORvTK_SlidesImgs/master/footer_full.jpg\">"
   ]
  },
  {
   "cell_type": "markdown",
   "metadata": {
    "slideshow": {
     "slide_type": "slide"
    }
   },
   "source": [
    "<div style=\"display:flex;font-weight:bold;font-size:0.9em;\">\n",
    "<div style=\"flex:1;width:50%;text-align:left;\"> Modeliranje uporabnikov: segmentacija  </div>\n",
    "</div>\n",
    "\n",
    "\n",
    "# ■ Dimenzije segemtov uporabnikov mobilnih komunikacij\n",
    "\n",
    "Bazična segmentacija je vhod v\n",
    "\n",
    "Obsega tri dimenzije\n",
    "- uporabnikov stil življenja\n",
    "- motivacija za uporabo mobilnih komunikacij\n",
    "- lastnosti storitev in produktov\n",
    "\n",
    "\n",
    "Za vsako navajamo konceptualna drevesa, ki služijo za osnovo izvedbe uporabniških študij.\n",
    "\n",
    "\n",
    "<p style=\"margin-bottom:1cm;\"></p>\n",
    "<div style=\"width:100%;text-align:right;font-weight:bold;font-size:1.2em;\"> 10 </div>\n",
    "<img src=\"https://raw.githubusercontent.com/andrejkk/ORvTK_SlidesImgs/master/footer_full.jpg\">"
   ]
  },
  {
   "cell_type": "markdown",
   "metadata": {
    "slideshow": {
     "slide_type": "slide"
    }
   },
   "source": [
    "<div style=\"display:flex;font-weight:bold;font-size:0.9em;\">\n",
    "<div style=\"flex:1;width:50%;text-align:left;\"> Modeliranje uporabnikov: segmentacija  </div>\n",
    "</div>\n",
    "\n",
    "\n",
    "# ■ Konceptualno drevo za uporabnikov stil življenja\n",
    "\n",
    "Stil življenja vpliva na segmentacijo uporabnikov katerikoli storitev. Pomembna informacija je kateri vidiki stila življenja so relevantni za dano segmentacijo.\n",
    "\n",
    "<br>\n",
    "<figure>\n",
    "  <img src=\"https://raw.githubusercontent.com/andrejkk/ORvTK_SlidesImgs/master/CommunicationUserSegmentation_LifeStyle_SLO.png\" width=\"60%\">\n",
    "  <figcaption>Vir: Mazzoni in dr.: Market segmentation of mobile communication: overview and concept maps, 2019.</figcaption>\n",
    "</figure>\n",
    "\n",
    "\n",
    "\n",
    "\n",
    "<p style=\"margin-bottom:1cm;\"></p>\n",
    "<div style=\"width:100%;text-align:right;font-weight:bold;font-size:1.2em;\"> 11 </div>\n",
    "<img src=\"https://raw.githubusercontent.com/andrejkk/ORvTK_SlidesImgs/master/footer_full.jpg\">"
   ]
  },
  {
   "cell_type": "markdown",
   "metadata": {
    "slideshow": {
     "slide_type": "slide"
    }
   },
   "source": [
    "<div style=\"display:flex;font-weight:bold;font-size:0.9em;\">\n",
    "<div style=\"flex:1;width:50%;text-align:left;\"> Modeliranje uporabnikov: segmentacija  </div>\n",
    "</div>\n",
    "\n",
    "\n",
    "# ■ Konceptualno drevo za motivacijo uporabe\n",
    "\n",
    "\n",
    "Motivacija za uporabo v veliki meri določa cilje uporabe in je bistvena za načrtovanje storitev.\n",
    "\n",
    "<br>\n",
    "<figure>\n",
    "  <img src=\"https://raw.githubusercontent.com/andrejkk/ORvTK_SlidesImgs/master/CommunicationUserSegmentation_Motivation_SLO.png\" width=\"50%\">\n",
    "  <figcaption>Vir: Mazzoni in dr.: Market segmentation of mobile communication: overview and concept maps, 2019.</figcaption>\n",
    "</figure>\n",
    "\n",
    "\n",
    "<p style=\"margin-bottom:1cm;\"></p>\n",
    "<div style=\"width:100%;text-align:right;font-weight:bold;font-size:1.2em;\"> 12 </div>\n",
    "<img src=\"https://raw.githubusercontent.com/andrejkk/ORvTK_SlidesImgs/master/footer_full.jpg\">"
   ]
  },
  {
   "cell_type": "markdown",
   "metadata": {
    "slideshow": {
     "slide_type": "slide"
    }
   },
   "source": [
    "<div style=\"display:flex;font-weight:bold;font-size:0.9em;\">\n",
    "<div style=\"flex:1;width:50%;text-align:left;\"> Modeliranje uporabnikov: segmentacija  </div>\n",
    "</div>\n",
    "\n",
    "\n",
    "# ■ Konceptualno drevo za lastnosti storitev in produktov\n",
    "\n",
    "\n",
    "Motivacija za uporabo v veliki meri določa cilje uporabe in je bistvena za načrtovanje storitev.\n",
    "\n",
    "<br><br>\n",
    "<figure>\n",
    "  <img src=\"https://raw.githubusercontent.com/andrejkk/ORvTK_SlidesImgs/master/CommunicationUserSegmentation_Attributes_SLO.png\" width=\"40%\">\n",
    "  <figcaption>Vir: Mazzoni in dr.: Market segmentation of mobile communication: overview and concept maps, 2019.</figcaption>\n",
    "</figure>\n",
    "\n",
    "\n",
    "\n",
    "\n",
    "<p style=\"margin-bottom:1cm;\"></p>\n",
    "<div style=\"width:100%;text-align:right;font-weight:bold;font-size:1.2em;\"> 13 </div>\n",
    "<img src=\"https://raw.githubusercontent.com/andrejkk/ORvTK_SlidesImgs/master/footer_full.jpg\">"
   ]
  },
  {
   "cell_type": "markdown",
   "metadata": {
    "slideshow": {
     "slide_type": "slide"
    }
   },
   "source": [
    "<div style=\"display:flex;font-weight:bold;font-size:0.9em;\">\n",
    "<div style=\"flex:1;width:50%;text-align:left;\"> Modeliranje uporabnikov: segmentacija  </div>\n",
    "</div>\n",
    "\n",
    "\n",
    "# ■ Izvedba uporabniške raziskave in analize\n",
    "\n",
    "\n",
    "- glede na konceptualno drevo izberemo vprašalnike in izdelamo načrt eksperimenta\n",
    "- uporabimo klasične metode analize podatkov: korespondenčna analiza, rojenje (angl. clustering)\n",
    "\n",
    "\n",
    "Za Slovenijo ni dostopnih podatkov. \n",
    "\n",
    "\n",
    "\n",
    "\n",
    "<p style=\"margin-bottom:1cm;\"></p>\n",
    "<div style=\"width:100%;text-align:right;font-weight:bold;font-size:1.2em;\"> 14 </div>\n",
    "<img src=\"https://raw.githubusercontent.com/andrejkk/ORvTK_SlidesImgs/master/footer_full.jpg\">"
   ]
  },
  {
   "cell_type": "markdown",
   "metadata": {
    "slideshow": {
     "slide_type": "slide"
    }
   },
   "source": [
    "<div style=\"display:flex;font-weight:bold;font-size:0.9em;\">\n",
    "<div style=\"flex:1;width:50%;text-align:left;\"> Modeliranje uporabnikov: segmentacija  </div>\n",
    "</div>\n",
    "\n",
    "\n",
    "# ■ Zaključki\n",
    "\n",
    "\n",
    "- segmentacije uporabnikov temeljijo na marketinških raziskavah. V okviru (tele) komunikacij te služijo za osnovno segmentacijo;\n",
    "- rezultati segmentacije so zelo specifično odvisni od ciljev segmentacije\n",
    "- segmentacija uporabnikov na osnovi obnašanja je v razvoju in rezultati še niso v realni rabi\n",
    "\n",
    "<p style=\"margin-bottom:1cm;\"></p>\n",
    "<div style=\"width:100%;text-align:right;font-weight:bold;font-size:1.2em;\"> 15 </div>\n",
    "<img src=\"https://raw.githubusercontent.com/andrejkk/ORvTK_SlidesImgs/master/footer_full.jpg\">"
   ]
  },
  {
   "cell_type": "code",
   "execution_count": null,
   "metadata": {},
   "outputs": [],
   "source": []
  }
 ],
 "metadata": {
  "celltoolbar": "Slideshow",
  "kernelspec": {
   "display_name": "Python 3.10.5 64-bit (system)",
   "language": "python",
   "name": "python3"
  },
  "language_info": {
   "codemirror_mode": {
    "name": "ipython",
    "version": 3
   },
   "file_extension": ".py",
   "mimetype": "text/x-python",
   "name": "python",
   "nbconvert_exporter": "python",
   "pygments_lexer": "ipython3",
   "version": "3.10.5"
  },
  "vscode": {
   "interpreter": {
    "hash": "39db316db9761e257bdee1753ffe77075a3d1bd2d26cf1cdd7fab9938bfc2516"
   }
  }
 },
 "nbformat": 4,
 "nbformat_minor": 2
}
