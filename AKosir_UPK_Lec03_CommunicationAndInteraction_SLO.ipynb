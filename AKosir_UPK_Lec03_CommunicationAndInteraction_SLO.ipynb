{
  "cells": [
    {
      "metadata": {
        "collapsed": true,
        "slideshow": {
          "slide_type": "slide"
        }
      },
      "cell_type": "markdown",
      "source": "## <img style=\"float: center; width: 100%\" src=\"https://raw.githubusercontent.com/andrejkk/TalksImgs/master/FrontSlideUpperBan.png\">\n<p style=\"margin-bottom:2cm;\"></p>\n\n<center>\n    <H1>  3. Komunikacija med uporabnikom in storitvijo </H1>\n\n\n<br>\n    <H3> Andrej Košir, Lucami, FE </H4>\n    \n    <H4> Kontakt: prof. dr. Andrej Košir, andrej.kosir@lucami.fe.uni-lj.si, skype=akosir_sid </H4>\n</center>\n\n\n<p style=\"margin-bottom:2cm;\"></p>\n<img src=\"https://raw.githubusercontent.com/andrejkk/ORvTK_SlidesImgs/master/footer_full.jpg\">\n"
    },
    {
      "metadata": {},
      "cell_type": "markdown",
      "source": "<div style=\"display:flex;font-weight:bold;font-size:0.9em;\">\n<div style=\"flex:1;width:50%;\"> 3. Komunikacija med uporabnikom in storitvijo </div>\n<div style=\"flex:1;width:50%;text-align:right;\"> 3. 1. Uvod </div>\n</div>\n\n### Cilj poglavja\n\nCilj poglavja komunikacija med uporabnikom in storitvijo je opis in model interakcije v vlogi prilagajanja storitev.  \n\n\n\n\n\n<p style=\"margin-bottom:2cm;\"></p>\n<div style=\"width:100%;text-align:right;font-weight:bold;font-size:1.2em;\"> 1 </div>\n<img src=\"https://raw.githubusercontent.com/andrejkk/ORvTK_SlidesImgs/master/footer_full.jpg\">"
    },
    {
      "metadata": {},
      "cell_type": "markdown",
      "source": "<div style=\"display:flex;font-weight:bold;font-size:0.9em;\">\n<div style=\"flex:1;width:50%;\"> 3. Komunikacija med uporabnikom in storitvijo </div>\n<div style=\"flex:1;width:50%;text-align:right;\"> 3. 1. Uvod </div>\n</div>\n\n## Vsebina\n\nV poglavju pokrijemo izbrane za uporabniku prilagojeno komunikacijo relevantne vidike komunikacije med udeležencema. Pri tem je pomembno poudariti, da komunikacija teče v obe smeri. \n\n\n3.1. Uvod\n\n■ Kaj je komunikacija in terminologija poglavja*\n\n■ Vidiki interakcije*\n\n\n3.2. Modeli interakcije\n\n■ Zakaj modeli interakcije\n\n\n3.2.1 Model Donalda Normana\n\n■ Opis modela Donalda Normana*\n\n■ Komunikacijska / interakcijska zanka*\n\n■ Primer Normanovega modela: pošiljanje elektronske pošte\n\n\n3.2.2 Elementi interakcije na nivoju toka informacij\n\n■ Uvod\n\n■ Brunswickova leča*\n\n■ Diagram poteka komunkacije*\n\n■ Zaključek\n\n\n\n\n<p style=\"margin-bottom:1cm;\"></p>\n<div style=\"width:100%;text-align:right;font-weight:bold;font-size:1.2em;\"> 2 </div>\n<img src=\"https://raw.githubusercontent.com/andrejkk/ORvTK_SlidesImgs/master/footer_full.jpg\">"
    },
    {
      "metadata": {},
      "cell_type": "markdown",
      "source": "<div style=\"display:flex;font-weight:bold;font-size:0.9em;\">\n<div style=\"flex:1;width:50%;\"> 3. Komunikacija med uporabnikom in storitvijo </div>\n<div style=\"flex:1;width:50%;text-align:right;\"> 3. 1. Uvod </div>\n</div>\n\n##  ■ Kaj je komunikacija in terminologija poglavja\n\n\nInterakcija je komunikacija med uporabnikom in sistemom (napravo, storitvijo). Torej je interakcija poseben primer komunikacije.\n\n\nTerminologija: <br>\n<table style=\"width:90%\">\n  <tr>\n    <td style=\"text-align:left\">**Izraz**</td>\n    <td style=\"text-align:left\">**Term**</td> \n    <td style=\"text-align:left\">**Opis**</td>\n  </tr>\n  <tr>\n    <td style=\"text-align:left\">Komunikacija</td>\n    <td style=\"text-align:left\">Communication</td> \n    <td style=\"text-align:left\">Komunikacija je usmerjen prenos informacije. Na našem področju med uporabnikom in storitviji, v obe smeri. </td>\n  </tr>\n  <tr>\n    <td style=\"text-align:left\">Interakcija</td>\n    <td style=\"text-align:left\">Interaction</td> \n    <td style=\"text-align:left\">Interakcija je poseben primer komunikcije. </td>\n  </tr>\n  <tr>\n    <td style=\"text-align:left\">Model interakcije </td>\n    <td style=\"text-align:left\">Interaction model</td> \n    <td style=\"text-align:left\">Model interakcije je razgradnja interakcije na izbrane pomembne vidiek v smislu podpostopkov in njihovega sosledja. </td>\n  </tr>\n</table>\n\n<p style=\"margin-bottom:2cm;\"></p>\n<div style=\"width:100%;text-align:right;font-weight:bold;font-size:1.2em;\"> 4 </div>\n<img src=\"https://raw.githubusercontent.com/andrejkk/ORvTK_SlidesImgs/master/footer_full.jpg\">"
    },
    {
      "metadata": {},
      "cell_type": "markdown",
      "source": "<div style=\"display:flex;font-weight:bold;font-size:0.9em;\">\n<div style=\"flex:1;width:50%;\"> 3. Komunikacija med uporabnikom in storitvijo </div>\n<div style=\"flex:1;width:50%;text-align:right;\"> 3. 1. Uvod </div>\n</div>\n\n##  ■ Vidiki interakcije\n\nInterakcija kot bistveni del komunikacije pri uporabniškem prilagajanju je zelo kompleksen proces, ki ima naslednje setavne dele: \n\n\n- modeli interakcij\n    - načini komunikacije med uporabnikom in sistemom\n    - modeli so odvisni od namena uporabe: tipa storitve ipd.\n    \n    \n- ergonomija\n    - fizične značilnosti interakcije\n    - fizične izvedbe vmesnika\n    - pri tem predmetu se z ergonomijo ne ukvarjamo\n\n\n- slog interakcij\n    - narava pogovornega okna uporabnika / sistema\n  \n    \n- kontekst\n    - družbeno, organizacijsko, motivacijsko\n    - situacije, ki jih pokrivamo\n\n\n<p style=\"margin-bottom:2cm;\"></p>\n<div style=\"width:100%;text-align:right;font-weight:bold;font-size:1.2em;\"> 5 </div>\n<img src=\"https://raw.githubusercontent.com/andrejkk/ORvTK_SlidesImgs/master/footer_full.jpg\">"
    },
    {
      "metadata": {},
      "cell_type": "markdown",
      "source": "<div style=\"display:flex;font-weight:bold;font-size:0.9em;\">\n<div style=\"flex:1;width:50%;\"> 3. Komunikacija med uporabnikom in storitvijo </div>\n<div style=\"flex:1;width:50%;text-align:right;\"> 3.2. Modeli interakcije </div>\n</div>\n\n##  3.2. Modeli interakcije\n\n■ Zakaj modeli interakcije\n\n\n3.2.1 Model Donalda Normana\n\n■ Opis modela Donalda Normana\n\n■ Komunikacijska / interakcijska zanka\n\n■ Primer Normanovega modela: pošiljanje elektronske pošte\n\n\n3.2.2 Elementi interakcije na nivoju toka informacij \n\n■ Uvod\n\n■ Brunswickova leča\n\n■ Diagram poteka komunkacije\n\n\n■ Zaključek\n\n\n<p style=\"margin-bottom:2cm;\"></p>\n<div style=\"width:100%;text-align:right;font-weight:bold;font-size:1.2em;\"> 6 </div>\n<img src=\"https://raw.githubusercontent.com/andrejkk/ORvTK_SlidesImgs/master/footer_full.jpg\">"
    },
    {
      "metadata": {},
      "cell_type": "markdown",
      "source": "<div style=\"display:flex;font-weight:bold;font-size:0.9em;\">\n<div style=\"flex:1;width:50%;\"> 3. Komunikacija med uporabnikom in storitvijo </div>\n<div style=\"flex:1;width:50%;text-align:right;\"> 3.2. Modeli interakcije </div>\n</div>\n\n## ■ Zakaj modeli interakcije\n\nRazlog za uporabo modele interakcije uporabljamo za **razčlenitev procesa interakcije** v podprocese z namenom\n1. Razmevanja procesa interakcije\n2. Merjenje procesa interakcije\n3. Prilagajanje komunikacije\n4. Komunikacija v razvojni in raziskovalni skupnosti\n\n\n<p style=\"margin-bottom:2cm;\"></p>\n<div style=\"width:100%;text-align:right;font-weight:bold;font-size:1.2em;\"> 7 </div>\n<img src=\"https://raw.githubusercontent.com/andrejkk/ORvTK_SlidesImgs/master/footer_full.jpg\">"
    },
    {
      "metadata": {},
      "cell_type": "markdown",
      "source": "<div style=\"display:flex;font-weight:bold;font-size:0.9em;\">\n<div style=\"flex:1;width:50%;\"> 3. Komunikacija med uporabnikom in storitvijo </div>\n<div style=\"flex:1;width:50%;text-align:right;\"> 3.2. Modeli interakcije </div>\n</div>\n\n## 3.2.1 Model Donalda Normana\n\n■ Opis modela Donalda Normana\n\n■ Komunikacijska / interakcijska zanka\n\n■ Primer Normanovega modela: pošiljanje elektronske pošte\n\n\n\n<br><br>\n_Literatura:_ A. Dix in dr. Human-Computer interaction, Prentice Hall, 2004. \n\n\n\n<p style=\"margin-bottom:0.5cm;\"></p>\n<div style=\"width:100%;text-align:right;font-weight:bold;font-size:1.2em;\"> 7 </div>\n<img src=\"https://raw.githubusercontent.com/andrejkk/ORvTK_SlidesImgs/master/footer_full.jpg\">"
    },
    {
      "metadata": {},
      "cell_type": "markdown",
      "source": "<div style=\"display:flex;font-weight:bold;font-size:0.9em;\">\n<div style=\"flex:1;width:50%;\"> 3. Komunikacija med uporabnikom in storitvijo </div>\n<div style=\"flex:1;width:50%;text-align:right;\"> 3.2.1 Model Donalda Normana </div>\n</div>\n\n##  ■ Opis modela Donalda Normana\n\nTo je komunikacija / interakcija s stališča uporabnika. Model izhaja iz interakcije človek stroj in ustreza našim potrebam - to je izpostavi za prilagajanje pomembne korake.  \n\nSedem stanj / korakov:\n1. Uporabnik določi cilj\n    - kaj želi z uporabo storitve doseči?\n    - gre za cilj brez misli na to kako ta cilj doseči - torej v obliki želje; \n    \n\n2. Uporabnik oblikuje namen\n    - namen je že vezan na izvedbo, to je s katero storitvijo in s kakšnimi aktivnostmi bo uporabnik dosegel svo cilj;\n    - namen je odvisen od izkušenj s samo storitvijo\n    \n\n3. Uporabnik določi aktivnosti vmesnika\n    - uporabnik (zavedno ali nezavedno) sestavi plan za aktivnosti v zvezi s storitvijo, ki ga bo po njegovem pričakovanjui pripeljal do cilja\n    - plan aktivnosti se pogosto ali celo tipično med izvedbo spreminja in prilagaja situaciji, vsebini, nepričakovanim motnjam iz drugih virov ipd. \n\n\n4. Uporabnik izvede dejanje\n    - uporabnik izvede plan aktivnosti na storitvi (aktivnosti z uporabniškim vmesnikom naprave, ki omogoča storitve)\n    - izvajanje dejanja lahko vključuje ponovitve zaradi nepričakovanih odzivov sistema\n    \n    \n5. Uporabnik zaznava stanje sistema\n    - uporabnik ob interakciji zaznava in sledi stanju sistema\n    \n    \n6. Uporabnik razloži stanje sistema\n    - uporabnik (zavedno ali nezavedno) razlaga stanje sistema glede na odzive uporabniškega vmesnika, vsebino in kvaliteto storitve\n    - ta interpretacija celotne storitve je pomemben del storitve same\n    \n    \n7. Uporabnik oceni stanje sistema glede na cilj\n    - uporabnik vzpostavi mnenje o storitvi, prav tako zavedno ali nezavedno\n    - ta ocena je lahko zelo pristranska in za razvijalca storitve **zavajajoča.** Zato je merjenje kvalitete storitve zelo zahteven postopek\n    \n\n\n<p style=\"margin-bottom:1cm;\"></p>\n<div style=\"width:100%;text-align:right;font-weight:bold;font-size:1.2em;\"> 8 </div>\n<img src=\"https://raw.githubusercontent.com/andrejkk/ORvTK_SlidesImgs/master/footer_full.jpg\">"
    },
    {
      "metadata": {},
      "cell_type": "markdown",
      "source": "<div style=\"display:flex;font-weight:bold;font-size:0.9em;\">\n<div style=\"flex:1;width:50%;\"> 3. Komunikacija med uporabnikom in storitvijo </div>\n<div style=\"flex:1;width:50%;text-align:right;\"> 3.2. Modeli interakcije </div>\n</div>\n\n##  ■ Komunikacijska / interakcijska zanka\n\n\nNormanov model je **komunikacijska zanka** - komunikacija je cikličen proces izmenjave informacij. \n\n\n<img style=\"float: right; width: 60%\" src=\"https://raw.githubusercontent.com/andrejkk/UPK_DataImgs/master/InteractionLoop_SLO.png\">\n\n\nSedem stanj / korakov:\n1. Uporabnik določi cilj\n2. Uporabnik oblikuje namen\n3. Uporabnik določi aktivnosti vmesnika\n4. Uporabnik izvede dejanje  \n5. Uporabnik zaznava stanje sistema  \n6. Uporabnik razloži stanje sistema\n7. Uporabnik oceni stanje sistema glede na cilj\n    \n    \n\n\n<p style=\"margin-bottom:0.5cm;\"></p>\n<div style=\"width:100%;text-align:right;font-weight:bold;font-size:1.2em;\"> 9 </div>\n<img src=\"https://raw.githubusercontent.com/andrejkk/ORvTK_SlidesImgs/master/footer_full.jpg\">"
    },
    {
      "metadata": {},
      "cell_type": "markdown",
      "source": "<div style=\"display:flex;font-weight:bold;font-size:0.9em;\">\n<div style=\"flex:1;width:50%;\"> 3. Komunikacija med uporabnikom in storitvijo </div>\n<div style=\"flex:1;width:50%;text-align:right;\"> 3.2.1 Model Donalda Normana </div>\n</div>\n\n##  ■ Primer Normanovega modela: pošiljanje elektronske pošte\n\n\nZa pojasnilo te zanke opremimo korake Normanovega modela **s primerom socialo inteligentne aplikacije za pošiljanje elektronske pošte**, ki\n- uporablja le glasovno komunikacijo (brez tipkanja)\n- je kontekstualiziran: se zaveda situacije:  _dan in ura v dnevu_\n- je personaliziran: upošteva kdo ga uporablja: _ena od oseb v stanovanju_\n- socialno inteligenten: razume glavne socialne signale uporabnika: _utrujen izraz, slaba volja_\n- je zmožem vse te informacije uporabiti v uporabnikovo korist - prilagoditi storitev: **_poslati elektronsko pošto: izbor naslovnika, ene od tipičnih vsebin_**\n\n\nImplementacija korakov Normanovega modela\n1. Uporabnik določi cilj\n    - 75 letna gospa: želim poslati sporočilo hčerki\n\n\n2. Uporabnik oblikuje namen\n    - uporabila bom elektronsko pošto (in ne telefonirala)\n\n\n3. Uporabnik določi aktivnosti vmesnika\n    - *s prilagoditvijo*: stopim do komunikatorja in povem kaj želim\n    - *brez prilagoditve*: moram vključit osebni računalnik, poiskati aplikacijo, izbrati naslovnika, izbrati predmet sporočila, natipkati sporočilo, poslati sporočilo in izključiti računalnik. \n\n\n4. Uporabnik izvede dejanje\n    - *s prilagoditvijo*: napravi povem \"pošlji sporočilo hčerki, da jo vabim na kavo\"\n    - *brez prilagoditve*: priključi računalnik, poišče aplikacijo, izbere naslovnika, natipka predmet sporočila \"Vabilo na kavo\", natipkati sporočilo \"Draga hčerka, jutri zvečer ob 18.00 te vabim ....\", pošlje sporočilo, izključi računalnik. \n\n\n5. Uporabnik zaznava stanje sistemska\n    - *s prilagoditvijo*: storitev v govorni obliki sporoči \"Poslano\" in uporabnica to zazna.\n    - *brez prilagoditve*: uporabnica počaka na pisno sporočilo \"Sporočilo je bilo uspečno poslano.\" \n    \n    \n6. Uporabnik razloži stanje sistema\n    - *s prilagoditvijo*: uporabnica razume, da je sporočilo poslano. \n    - *brez prilagoditve*: uporabnica razume, da je sporočilo poslano. \n\n\n7. Uporabnik oceni stanje sistema glede na cilj\n    - *s prilagoditvijo*: uporabnica oceni stanje \"s pošiljanjem vabila sem hitro opravila\"\n    - *brez prilagoditve*: uporabnica oceni stanje \"s pošiljanjem vabila sem opravila, uh sem se namučila.\"\n    \n    \n    \n\n\n<p style=\"margin-bottom:0.5cm;\"></p>\n<div style=\"width:100%;text-align:right;font-weight:bold;font-size:1.2em;\"> 10 </div>\n<img src=\"https://raw.githubusercontent.com/andrejkk/ORvTK_SlidesImgs/master/footer_full.jpg\">"
    },
    {
      "metadata": {},
      "cell_type": "markdown",
      "source": "<div style=\"display:flex;font-weight:bold;font-size:0.9em;\">\n<div style=\"flex:1;width:50%;\"> 3. Komunikacija med uporabnikom in storitvijo </div>\n<div style=\"flex:1;width:50%;text-align:right;\"> 3.2. Modeli interakcije </div>\n</div>\n\n##  3.2.2 Elementi interakcije na nivoju toka informacij \n\n■ Uvod\n\n■ Brunswickova leča\n\n■ Diagram poteka komunkacije\n\n<br>\n_Literatura_: A. Vinciarelli, G. Mohammadi, A survey of personality computing. IEEE Transactions on Affective Computing, 5 (3), 2014. \n\n<p style=\"margin-bottom:0.5cm;\"></p>\n<div style=\"width:100%;text-align:right;font-weight:bold;font-size:1.2em;\"> 11 </div>\n<img src=\"https://raw.githubusercontent.com/andrejkk/ORvTK_SlidesImgs/master/footer_full.jpg\">"
    },
    {
      "metadata": {},
      "cell_type": "markdown",
      "source": "<div style=\"display:flex;font-weight:bold;font-size:0.9em;\">\n<div style=\"flex:1;width:50%;\"> 3. Komunikacija med uporabnikom in storitvijo </div>\n<div style=\"flex:1;width:50%;text-align:right;\"> 3.2.2 Elementi interakcije  </div>\n</div>\n\n##  ■ Uvod\n\nGre za opis elementov interakcije na nivoju komunikacije kot izmenjave podatkov. \n\nPomebna je **razčlenitev** komunikacije na elemente, ki so pomembni za tazvoj tehnologije. Ti so\n- _zunanji znaki (distal cues)_: znaki, ki so vidni na zunaj. Kar ni vidno na zunaj oz. kar ni merljivo, ni uporabno za tehnologijo;\n- _zaznani znaki (perceived cues)_: znaki, ki jih zaznamo. To je podmnožica zunanjih znakov. Kar ne zaznamo s tehnologijo, je za tehnologijo neuporabno.\n- _proximalni znaki (proximal cues)_: znaki, ki sporžijo proces prirejanja stanja v precepcisko presojo;\n- _zaznavna presoja_: presoja / odločitev, ki jo opravimo na podlagi zaznanih znakov;\n\nTo so koraki, preko katerih nujno poteka tehnološka pot.\n\n\n<p style=\"margin-bottom:0.5cm;\"></p>\n<div style=\"width:100%;text-align:right;font-weight:bold;font-size:1.2em;\"> 12 </div>\n<img src=\"https://raw.githubusercontent.com/andrejkk/ORvTK_SlidesImgs/master/footer_full.jpg\">"
    },
    {
      "metadata": {},
      "cell_type": "markdown",
      "source": "<div style=\"display:flex;font-weight:bold;font-size:0.9em;\">\n<div style=\"flex:1;width:50%;\"> 3. Komunikacija med uporabnikom in storitvijo </div>\n<div style=\"flex:1;width:50%;text-align:right;\"> 3.2.2 Elementi interakcije  </div>\n</div>\n\n##  ■ Burnswickova leča\n\nDilema med dvema pristopoma k razvoju\n1. Študij vzorcev obnašanja glede na dražljaje\n2. Iskanje zakonitosti obnašanja\n\nRazskovalec Egon Burnswick je trdil, da je prava pot le ad 1., ker 2. ni ne izvedljiva ne smiselna. \n\nTako je nastal izraz **Burnswickova leča**, ki je odnos med okoljem in obnašanjem sistema v tem okolju. Burnswick se je zavzemal za to, da opisujemo obnašanje posameznika v odnosu do situacij in dražljajev. \n\n\nGlavna domena raziskav Burnswickove leče je področje procesov človeškega odločanja. \n\n\n<p style=\"margin-bottom:1cm;\"></p>\n<div style=\"width:100%;text-align:right;font-weight:bold;font-size:1.2em;\"> 13 </div>\n<img src=\"https://raw.githubusercontent.com/andrejkk/ORvTK_SlidesImgs/master/footer_full.jpg\">"
    },
    {
      "metadata": {},
      "cell_type": "markdown",
      "source": "<div style=\"display:flex;font-weight:bold;font-size:0.9em;\">\n<div style=\"flex:1;width:50%;\"> 3. Komunikacija med uporabnikom in storitvijo </div>\n<div style=\"flex:1;width:50%;text-align:right;\"> 3.2.2 Elementi interakcije </div>\n</div>\n\n##  ■ Diagram poteka komunkacije\n\n\nTa diagram prikazuje komunikacijo z leve proti desni, v realnosti poteka v obe smeri. Doprinos diagrama je ločevanje med različnimi nivoji sporočila, ki so pri razvoju tehnologije pomembni. \n\nV diagramu predstavlja **leva stran uporabnika**, **desno stran pa storitev**, ki s tehnologijo \"meri\" uporabnika na **podlagi njegovih merljivih podatkov**. \n\nMerljivi podatki so:\n- (vizualno) vidni znaki\n- merljivi psihofiziološki znaki \n\n\n\n<img style=\"float: center; width: 60%\" src=\"https://raw.githubusercontent.com/andrejkk/UPK_DataImgs/master/ElementsOfCommunication_ENG.png\">\n\n\nPotek komunikacije podajajo puščice. Pojasnjuje ga spodnja tabela: <br>\n<table style=\"width:90%\">\n  <tr>\n    <td style=\"text-align:left\">**Izraz**</td>\n    <td style=\"text-align:left\">**Term**</td> \n    <td style=\"text-align:left\">**Opis**</td>\n  </tr>\n  <tr>\n    <td style=\"text-align:left\">Nivo fenomena</td>\n    <td style=\"text-align:left\">Phenomenal level</td> \n    <td style=\"text-align:left\">Nivo dogajanja komunikacije. </td>\n  </tr>\n  <tr>\n    <td style=\"text-align:left\">Tehnični nivo</td>\n    <td style=\"text-align:left\">Technical level</td> \n    <td style=\"text-align:left\">Interakcija je poseben primer komunikcije. </td>\n  </tr>\n  <tr>\n    <td style=\"text-align:left\">Pozunanjenje* </td>\n    <td style=\"text-align:left\">Externalization </td> \n    <td style=\"text-align:left\">Proces, pri katerem se notranja stanja (afektvna stanja) prvedejo v zunanje znake (zaznavne od zunaj).  </td>\n  </tr>\n  <tr>\n    <td style=\"text-align:left\">Zaznava </td>\n    <td style=\"text-align:left\">Perception </td> \n    <td style=\"text-align:left\">Proces, ki zaznane znake prevede na mentalno predstavitev zaznanega. </td>\n  </tr>\n  <tr>\n    <td style=\"text-align:left\">Prirejanje</td>\n    <td style=\"text-align:left\">Attribution </td> \n    <td style=\"text-align:left\">Proces, ri katerem se zaznani znaki prevedejo v percepcijsko presojo. </td>\n  </tr>\n  <tr>\n    <td style=\"text-align:left\">Zunaji znaki </td>\n    <td style=\"text-align:left\">Distal cues </td> \n    <td style=\"text-align:left\">Znaki, ki jih zunanji opazovalec (človek ali naprava) lahko zaznaod zunaj. Če so v rabi senzorji, sem štejemo tudi s senzorji merljive znake.  </td>\n  </tr>\n  <tr>\n    <td style=\"text-align:left\">Proksimalni znaki </td>\n    <td style=\"text-align:left\">Proximal cues </td> \n    <td style=\"text-align:left\">Znaki, ki sporžijo proces prirejanja stanja v precepcisko presojo. </td>\n  </tr>\n  <tr>\n    <td style=\"text-align:left\">Zaznani znaki </td>\n    <td style=\"text-align:left\">Percieved cues </td> \n    <td style=\"text-align:left\">Znaki, ki jih dejansko zaznamo. To je podmnožica zunanjih znakov.  </td>\n  </tr>\n  <tr>\n    <td style=\"text-align:left\">Zaznanva presoja </td>\n    <td style=\"text-align:left\">Perceptual Judgment </td> \n    <td style=\"text-align:left\">Presoja / odločitev glede stanja, ki jo opravimo na podlagi zaznanih znakov. </td>\n  </tr>\n  <tr>\n    <td style=\"text-align:left\">Ekološka veljavnost </td>\n    <td style=\"text-align:left\">Ecological Validity </td> \n    <td style=\"text-align:left\">Vsaka povezava (kovarianca) med osebnostnimi lastnostmi in zunanjimi znaki.  </td>\n  </tr>\n  <tr>\n    <td style=\"text-align:left\">Veljavnost reprezentacije </td>\n    <td style=\"text-align:left\">Representation Validity </td> \n    <td style=\"text-align:left\">Vsaka povezava (kovarianca) med osebnostnimi lastnostmi in proximalnimi znaki, torej med znaki in privzeto osebnostjo.  </td>\n  </tr>\n  <tr>\n    <td style=\"text-align:left\">Avtomatska razpoznava </td>\n    <td style=\"text-align:left\">Automatic Recognition  </td> \n    <td style=\"text-align:left\">Avtomatsko sklepanje iz zaznanih vidnih znakov na zaznavano lastnost (npr. osebnost). </td>\n  </tr>\n  <tr>\n    <td style=\"text-align:left\">Avtomatska zaznava  </td>\n    <td style=\"text-align:left\">Automatic  Perception  </td> \n    <td style=\"text-align:left\">Avtomatsko sklepanje zaznavane lastnosti (npr. osebnosti) iz proksimalnih znakov. To ni več nujno prava lastnost, ampak kar privzame opazovalec (lahko se moti).  </td>\n  </tr>\n  <tr>\n    <td style=\"text-align:left\">Avtomatska sinteza </td>\n    <td style=\"text-align:left\">Automatic Synthesis  </td> \n    <td style=\"text-align:left\">Avtomatsko sintetiziranje izbrane lastnosti (npr. osebnosti). </td>\n  </tr>\n</table>\n\n\n\n\n<p style=\"margin-bottom:2cm;\"></p>\n<div style=\"width:100%;text-align:right;font-weight:bold;font-size:1.2em;\"> 14 </div>\n<img src=\"https://raw.githubusercontent.com/andrejkk/ORvTK_SlidesImgs/master/footer_full.jpg\">"
    },
    {
      "metadata": {
        "slideshow": {
          "slide_type": "fragment"
        }
      },
      "cell_type": "markdown",
      "source": "<div style=\"display:flex;font-weight:bold;font-size:0.9em;\">\n<div style=\"flex:1;width:50%;\"> 3. Komunikacija med uporabnikom in storitvijo </div>\n<div style=\"flex:1;width:50%;text-align:right;\"> </div>\n</div>\n\n##  ■ Zaključek\n\n- Obstajata dva pomembna vidika komunikacije \n    - kot jo doživlja uporabnik (Pog. 3.2.1)\n    - kot potek informacije od notranjih stanj do mentalnih predstavitev - kot jo doživljata uporabnik in tehologija (Pog. 3.2.2)\n\n\n\n<p style=\"margin-bottom:2cm;\"></p>\n<div style=\"width:100%;text-align:right;font-weight:bold;font-size:1.2em;\"> 15 </div>\n<img src=\"https://raw.githubusercontent.com/andrejkk/ORvTK_SlidesImgs/master/footer_full.jpg\">"
    },
    {
      "metadata": {
        "trusted": false
      },
      "cell_type": "code",
      "source": "",
      "execution_count": null,
      "outputs": []
    }
  ],
  "metadata": {
    "celltoolbar": "Slideshow",
    "kernelspec": {
      "name": "python2",
      "display_name": "Python 2",
      "language": "python"
    },
    "language_info": {
      "mimetype": "text/x-python",
      "nbconvert_exporter": "python",
      "name": "python",
      "pygments_lexer": "ipython2",
      "version": "2.7.15",
      "file_extension": ".py",
      "codemirror_mode": {
        "version": 2,
        "name": "ipython"
      }
    }
  },
  "nbformat": 4,
  "nbformat_minor": 2
}