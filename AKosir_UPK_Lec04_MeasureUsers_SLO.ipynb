{
 "cells": [
  {
   "cell_type": "markdown",
   "metadata": {
    "collapsed": true,
    "slideshow": {
     "slide_type": "slide"
    }
   },
   "source": [
    "<img style=\"float: center; width: 100%\" src=\"https://raw.githubusercontent.com/andrejkk/TalksImgs/master/FrontSlideUpperBan.png\">\n",
    "<p style=\"margin-bottom:2cm;\"></p>\n",
    "\n",
    "<center>\n",
    "    <H1> 4. Merjenje uporabnikov </H1>\n",
    "   \n",
    "\n",
    "\n",
    "<br><br>\n",
    "    <H3> Andrej Košir, Lucami, FE </H3>\n",
    "    <H4> Kontakt: prof. dr. Andrej Košir, andrej.kosir@lucami.fe.uni-lj.si, skype=akosir_sid </H4>\n",
    "</center>\n",
    "\n",
    "\n",
    "\n",
    "\n",
    "\n",
    "<p style=\"margin-bottom:2cm;\"></p>\n",
    "<div style=\"width:100%;text-align:right;font-weight:bold;font-size:1.2em;\"> 1 </div>\n",
    "<img src=\"https://raw.githubusercontent.com/andrejkk/ORvTK_SlidesImgs/master/footer_full.jpg\">"
   ]
  },
  {
   "cell_type": "markdown",
   "metadata": {
    "slideshow": {
     "slide_type": "slide"
    }
   },
   "source": [
    "<div style=\"display:flex;font-weight:bold;font-size:0.9em;\">\n",
    "<div style=\"flex:1;width:50%;\"> Merjenje uporabnikov </div>\n",
    "<div style=\"flex:1;width:50%;text-align:right;\"> Cilji </div>\n",
    "</div>\n",
    "\n",
    "\n",
    "## Cilji poglavja\n",
    "\n",
    "- Spoznati problem merjenja uporabnikov\n",
    "- Spoznati:\n",
    "    - Merjenje z vprašalniki\n",
    "    - Konstrukte\n",
    "    - Merjenje s psihofiziološkimi signali\n",
    "\n",
    "\n",
    "\n",
    "\n",
    "<p style=\"margin-bottom:1cm;\"></p>\n",
    "<div style=\"width:100%;text-align:right;font-weight:bold;font-size:1.2em;\"> 2 </div>\n",
    "<img src=\"https://raw.githubusercontent.com/andrejkk/ORvTK_SlidesImgs/master/footer_full.jpg\">"
   ]
  },
  {
   "cell_type": "markdown",
   "metadata": {
    "slideshow": {
     "slide_type": "slide"
    }
   },
   "source": [
    "<div style=\"display:flex;font-weight:bold;font-size:0.9em;\">\n",
    "<div style=\"flex:1;width:50%;\"> 5. Merjenje uporabnikov </div>\n",
    "<div style=\"flex:1;width:50%;text-align:right;\"> Vsebina </div>\n",
    "</div>\n",
    "\n",
    "\n",
    "## Poglavja\n",
    "\n",
    "### 1. Merjenje uporabnikov: instrumenti in kosntrukti\n",
    "\n",
    "\n",
    "#### 1.1. Izbrani instrumenti - vprašalniki\n",
    "\n",
    "■ Uvod: kaj je instrument in kaj konstrukt $\\large{*}$\n",
    "\n",
    "■ Uporabnost (Usability): sistemska uporabnost SUS $\\large{*}$\n",
    "\n",
    "■ Uporabnost (Usability): Uporabnost interakcija UMUX $\\large{*}$\n",
    "\n",
    "■ Merjenje osebnosti: velikih 5 (Big5) $\\large{*}$\n",
    "\n",
    "■ Merjenje razpoloženja: PANAS $\\large{*}$\n",
    "\n",
    "■ Merjenje obremenitve: NASA TLX $\\large{*}$\n",
    "\n",
    "■ Merjenje kvalitete dvogovora: SUISQ $\\large{*}$\n",
    "\n",
    "■ K uporabi instrumentov in konstruktov\n",
    "\n",
    "\n",
    "#### 1.2. Izračun metrike uspešnosti - ocena dimenzij konstrukta, instrument\n",
    "\n",
    "■ Uvod in primer SUISQ\n",
    "\n",
    "■ Uteži faktorske matrike definirajo konstrukt$\\large{*}$\n",
    "\n",
    "■ Izračun točk konstrukta ali skale$\\large{*}$\n",
    "\n",
    "#### 1.3. Merske karakteristike\n",
    "\n",
    "■ Problem vprašalnikov in merske karakteristike$\\large{*}$\n",
    "\n",
    "■ Veljavnost$\\large{*}$\n",
    "\n",
    "■ Zanesljivost$\\large{*}$\n",
    "\n",
    "\n",
    "\n",
    "### 2. Merjenje uporabnikov: psihofiziološki signali\n",
    "\n",
    "■ Fiziologija človeka in psihofiziološki signali $\\large{*}$\n",
    "\n",
    "■ Socialni signali uporabnika $\\large{*}$\n",
    "\n",
    "■ Ocenjevanje socialnih signalov uporabnika $\\large{*}$\n",
    "\n",
    "■ Čustva: merjenje signalov\n",
    "\n",
    "■ Kognitivna obremenitev: merjenje signalov\n",
    "\n",
    "■ Pozornost: merjenje signalov\n",
    "\n",
    "■ Stres: merjenje signalov\n",
    "\n",
    "■ Senzorji za psiho-fiziološke signale\n",
    "\n",
    "■ Zaključek\n",
    "\n",
    "\n",
    "<p style=\"margin-bottom:1cm;\"></p>\n",
    "<div style=\"width:100%;text-align:right;font-weight:bold;font-size:1.2em;\"> 3 </div>\n",
    "<img src=\"https://raw.githubusercontent.com/andrejkk/ORvTK_SlidesImgs/master/footer_full.jpg\">"
   ]
  },
  {
   "cell_type": "code",
   "execution_count": null,
   "metadata": {},
   "outputs": [],
   "source": []
  }
 ],
 "metadata": {
  "celltoolbar": "Slideshow",
  "kernelspec": {
   "display_name": "Python 3 (ipykernel)",
   "language": "python",
   "name": "python3"
  },
  "language_info": {
   "codemirror_mode": {
    "name": "ipython",
    "version": 3
   },
   "file_extension": ".py",
   "mimetype": "text/x-python",
   "name": "python",
   "nbconvert_exporter": "python",
   "pygments_lexer": "ipython3",
   "version": "3.9.7"
  }
 },
 "nbformat": 4,
 "nbformat_minor": 2
}
