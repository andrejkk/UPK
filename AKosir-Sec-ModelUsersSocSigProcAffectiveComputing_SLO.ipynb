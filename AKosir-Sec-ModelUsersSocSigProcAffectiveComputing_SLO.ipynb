{
 "cells": [
  {
   "cell_type": "markdown",
   "metadata": {
    "collapsed": true,
    "slideshow": {
     "slide_type": "slide"
    }
   },
   "source": [
    "<img style=\"float: center; width: 100%\" src=\"https://raw.githubusercontent.com/andrejkk/TalksImgs/master/FrontSlideUpperBan.png\">\n",
    "<p style=\"margin-bottom:2cm;\"></p>\n",
    "\n",
    "<center>\n",
    "    <H1> Merjenje uporabnikov: afektivno računanje in socialni signali uporabnikov </H1>\n",
    "   \n",
    "\n",
    "\n",
    "<br><br>\n",
    "    <H3> Andrej Košir, Lucami, FE </H3>\n",
    "    <H4> Kontakt: prof. dr. Andrej Košir, andrej.kosir@lucami.fe.uni-lj.si, skype=akosir_sid </H4>\n",
    "</center>\n",
    "\n",
    "\n",
    "<p style=\"margin-bottom:2cm;\"></p>\n",
    "<div style=\"width:100%;text-align:right;font-weight:bold;font-size:1.2em;\"> 1 </div>\n",
    "<img src=\"https://raw.githubusercontent.com/andrejkk/ORvTK_SlidesImgs/master/footer_full.jpg\">"
   ]
  },
  {
   "cell_type": "markdown",
   "metadata": {
    "slideshow": {
     "slide_type": "slide"
    }
   },
   "source": [
    "<div style=\"display:flex;font-weight:bold;font-size:0.9em;\">\n",
    "<div style=\"flex:1;width:50%;text-align:right;\"> Cilji, ponudba </div>\n",
    "</div>\n",
    "\n",
    "\n",
    "## Cilji\n",
    "\n",
    "- Cilji \n",
    "    - seznaniti \n",
    "\n",
    "\n",
    "\n",
    "<p style=\"margin-bottom:1cm;\"></p>\n",
    "<div style=\"width:100%;text-align:right;font-weight:bold;font-size:1.2em;\"> 2 </div>\n",
    "<img src=\"https://raw.githubusercontent.com/andrejkk/ORvTK_SlidesImgs/master/footer_full.jpg\">"
   ]
  },
  {
   "cell_type": "markdown",
   "metadata": {
    "slideshow": {
     "slide_type": "slide"
    }
   },
   "source": [
    "<div style=\"display:flex;font-weight:bold;font-size:0.9em;\">\n",
    "<div style=\"flex:1;width:50%;text-align:right;\"> 1. Socialni signali uporabnikov </div>\n",
    "</div>\n",
    "\n",
    "\n",
    "# 1. Socialni signali uporabnikov\n",
    "\n",
    "■ Kaj je umetna socialna inteligenca\n",
    "\n",
    "■ Socialni signali*\n",
    "\n",
    "■ Zakaj socialni signali in uporabnost\n",
    "\n",
    "■ Proces komunikacije socialnih signalov*\n",
    "\n",
    "■ Primer socialno inteligentne aplikacije: priporočilni sistem za filme\n",
    "\n",
    "■ Izbrane naloge umetne socialne inteligence\n",
    "\n",
    "\n",
    "\n",
    "\n",
    "\n",
    "<p style=\"margin-bottom:1cm;\"></p>\n",
    "<div style=\"width:100%;text-align:right;font-weight:bold;font-size:1.2em;\"> 3 </div>\n",
    "<img src=\"https://raw.githubusercontent.com/andrejkk/ORvTK_SlidesImgs/master/footer_full.jpg\">"
   ]
  },
  {
   "cell_type": "markdown",
   "metadata": {
    "slideshow": {
     "slide_type": "slide"
    }
   },
   "source": [
    "<div style=\"display:flex;font-weight:bold;font-size:0.9em;\">\n",
    "<div style=\"flex:1;width:50%;text-align:right;\"> 1. Socialni signali uporabnikov </div>\n",
    "</div>\n",
    "\n",
    "## ■ Kaj je umetna socialna inteligenca\n",
    "\n",
    "#### Def.: Umetna socialna intelienca je zmožnost sogovornika (človeka, stroja, storitve), da\n",
    "1. Razpoznava socialnih signalov\n",
    "2. Razume socialnih signalov\n",
    "3. Uporabalja socialnih signalov: storitev je odvisna od socialnih signalov v realnem času\n",
    "4. Generiranje in prikaz socialnih signalov z indukcijo v komunikaciji\n",
    "\n",
    "\n",
    "<p style=\"margin-bottom:1cm;\"></p>\n",
    "<div style=\"width:100%;text-align:right;font-weight:bold;font-size:1.2em;\"> 4 </div>\n",
    "<img src=\"https://raw.githubusercontent.com/andrejkk/ORvTK_SlidesImgs/master/footer_full.jpg\">"
   ]
  },
  {
   "cell_type": "markdown",
   "metadata": {
    "slideshow": {
     "slide_type": "slide"
    }
   },
   "source": [
    "<div style=\"display:flex;font-weight:bold;font-size:0.9em;\">\n",
    "<div style=\"flex:1;width:50%;text-align:right;\"> 1. Socialni signali uporabnikov </div>\n",
    "</div>\n",
    "\n",
    "## ■ Socialni signali\n",
    "\n",
    "#### Def.: Socialni signali so vse kar ostane od komunikacije med človekom in njegovim sogovornikom (človekom ali strojem) ko izločimo pomen govora. Ostane barva glasu, ritem govora, izraz na obrazu, geste itd. Uporabljamo tudi izraz \"neverbalna komunikacija\". \n",
    "\n",
    "#### Def.: Izraz sogovornik uporabljamo za vse komunikacijske entitete - človeka, stroj, storitev. \n",
    "\n",
    "<img style=\"float: center; width: 65%\" src=\"https://raw.githubusercontent.com/andrejkk/UPK_DataImgs/master/SoialSignals-Concept_SLO.png\">\n",
    "\n",
    "<br>\n",
    "\n",
    "##### Primeri socialnih signalov so:\n",
    "- zadovoljstvo\n",
    "- radovednost\n",
    "- oklevanje\n",
    "- ...\n",
    "\n",
    "<br>\n",
    "\n",
    "**Socialni signali** se s **časom spreminjajo**, lahko s precej različno hitrostjo.  \n",
    "\n",
    "\n",
    "\n",
    "\n",
    "\n",
    "<p style=\"margin-bottom:1cm;\"></p>\n",
    "<div style=\"width:100%;text-align:right;font-weight:bold;font-size:1.2em;\"> 4 </div>\n",
    "<img src=\"https://raw.githubusercontent.com/andrejkk/ORvTK_SlidesImgs/master/footer_full.jpg\">"
   ]
  },
  {
   "cell_type": "markdown",
   "metadata": {
    "slideshow": {
     "slide_type": "slide"
    }
   },
   "source": [
    "<div style=\"display:flex;font-weight:bold;font-size:0.9em;\">\n",
    "<div style=\"flex:1;width:50%;text-align:right;\"> 1. Socialni signali uporabnikov </div>\n",
    "</div>\n",
    "\n",
    "## ■ Zakaj socialni signali in uporabnost\n",
    "\n",
    " \n",
    "\n",
    "##### Zakaj socialni signali\n",
    "\n",
    "Socialni signali so dodatna informacija za **poslušalca**, da poleg same vsebine sporočila (govora, slike, ..., to je multimedije) razume tudi nujne **dodatne informacije** kot so **namen sporočila**, morebitne **posledice**, **pričakovanja sporočevalca** ipd. \n",
    "\n",
    "\n",
    "Socialni signali so dodatna informacija za **govorca**, da ob vsebini sporočila, ki ga sporoča, dobiva informacije poslušalca (prejšnji odstavek), ki so bistvene za **nadaljevanje komunikacije**.  \n",
    "\n",
    "\n",
    "\n",
    "##### Uporabnost\n",
    "\n",
    "Socialni signali so uporabni za\n",
    "- **komunikacijo v realnem času**: pomembna obogatitev vsebine\n",
    "- **prilagajanje uporabniku**: razumevanje stanja uporabnika v realnem čas\n",
    "\n",
    "\n",
    "\n",
    "\n",
    "\n",
    "<p style=\"margin-bottom:1cm;\"></p>\n",
    "<div style=\"width:100%;text-align:right;font-weight:bold;font-size:1.2em;\"> 4 </div>\n",
    "<img src=\"https://raw.githubusercontent.com/andrejkk/ORvTK_SlidesImgs/master/footer_full.jpg\">"
   ]
  },
  {
   "cell_type": "markdown",
   "metadata": {
    "slideshow": {
     "slide_type": "slide"
    }
   },
   "source": [
    "<div style=\"display:flex;font-weight:bold;font-size:0.9em;\">\n",
    "<div style=\"flex:1;width:50%;text-align:right;\"> 1. Socialni signali uporabnikov </div>\n",
    "</div>\n",
    "\n",
    "## ■ Proces komunikacije socialnih signalov\n",
    "\n",
    "\n",
    "#### Osnovne postavke\n",
    "\n",
    "1. To je del komunikacije (multimedijske) vsebine:\n",
    "- komunikacija vsebine: gledam film, poslušam glasbo, virtualna resničnost itd\n",
    "- upravljanje storitve: nadgrajeno z s socialnimi signali v obe smeri\n",
    "- prilagajanje storitve v realnem času \n",
    "\n",
    "\n",
    "#### Potek komunikacije določa Burnswickova leča\n",
    "\n",
    "Burnswickovo lečo smo obravnavali v poglavju _3.2.2 Elementi interakcije_\n",
    "\n",
    "<img style=\"float: center; width: 60%\" src=\"https://raw.githubusercontent.com/andrejkk/UPK_DataImgs/master/ElementsOfCommunication_ENG.png\">\n",
    "\n",
    "##### Pomembni vidiki\n",
    "- socialni signali so rezultat **notranjih procesov**: čustev, kognitivnih procesov itd\n",
    "- informacije o socialnih signalih se v komunikaciji:\n",
    "  - izgubljajo: npr. pri prehodu od notranjega procesa do zunanjega znaka\n",
    "  - pojavljajo se napake pri razpoznavi\n",
    "  - razpoznava še ni interpretacija: napake se pojavljajo tudi pri interpretaciji\n",
    "- odzivni časi naj bodo dovolj majhni: reda $0.5$ sekunde celotnega procesa\n",
    "\n",
    "\n",
    "\n",
    "\n",
    "\n",
    "\n",
    "<p style=\"margin-bottom:1cm;\"></p>\n",
    "<div style=\"width:100%;text-align:right;font-weight:bold;font-size:1.2em;\"> 4 </div>\n",
    "<img src=\"https://raw.githubusercontent.com/andrejkk/ORvTK_SlidesImgs/master/footer_full.jpg\">"
   ]
  },
  {
   "cell_type": "markdown",
   "metadata": {
    "slideshow": {
     "slide_type": "slide"
    }
   },
   "source": [
    "<div style=\"display:flex;font-weight:bold;font-size:0.9em;\">\n",
    "<div style=\"flex:1;width:50%;text-align:right;\"> 1. Socialni signali uporabnikov </div>\n",
    "</div>\n",
    "\n",
    "## ■ Primer socialno inteligentne aplikacije: priporočilni sistem za filme\n",
    "\n",
    "##### Aplikacije: priporočanje filmov v odvisnosti od uporabnikovega oklevanja \n",
    "\n",
    "<img style=\"float: center; width: 65%\" src=\"https://raw.githubusercontent.com/andrejkk/UPK_DataImgs/master/SociallyIntelligentRecSys.png\">\n",
    "\n",
    "\n",
    "\n",
    "##### Komponente aplikacije\n",
    "\n",
    "- storitev: priporočanje filmov\n",
    "- socialni signal uporabnik $\\to$ storitev: oklevanje\n",
    "- socialni signal storitev $\\to$ uporabnik: {}\n",
    "- modalnosti: video za spremljanje uporabnikovih gest pri upravljanju uporabniškega vmesnika\n",
    "- socialna inteligenca naprave: prilagoditev priporočil gleda na\n",
    "    - uporabnik okleva: priporočamo bolj različne nabore, da uporabnik prej najde področje zanimivih filmov\n",
    "    - uporabnik ne okleva: priporočamo zelo podobne filme, da uporabnik prej najde pravi zadetek\n",
    "- rezultat: uporabniki so bili s priporočili **bolj zadovoljni** v primerjavi s priporočilnim sistemom brez socialne inteligence    \n",
    "\n",
    "##### Komunikacijska zanka\n",
    "\n",
    "Jasno je, da se socialni signali lahko izmenjavajo le v **komunikacijski zanki**. \n",
    "\n",
    "Za vzdrževanje komunikacijske zanke je nujna **indukcija socialnih signalov** sogovornika. \n",
    "\n",
    "\n",
    "\n",
    "\n",
    "\n",
    "<p style=\"margin-bottom:1cm;\"></p>\n",
    "<div style=\"width:100%;text-align:right;font-weight:bold;font-size:1.2em;\"> 4 </div>\n",
    "<img src=\"https://raw.githubusercontent.com/andrejkk/ORvTK_SlidesImgs/master/footer_full.jpg\">"
   ]
  },
  {
   "cell_type": "markdown",
   "metadata": {
    "slideshow": {
     "slide_type": "slide"
    }
   },
   "source": [
    "<div style=\"display:flex;font-weight:bold;font-size:0.9em;\">\n",
    "<div style=\"flex:1;width:50%;text-align:right;\"> 1. Socialni signali uporabnikov </div>\n",
    "</div>\n",
    "\n",
    "## ■ Izbrane naloge umetne socialne inteligence\n",
    "\n",
    "Cilj umetne socialne inteligence je \n",
    "- določanje stanje sogovornika (razpornava, ...)\n",
    "- vplivanje na sogovornika (indukcije)\n",
    "\n",
    "\n",
    "Ta izbor je prilagojen uporabniškemu prilagajanju.\n",
    "\n",
    "\n",
    "#### Socialni signali v socialno inteligentni aplikaciji\n",
    "\n",
    "1. Razpoznava socialni signalov\n",
    "2. Interpretacija socialnih signalov\n",
    "3. Generiranje socialnih signalov\n",
    "4. Indukcija socialnih signalov\n",
    "5. Določanje socialnega konteksta\n",
    "\n",
    "\n",
    "#### Ostale naloge\n",
    "1. Določanje osebnosti uporabnika na osnovi komunikacije\n",
    "2. Določanje sentimenta uporabnika\n",
    "3. Upravljanje dvogovora\n",
    "4. Segmentacija dvogovora\n",
    "5. Določanje group v komunikaciji: dominantni, sledilci, ...\n",
    "6. Določanje konfliktov\n",
    "7. Določanje vpliva med sogovorniki\n",
    "8. ...\n",
    "\n",
    "\n",
    "\n",
    "\n",
    "\n",
    "\n",
    "<p style=\"margin-bottom:1cm;\"></p>\n",
    "<div style=\"width:100%;text-align:right;font-weight:bold;font-size:1.2em;\"> 4 </div>\n",
    "<img src=\"https://raw.githubusercontent.com/andrejkk/ORvTK_SlidesImgs/master/footer_full.jpg\">"
   ]
  },
  {
   "cell_type": "markdown",
   "metadata": {
    "slideshow": {
     "slide_type": "slide"
    }
   },
   "source": [
    "<div style=\"display:flex;font-weight:bold;font-size:0.9em;\">\n",
    "<div style=\"flex:1;width:50%;text-align:right;\"> 2. Afektivno računanje </div>\n",
    "</div>\n",
    "\n",
    "\n",
    "# 2. Afektivno računanje\n",
    "\n",
    "■ Kaj je afektivno računanje\n",
    "\n",
    "■ Kaj so sociali signali\n",
    "\n",
    "■ Elementi afektivnega računanja\n",
    "\n",
    "■ Komponente sistema s čustvi\n",
    "\n",
    "■ Izražanje čustev\n",
    "\n",
    "\n",
    "\n",
    "\n",
    "\n",
    "<p style=\"margin-bottom:1cm;\"></p>\n",
    "<div style=\"width:100%;text-align:right;font-weight:bold;font-size:1.2em;\"> 3 </div>\n",
    "<img src=\"https://raw.githubusercontent.com/andrejkk/ORvTK_SlidesImgs/master/footer_full.jpg\">"
   ]
  },
  {
   "cell_type": "markdown",
   "metadata": {
    "slideshow": {
     "slide_type": "slide"
    }
   },
   "source": [
    "<div style=\"display:flex;font-weight:bold;font-size:0.9em;\">\n",
    "<div style=\"flex:1;width:50%;text-align:right;\"> 2. Afektivno računanje </div>\n",
    "</div>\n",
    "\n",
    "## ■ Kaj je afektivno računanje\n",
    "\n",
    "\n",
    "\n",
    "\n",
    "<p style=\"margin-bottom:1cm;\"></p>\n",
    "<div style=\"width:100%;text-align:right;font-weight:bold;font-size:1.2em;\"> 4 </div>\n",
    "<img src=\"https://raw.githubusercontent.com/andrejkk/ORvTK_SlidesImgs/master/footer_full.jpg\">"
   ]
  },
  {
   "cell_type": "markdown",
   "metadata": {
    "slideshow": {
     "slide_type": "slide"
    }
   },
   "source": [
    "<div style=\"display:flex;font-weight:bold;font-size:0.9em;\">\n",
    "<div style=\"flex:1;width:50%;text-align:right;\"> 2. Afektivno računanje </div>\n",
    "</div>\n",
    "\n",
    "## ■ Kaj je afektivno računanje\n",
    "\n",
    "#### Def.: Afektivno računanje je računanje, ki je povezano z razpoznavanjem, razmevanjem, induciranjem, interpretacijo in uporabo čustev v komunikaciji.\n",
    "\n",
    "Hkrati zajema afektivni prostor (VAD) in različne prostore čustvenih stanje (npr. cirkumpleksni model).\n",
    "\n",
    "<img style=\"float: center; width: 40%;\" src=\"https://raw.githubusercontent.com/andrejkk/UPK_DataImgs/master/SpaceVAD_ANG.png\">\n",
    "\n",
    "\n",
    "#### Pomen čustev v komunikaciji in prilagajanju\n",
    "\n",
    "Odsotnost afektivne informacije v vsebini (tudi multimedijski):\n",
    "- **osiromaši vsebino**\n",
    "- povzroča **napačno razumevanje vsebine**\n",
    "- povzroča **nesporazume** med sogovorniki\n",
    "\n",
    "\n",
    "\n",
    "\n",
    "<p style=\"margin-bottom:1cm;\"></p>\n",
    "<div style=\"width:100%;text-align:right;font-weight:bold;font-size:1.2em;\"> 4 </div>\n",
    "<img src=\"https://raw.githubusercontent.com/andrejkk/ORvTK_SlidesImgs/master/footer_full.jpg\">"
   ]
  },
  {
   "cell_type": "markdown",
   "metadata": {
    "slideshow": {
     "slide_type": "slide"
    }
   },
   "source": [
    "<div style=\"display:flex;font-weight:bold;font-size:0.9em;\">\n",
    "<div style=\"flex:1;width:50%;text-align:right;\"> 2. Afektivno računanje </div>\n",
    "</div>\n",
    "\n",
    "## ■ Elementi afektivnega računanja\n",
    "\n",
    "Elementi afektivnega računanja so:\n",
    "1. Razpoznava čustev\n",
    "2. Izražanje čustev\n",
    "3. Čustvena inteligenca\n",
    "\n",
    "\n",
    "#### Modalnosti: ali so nujne iste modalnosti kot pri človeku?\n",
    "\n",
    "Modalnosti pri razpoznavi čustev človeka so:\n",
    "1. Vizualna informacija: razpoznava izrazov obraza\n",
    "2. Zvočna informacija: barva glasu, ritem govora \n",
    "\n",
    "<br>\n",
    "\n",
    "Ali so tu **uporabne dodatne modalnosti** kot npr. termovizija? **Da.** \n",
    "\n",
    "<br>\n",
    "\n",
    "Stroj **ne uporablja** nujno istih modalnosti. \n",
    "\n",
    "\n",
    "<br>\n",
    "\n",
    "#### Ali storj / storitev lahko izraza čustva brez da jih \"ima\"?\n",
    "\n",
    "Lahko. \n",
    "\n",
    "\n",
    "\n",
    "\n",
    "<p style=\"margin-bottom:1cm;\"></p>\n",
    "<div style=\"width:100%;text-align:right;font-weight:bold;font-size:1.2em;\"> 4 </div>\n",
    "<img src=\"https://raw.githubusercontent.com/andrejkk/ORvTK_SlidesImgs/master/footer_full.jpg\">"
   ]
  },
  {
   "cell_type": "markdown",
   "metadata": {
    "slideshow": {
     "slide_type": "slide"
    }
   },
   "source": [
    "<div style=\"display:flex;font-weight:bold;font-size:0.9em;\">\n",
    "<div style=\"flex:1;width:50%;text-align:right;\"> 2. Afektivno računanje </div>\n",
    "</div>\n",
    "\n",
    "## ■ Komponente sistema s čustvi\n",
    "\n",
    "#### Komponente sistema s čustvi\n",
    "\n",
    "1. Mehanizmi nastajanje čustev\n",
    "2. Hitra primarna čustva: izražena preden se jih zavedamo \n",
    "3. Kognitivna čustva: nastajajo med kognitivnimi procesi \n",
    "4. Izkušnja komunikacie s čustvi\n",
    "5. Interakcija procesov in zunanjega izraza\n",
    "\n",
    "\n",
    "\n",
    "\n",
    "<p style=\"margin-bottom:1cm;\"></p>\n",
    "<div style=\"width:100%;text-align:right;font-weight:bold;font-size:1.2em;\"> 4 </div>\n",
    "<img src=\"https://raw.githubusercontent.com/andrejkk/ORvTK_SlidesImgs/master/footer_full.jpg\">"
   ]
  },
  {
   "cell_type": "markdown",
   "metadata": {
    "slideshow": {
     "slide_type": "slide"
    }
   },
   "source": [
    "<div style=\"display:flex;font-weight:bold;font-size:0.9em;\">\n",
    "<div style=\"flex:1;width:50%;text-align:right;\"> 2. Afektivno računanje </div>\n",
    "</div>\n",
    "\n",
    "## ■ Izražanje čustev\n",
    "\n",
    "#### Osnovna spoznanja\n",
    "\n",
    "1. Stroj oz. storitev lahko izraža čustva **s podobnimi kanali kot človek:** grafika podobna človeškemu obrazu, barva glasu\n",
    "2. Stroj oz. storitev lahko izraža čustva tudi **s povsem novimi kanali** kot so barva svetlobe ipd.\n",
    "\n",
    "#### Čustvena pasovna širina\n",
    "\n",
    "\n",
    "Lastnost komunikacijskega kanala glede zmožnosti izražanja čustev: \n",
    "- večja pasovna širina: več čustev\n",
    "- manjša pasovna širina: manj čustev\n",
    "\n",
    "\n",
    "\n",
    "Čustvene pasovne širine:\n",
    "- tekst: majhna\n",
    "- glas: večja\n",
    "- vizualna informacija: največja\n",
    "\n",
    "\n",
    "\n",
    "Pristopi z **virtualno resničnostjo** lahko imajo **večjo pasovno širino** kot komunikacija človek-človek. \n",
    "\n",
    "\n",
    "\n",
    "\n",
    "<p style=\"margin-bottom:1cm;\"></p>\n",
    "<div style=\"width:100%;text-align:right;font-weight:bold;font-size:1.2em;\"> 4 </div>\n",
    "<img src=\"https://raw.githubusercontent.com/andrejkk/ORvTK_SlidesImgs/master/footer_full.jpg\">"
   ]
  },
  {
   "cell_type": "markdown",
   "metadata": {
    "slideshow": {
     "slide_type": "slide"
    }
   },
   "source": [
    "<div style=\"display:flex;font-weight:bold;font-size:0.9em;\">\n",
    "<div style=\"flex:1;width:50%;text-align:right;\"> 3. Posotopek določanja socialnega signala </div>\n",
    "</div>\n",
    "\n",
    "## 3. Posotopek določanja socialnega signala\n",
    "\n",
    "■ Uvod, cilji\n",
    "\n",
    "■ Postopek določanja socialnega signala\n",
    "\n",
    "■ Primer: priporočilni sistem za filme, ki se zaveda oklevanja uporabnika\n",
    "\n",
    "■ Korak 1: Od cilja aplikacije do socialnega signala: kateri signal je relevanten\n",
    "\n",
    "■ Korak 2: Zasnova uporabniškega testiranja\n",
    "\n",
    "■ Korak 3: Implementacija in izvedba eksperimenta \n",
    "\n",
    "■ Korak 4: Določanje in preverjanje pravih vrednosti\n",
    "\n",
    "■ Korak 5: Statistično in stojno modeliranje socialnega signala\n",
    "\n",
    "\n",
    "<br>\n",
    "\n",
    "*Literatura*: [T. Vodlan, M. Tkalčič, A. Košir: The impact of hesitation, a social signal, on a user’s quality of experience in multimedia content retrieval, Multimed Tools Appl, 2014.](https://link.springer.com/article/10.1007/s11042-014-1933-2) <br>\n",
    "*Literatura*: [T. Vodlan, A. Košir: Using Social Signal of Hesitation in Multimedia Content Retrieval, _International Journal of Advanced Computer Science and Applications_,\n",
    "Vol. 5, No. 9, 2014](http://thesai.org/Publications/ViewPaper?Volume=5&Issue=9&Code=ijacsa&SerialNo=9)\n",
    "\n",
    "\n",
    "\n",
    "\n",
    "\n",
    "<p style=\"margin-bottom:1cm;\"></p>\n",
    "<div style=\"width:100%;text-align:right;font-weight:bold;font-size:1.2em;\"> 4 </div>\n",
    "<img src=\"https://raw.githubusercontent.com/andrejkk/ORvTK_SlidesImgs/master/footer_full.jpg\">"
   ]
  },
  {
   "cell_type": "markdown",
   "metadata": {
    "slideshow": {
     "slide_type": "slide"
    }
   },
   "source": [
    "<div style=\"display:flex;font-weight:bold;font-size:0.9em;\">\n",
    "<div style=\"flex:1;width:50%;text-align:right;\"> 3. Posotopek določanja socialnega signala </div>\n",
    "</div>\n",
    "\n",
    "## ■ Uvod, cilji\n",
    "\n",
    "\n",
    "#### Razlaga na primeru priporočlnega sistema za filme\n",
    "\n",
    "Celotne postopke določanja bomo prikazali na primeru določanja socialnega signala oklevanja v priporočilnem sistemu za filme. \n",
    "\n",
    "\n",
    "#### Cilj določanja socialnega signala\n",
    "\n",
    "Cilj določanja je ugotavljanje kateri socialni signal je za dano aplikacijo\n",
    "- relevanten \n",
    "- določljiv iz podatkov, ki so na voljo\n",
    "- določljiv iz izvedljivega eksperimenta\n",
    "\n",
    "\n",
    "\n",
    "\n",
    "<p style=\"margin-bottom:1cm;\"></p>\n",
    "<div style=\"width:100%;text-align:right;font-weight:bold;font-size:1.2em;\"> 4 </div>\n",
    "<img src=\"https://raw.githubusercontent.com/andrejkk/ORvTK_SlidesImgs/master/footer_full.jpg\">"
   ]
  },
  {
   "cell_type": "markdown",
   "metadata": {
    "slideshow": {
     "slide_type": "slide"
    }
   },
   "source": [
    "<div style=\"display:flex;font-weight:bold;font-size:0.9em;\">\n",
    "<div style=\"flex:1;width:50%;text-align:right;\"> 3. Posotopek določanja socialnega signala </div>\n",
    "</div>\n",
    "\n",
    "## ■ Postopek definicije in določanja socialnega signala\n",
    "\n",
    "1. Od cilja aplikacije do socialnega signala: kateri signal je relevanten?\n",
    "2. Zasnova uporabniškega testiranja \n",
    "   - uporabniški secenarij:\n",
    "   - določanje prave vrednosti:  \n",
    "     - anotacije\n",
    "     - samoporočanje\n",
    "     - \"think aloud\"\n",
    "3. Implementacija in izvedba eksperimenta\n",
    "4. Določanje in preverjanje pravih vrednosti\n",
    "   - ujemanje ocenjvealcev\n",
    "   - preverjanje pomenske smiselnosti\n",
    "5. Statistično in strojno modeliranje socialnega signala\n",
    "\n",
    "\n",
    "\n",
    "\n",
    "<p style=\"margin-bottom:1cm;\"></p>\n",
    "<div style=\"width:100%;text-align:right;font-weight:bold;font-size:1.2em;\"> 4 </div>\n",
    "<img src=\"https://raw.githubusercontent.com/andrejkk/ORvTK_SlidesImgs/master/footer_full.jpg\">"
   ]
  },
  {
   "cell_type": "markdown",
   "metadata": {
    "slideshow": {
     "slide_type": "slide"
    }
   },
   "source": [
    "<div style=\"display:flex;font-weight:bold;font-size:0.9em;\">\n",
    "<div style=\"flex:1;width:50%;text-align:right;\"> 3. Posotopek določanja socialnega signala </div>\n",
    "</div>\n",
    "\n",
    "## ■ Primer: priporočilni sistem za filme, ki se zaveda oklevanja uporabnika (1)\n",
    "\n",
    "#### Cilj in elementi aplikacije\n",
    "\n",
    "- aplikacija: _pogovorni_ priporočilni sistem (priporoča v več korakih)\n",
    "- storitev: priporočanje filmov\n",
    "- socialni signal uporabnik $\\to$ storitev: oklevanje\n",
    "- socialni signal storitev $\\to$ uporabnik: {}\n",
    "- modalnosti: video za spremljanje uporabnikovih gest pri upravljanju uporabniškega vmesnika\n",
    "- socialna inteligenca naprave: prilagoditev priporočil gleda na\n",
    "    - uporabnik okleva: priporočamo bolj različne nabore, da uporabnik prej najde področje zanimivih filmov\n",
    "    - uporabnik ne okleva: priporočamo zelo podobne filme, da uporabnik prej najde pravi zadetek\n",
    "- rezultat: uporabniki so bili s priporočili **bolj zadovoljni** v primerjavi s priporočilnim sistemom brez socialne inteligence    \n",
    "\n",
    "\n",
    "\n",
    "#### Predstavitveni film\n",
    "\n",
    "[Predstavitveni film na Youtube](https://youtu.be/SIvJyTLY3FI)\n",
    "\n",
    "\n",
    "\n",
    "\n",
    "<p style=\"margin-bottom:1cm;\"></p>\n",
    "<div style=\"width:100%;text-align:right;font-weight:bold;font-size:1.2em;\"> 4 </div>\n",
    "<img src=\"https://raw.githubusercontent.com/andrejkk/ORvTK_SlidesImgs/master/footer_full.jpg\">"
   ]
  },
  {
   "cell_type": "markdown",
   "metadata": {
    "slideshow": {
     "slide_type": "slide"
    }
   },
   "source": [
    "<div style=\"display:flex;font-weight:bold;font-size:0.9em;\">\n",
    "<div style=\"flex:1;width:50%;text-align:right;\"> 3. Posotopek določanja socialnega signala </div>\n",
    "</div>\n",
    "\n",
    "## ■ Primer: priporočilni sistem za filme, ki se zaveda oklevanja uporabnika (2)\n",
    "\n",
    "#### Socialna inteligenca - kako sistem upošteva socialni signal OKLEVANJE\n",
    "\n",
    "- priporočilni sistem priporoča v več korakih tako, da se **sprehaja v prostoru latentnih lastnosti matrične faktorizacije**\n",
    "- prostor latentnih lastnosti smo zgradili s testno množico [CoMoDa](http://www.lucami.org/index.php/research/ldos-comoda-dataset/)\n",
    "- razdalja med filmi je vektorska razdalja v tem prostoru\n",
    "- upoštevanje socialnega signala:\n",
    "  - **ne okleva**: čimmanjše razdalje med že videnimi in v nadaljevanju priporočenimi vsebinami\n",
    "  - **okleva**: čimvečje razdalje med že videnimi in v nadaljevanju priporočenimi vsebinami\n",
    "\n",
    "\n",
    "<img style=\"float: center; width: 40%;\" src=\"https://raw.githubusercontent.com/andrejkk/UPK_DataImgs/master/HesitationAwareRecSys-MFspaceTrace01.png\">\n",
    "\n",
    "\n",
    "\n",
    "\n",
    "\n",
    "\n",
    "<p style=\"margin-bottom:1cm;\"></p>\n",
    "<div style=\"width:100%;text-align:right;font-weight:bold;font-size:1.2em;\"> 4 </div>\n",
    "<img src=\"https://raw.githubusercontent.com/andrejkk/ORvTK_SlidesImgs/master/footer_full.jpg\">"
   ]
  },
  {
   "cell_type": "markdown",
   "metadata": {
    "slideshow": {
     "slide_type": "slide"
    }
   },
   "source": [
    "<div style=\"display:flex;font-weight:bold;font-size:0.9em;\">\n",
    "<div style=\"flex:1;width:50%;text-align:right;\"> 3. Posotopek določanja socialnega signala </div>\n",
    "</div>\n",
    "\n",
    "## ■ Korak 1: Od cilja aplikacije do socialnega signala: kateri signal je relevanten\n",
    "\n",
    "#### Napotki\n",
    "\n",
    "Neobhodni vidiki pri izbiri socialnega signala:\n",
    "1. Razumevanje cilja aplikacije.\n",
    "2. Razumevanje morebitnih drugih učinkov aplikacije\n",
    "3. Razumevanje uporabnika - testiranje\n",
    "\n",
    "\n",
    "#### Primer: Priporočilni sistem za filme\n",
    "\n",
    "##### Cilj aplikacije \n",
    "\n",
    "1. Večje zadovoljstvo uporabnikov z izbranim filmom\n",
    "2. Krajši postopek izbire\n",
    "3. Spoznavanje novih filmov\n",
    "\n",
    "\n",
    "##### Kateri socialni signali so relevantni? \n",
    "\n",
    "Predlogi?\n",
    "\n",
    "Naša odločitev: **oklevanje**.\n",
    "\n",
    "\n",
    "\n",
    "\n",
    "\n",
    "<p style=\"margin-bottom:1cm;\"></p>\n",
    "<div style=\"width:100%;text-align:right;font-weight:bold;font-size:1.2em;\"> 4 </div>\n",
    "<img src=\"https://raw.githubusercontent.com/andrejkk/ORvTK_SlidesImgs/master/footer_full.jpg\">"
   ]
  },
  {
   "cell_type": "markdown",
   "metadata": {
    "slideshow": {
     "slide_type": "slide"
    }
   },
   "source": [
    "<div style=\"display:flex;font-weight:bold;font-size:0.9em;\">\n",
    "<div style=\"flex:1;width:50%;text-align:right;\"> 3. Posotopek določanja socialnega signala </div>\n",
    "</div>\n",
    "\n",
    "## ■ Korak 2: Zasnova/nadgradnja aplikacije s socialnimi signali\n",
    "\n",
    "#### Komunikacijski kanali in modalnosti\n",
    "\n",
    "1. Katere aktivnosti bo uporabnik izvajal, da bodo socialni signali berljivi? \n",
    "2. Kateri kanali oz. modalnosti uporabimo?\n",
    "\n",
    "#### Socialna inteligenca - kako uporabiti socialni signal\n",
    "\n",
    "1. Kako aplikacija prilagaja svoje funkcionalnosti glede na socialni signal?\n",
    "2. Kako s tem prispeva k uporabniški izkušnji uporabnika?\n",
    "\n",
    "\n",
    "#### Primer:\n",
    "\n",
    "##### Komunikacijski kanali in modalnosti\n",
    "   - Aktivnosti: upravljanje vmesnika z gestami\n",
    "   - Vizalne informacije\n",
    "\n",
    "\n",
    "###### Socialna inteligenca - kako uporabiti socialni signal\n",
    "\n",
    "Priporočilni sistem uprabniku priporoča glede na \n",
    "- uporabnik okleva $\\to$ priporoča raznolike filme glede na videne\n",
    "- uporabnik ne okleva $\\to$ priporoča podobne filme že videnim\n",
    "\n",
    "\n",
    "Merjenje **razdalje med filmi**:\n",
    "- Razdaljo med filmi z namenom nadzora raznolikosti in podpobnosti merimo v prostoru značilk matrične faktorizacije z uporabo vektorskih razdalj. \n",
    "\n",
    "<img style=\"float: center; width: 30%;\" src=\"https://raw.githubusercontent.com/andrejkk/UPK_DataImgs/master/HesitationAwareRecSys-MFSpace.png\">\n",
    "\n",
    "\n",
    "\n",
    "\n",
    "\n",
    "\n",
    "\n",
    "\n",
    "<p style=\"margin-bottom:1cm;\"></p>\n",
    "<div style=\"width:100%;text-align:right;font-weight:bold;font-size:1.2em;\"> 4 </div>\n",
    "<img src=\"https://raw.githubusercontent.com/andrejkk/ORvTK_SlidesImgs/master/footer_full.jpg\">"
   ]
  },
  {
   "cell_type": "markdown",
   "metadata": {
    "slideshow": {
     "slide_type": "slide"
    }
   },
   "source": [
    "<div style=\"display:flex;font-weight:bold;font-size:0.9em;\">\n",
    "<div style=\"flex:1;width:50%;text-align:right;\"> 3. Posotopek določanja socialnega signala </div>\n",
    "</div>\n",
    "\n",
    "## ■ Korak 3: Zasnova uporabniškega testiranja  \n",
    "\n",
    "#### Zakaj uporabniško testiranje\n",
    "\n",
    "Realna aplikacija neobhodno zahteva **razpoznavo socialnega signala v relanem času** na osnovi **uporabne senzorike** z namenom\n",
    "- preverjanja merljivosti signala: **ali ga je mogoče zaznati s senzoriko**?\n",
    "- graditi model socialnega signala\n",
    "$$ (s_1, s_2, \\ldots, s_n)[t] \\mapsto SS[t] \\in {\\cal S} $$\n",
    "\n",
    "Za izvedbo je **nujna delujoča aplikacija** applikacija, ki jo še nimamo. \n",
    "\n",
    "Potrebno je pripraviti **Načrt poskusa** (predmet naslednjega poglavja).\n",
    "\n",
    "\n",
    "\n",
    "\n",
    "\n",
    "\n",
    "\n",
    "<p style=\"margin-bottom:1cm;\"></p>\n",
    "<div style=\"width:100%;text-align:right;font-weight:bold;font-size:1.2em;\"> 4 </div>\n",
    "<img src=\"https://raw.githubusercontent.com/andrejkk/ORvTK_SlidesImgs/master/footer_full.jpg\">"
   ]
  },
  {
   "cell_type": "markdown",
   "metadata": {
    "slideshow": {
     "slide_type": "slide"
    }
   },
   "source": [
    "<div style=\"display:flex;font-weight:bold;font-size:0.9em;\">\n",
    "<div style=\"flex:1;width:50%;text-align:right;\"> 3. Posotopek določanja socialnega signala </div>\n",
    "</div>\n",
    "\n",
    "## ■ Korak 4: Implementacija in izvedba eksperimenta \n",
    "\n",
    "#### Primer:\n",
    "\n",
    "- delujoč pogovorni priporočilni sistem na osnovi Matrične faktorizacije in testne množice CoMoDa. \n",
    "- ker **modela socialnih signalov še nimamo**, uporabimo človeškega operaterja (angl. human operator).\n",
    "- ker **sistema za razpoznavo gest nimamo**, uporabimo človeškega operaterja (angl. human operator).\n",
    "\n",
    "\n",
    "<img style=\"float: center; width: 50%;\" src=\"https://raw.githubusercontent.com/andrejkk/UPK_DataImgs/master/HesitationAwareRecSys-ExperSetup.png\">\n",
    "\n",
    "\n",
    "\n",
    "\n",
    "\n",
    "\n",
    "\n",
    "\n",
    "<p style=\"margin-bottom:1cm;\"></p>\n",
    "<div style=\"width:100%;text-align:right;font-weight:bold;font-size:1.2em;\"> 4 </div>\n",
    "<img src=\"https://raw.githubusercontent.com/andrejkk/ORvTK_SlidesImgs/master/footer_full.jpg\">"
   ]
  },
  {
   "cell_type": "markdown",
   "metadata": {
    "slideshow": {
     "slide_type": "slide"
    }
   },
   "source": [
    "<div style=\"display:flex;font-weight:bold;font-size:0.9em;\">\n",
    "<div style=\"flex:1;width:50%;text-align:right;\"> 3. Posotopek določanja socialnega signala </div>\n",
    "</div>\n",
    "\n",
    "## ■ Korak 5: Določanje in preverjanje pravih vrednosti (1)\n",
    "\n",
    "#### Definicija vrednosti socialnega signala\n",
    "\n",
    "Glede na\n",
    "- cilj aplikacije \n",
    "- možnosti razpoznave socialnega signala se odločimo za zalogo vrednosti $Z$\n",
    "\n",
    "\n",
    "Primeri zalog vrednosti so:\n",
    "- $Z=\\{\\mbox{nizko, visoko}\\}$\n",
    "- $Z=\\{\\mbox{nizko, srednje, visoko}\\}$\n",
    "- $Z=\\{\\mbox{ne hiti, hiti}\\}$\n",
    "- $Z=\\{\\mbox{ne okleva, okleva}\\}$\n",
    "\n",
    "V okvuru našega primera Priporočilnega sistema za filme smo izbrali $Z=\\{\\mbox{ne okleva, okleva}\\}$.\n",
    "\n",
    "\n",
    "\n",
    "\n",
    "\n",
    "\n",
    "<p style=\"margin-bottom:1cm;\"></p>\n",
    "<div style=\"width:100%;text-align:right;font-weight:bold;font-size:1.2em;\"> 4 </div>\n",
    "<img src=\"https://raw.githubusercontent.com/andrejkk/ORvTK_SlidesImgs/master/footer_full.jpg\">"
   ]
  },
  {
   "cell_type": "markdown",
   "metadata": {
    "slideshow": {
     "slide_type": "slide"
    }
   },
   "source": [
    "<div style=\"display:flex;font-weight:bold;font-size:0.9em;\">\n",
    "<div style=\"flex:1;width:50%;text-align:right;\"> 3. Posotopek določanja socialnega signala </div>\n",
    "</div>\n",
    "\n",
    "## ■ Korak 5: Določanje in preverjanje pravih vrednosti (2)\n",
    "\n",
    "\n",
    "\n",
    "\n",
    "#### Postopki določanja prave vrednosti\n",
    "\n",
    "Na voljo so naslenji postopki: \n",
    "##### 1. Anotacija zunanjih opazovalcev \n",
    "   - predpostavka: človeški ocenjevalci so zmožni določati izbran socialni signal\n",
    "   - eksperiment posnamemo z video kamero iz pomembnih kotov\n",
    "   - pripravimo aplikacijo za anotiranje, ki\n",
    "     - predvaja video\n",
    "     - z zvočnim znakom (piskom) ocenjevalcu daje ritem ocenjevanje\n",
    "     - ocenjevalec s pritiski na gumbe ocenjuje socialni signal\n",
    "   - prednost: nemoteče za uporabnika\n",
    "   - slabost: konsistentne pristranskosti\n",
    "   - applikacija\n",
    "   \n",
    "<table style=\"width:60%\">\n",
    "  <tr>\n",
    "    <th>Zaslon 1 <img style=\"float: center; width: 100%;\" src=\"https://raw.githubusercontent.com/andrejkk/UPK_DataImgs/master/AttenAnnotator_Scr01.png\"></th>\n",
    "    <th>Zaslon 2 <img style=\"float: center; width: 100%;\" src=\"https://raw.githubusercontent.com/andrejkk/UPK_DataImgs/master/AttenAnnotator_Scr02.png\"></th> \n",
    "  </tr>\n",
    "  <tr>\n",
    "    <td>Zaslon 3 <img style=\"float: center; width: 100%;\" src=\"https://raw.githubusercontent.com/andrejkk/UPK_DataImgs/master/AttenAnnotator_Scr03.png\"></td>\n",
    "    <td>Zaslon 4 <img style=\"float: center; width: 100%;\" src=\"https://raw.githubusercontent.com/andrejkk/UPK_DataImgs/master/AttenAnnotator_Scr04.png\"></td> \n",
    "  </tr>\n",
    "</table>\n",
    "     \n",
    "\n",
    "\n",
    "\n",
    "\n",
    "<p style=\"margin-bottom:1cm;\"></p>\n",
    "<div style=\"width:100%;text-align:right;font-weight:bold;font-size:1.2em;\"> 4 </div>\n",
    "<img src=\"https://raw.githubusercontent.com/andrejkk/ORvTK_SlidesImgs/master/footer_full.jpg\">"
   ]
  },
  {
   "cell_type": "markdown",
   "metadata": {
    "slideshow": {
     "slide_type": "slide"
    }
   },
   "source": [
    "<div style=\"display:flex;font-weight:bold;font-size:0.9em;\">\n",
    "<div style=\"flex:1;width:50%;text-align:right;\"> 3. Posotopek določanja socialnega signala </div>\n",
    "</div>\n",
    "\n",
    "## ■ Korak 5: Določanje in preverjanje pravih vrednosti (3)\n",
    "\n",
    "\n",
    "\n",
    "#### Preverjanje prave vrednosti izbranega socialnega signala. \n",
    "\n",
    "\n",
    "##### Zakaj?\n",
    "Če **pravav rednost** (angl. ground truth) izhaja iz anotiranja, je **potreben pogoj** za veljavnost dovolj velika **skladnost ocenjevalcev**. \n",
    "\n",
    "Če skladnost ocenjevalcel ni dovolj visoka, dobljene prave vrednosti **niso veljavne**. \n",
    "\n",
    "##### Mere preverjanja skladnosti\n",
    "$\\def\\o#1{{\\overline{#1}}}$\n",
    "\n",
    "Mere preverjanja skladnosti so\n",
    "1. Cohenova in Fleisova Kappa <br>\n",
    "   - odstrani naključna ujemanja\n",
    "   - znane so minimalne vrednosti\n",
    "   \n",
    "<table style=\"width:20%\" align=\"center\">\n",
    "  <tr>\n",
    "    <th> $\\kappa$ </th>\n",
    "    <th> Ujemanje </th> \n",
    "  </tr>\n",
    "  <tr>\n",
    "    <td> $<0$ </td>\n",
    "    <td> zelo slabo</td> \n",
    "  </tr>\n",
    "  <tr>\n",
    "    <td> $0.01 – 0.20$ </td>\n",
    "    <td> slabo </td> \n",
    "  </tr>\n",
    "  <tr>\n",
    "    <td> $0.21 – 0.40$ </td>\n",
    "    <td> srednje </td> \n",
    "  </tr>\n",
    "  <tr>\n",
    "    <td> $0.41 – 0.60$ </td>\n",
    "    <td> dobro </td> \n",
    "  </tr>\n",
    "  <tr>\n",
    "    <td> $0.61 – 0.80$ </td>\n",
    "    <td> zelo dobro </td> \n",
    "  </tr>\n",
    "  <tr>\n",
    "    <td> $0.81 – 1.00$ </td>\n",
    "    <td> odlično </td> \n",
    "  </tr>\n",
    "</table>\n",
    "<br>\n",
    "    \t\n",
    "        \n",
    "\n",
    "2. Korelacijski koeficienti <br>\n",
    "   - Glede na tipe ocenjevanih spremenljivk uporabimo Pearsnovo $r$, Kendallov $\\tau$ ali Spearmanov $\\rho$ korelacijski koeficient.\n",
    "   - Računamo parne korelacije med ocenjevalci, ki morajo biti **dovolj visoke**. \n",
    "\n",
    "\n",
    "\n",
    "3. Korelacijski koeficient med razredi (angl Intra-class correlation)\n",
    "   - najugodnejši za naše potrebe\n",
    "\n",
    "\n",
    "\n",
    "\n",
    "\n",
    "\n",
    "\n",
    "\n",
    "<p style=\"margin-bottom:1cm;\"></p>\n",
    "<div style=\"width:100%;text-align:right;font-weight:bold;font-size:1.2em;\"> 4 </div>\n",
    "<img src=\"https://raw.githubusercontent.com/andrejkk/ORvTK_SlidesImgs/master/footer_full.jpg\">"
   ]
  },
  {
   "cell_type": "markdown",
   "metadata": {
    "slideshow": {
     "slide_type": "slide"
    }
   },
   "source": [
    "<div style=\"display:flex;font-weight:bold;font-size:0.9em;\">\n",
    "<div style=\"flex:1;width:50%;text-align:right;\"> 3. Posotopek določanja socialnega signala </div>\n",
    "</div>\n",
    "\n",
    "## ■ Zaključek\n",
    "\n",
    "\n",
    "\n",
    "<p style=\"margin-bottom:1cm;\"></p>\n",
    "<div style=\"width:100%;text-align:right;font-weight:bold;font-size:1.2em;\"> 4 </div>\n",
    "<img src=\"https://raw.githubusercontent.com/andrejkk/ORvTK_SlidesImgs/master/footer_full.jpg\">"
   ]
  },
  {
   "cell_type": "code",
   "execution_count": null,
   "metadata": {},
   "outputs": [],
   "source": []
  }
 ],
 "metadata": {
  "celltoolbar": "Slideshow",
  "kernelspec": {
   "display_name": "Python 3.9.7 ('spyder_tf')",
   "language": "python",
   "name": "python3"
  },
  "language_info": {
   "codemirror_mode": {
    "name": "ipython",
    "version": 3
   },
   "file_extension": ".py",
   "mimetype": "text/x-python",
   "name": "python",
   "nbconvert_exporter": "python",
   "pygments_lexer": "ipython3",
   "version": "3.9.7"
  },
  "vscode": {
   "interpreter": {
    "hash": "f16579df0db49a298d8f1c71e3c9674adcc712ea2693c640f002e39896cc0aaa"
   }
  }
 },
 "nbformat": 4,
 "nbformat_minor": 2
}
