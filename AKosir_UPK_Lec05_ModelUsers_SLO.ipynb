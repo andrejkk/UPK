{
 "cells": [
  {
   "cell_type": "markdown",
   "metadata": {
    "collapsed": true,
    "slideshow": {
     "slide_type": "slide"
    }
   },
   "source": [
    "<img style=\"float: center; width: 100%\" src=\"https://raw.githubusercontent.com/andrejkk/TalksImgs/master/FrontSlideUpperBan.png\">\n",
    "<p style=\"margin-bottom:2cm;\"></p>\n",
    "\n",
    "<center>\n",
    "    <H1> 5. Modeliranje uporabnikov </H1>\n",
    "   \n",
    "\n",
    "\n",
    "<br><br>\n",
    "    <H3> Andrej Košir, Lucami, FE </H3>\n",
    "    <H4> Kontakt: prof. dr. Andrej Košir, andrej.kosir@fe.uni-lj.si, ZOOM https://uni-lj-si.zoom.us/j/93256186073 </H4>\n",
    "</center>\n",
    "\n",
    "\n",
    "\n",
    "\n",
    "\n",
    "<p style=\"margin-bottom:2cm;\"></p>\n",
    "<div style=\"width:100%;text-align:right;font-weight:bold;font-size:1.2em;\"> 1 </div>\n",
    "<img src=\"https://raw.githubusercontent.com/andrejkk/ORvTK_SlidesImgs/master/footer_full.jpg\">"
   ]
  },
  {
   "cell_type": "markdown",
   "metadata": {
    "slideshow": {
     "slide_type": "slide"
    }
   },
   "source": [
    "<div style=\"display:flex;font-weight:bold;font-size:0.9em;\">\n",
    "<div style=\"flex:1;width:50%;\"> 5. Modeliranje uporabnikov </div>\n",
    "<div style=\"flex:1;width:50%;text-align:right;\"> Cilji </div>\n",
    "</div>\n",
    "\n",
    "\n",
    "## Cilji poglavja\n",
    "\n",
    "- Spoznati problem modeliranja uporabnikov\n",
    "- Spoznati:\n",
    "    - Segmentacijo uporabnikov\n",
    "    - Kontekst uporabnika\n",
    "    - Modeliranje z Markovskimi verigami\n",
    "\n",
    "\n",
    "\n",
    "\n",
    "<p style=\"margin-bottom:1cm;\"></p>\n",
    "<div style=\"width:100%;text-align:right;font-weight:bold;font-size:1.2em;\"> 2 </div>\n",
    "<img src=\"https://raw.githubusercontent.com/andrejkk/ORvTK_SlidesImgs/master/footer_full.jpg\">"
   ]
  },
  {
   "cell_type": "markdown",
   "metadata": {
    "slideshow": {
     "slide_type": "slide"
    }
   },
   "source": [
    "<div style=\"display:flex;font-weight:bold;font-size:0.9em;\">\n",
    "<div style=\"flex:1;width:50%;\"> 5. Modeliranje uporabnikov </div>\n",
    "<div style=\"flex:1;width:50%;text-align:right;\"> Vsebina </div>\n",
    "</div>\n",
    "\n",
    "\n",
    "## Poglavja\n",
    "\n",
    "### Modeliranje uporabnikov: segmentacija\n",
    "\n",
    "\n",
    "#### 1. Segmentacija\n",
    "\n",
    "■ Kaj je segmentacija, zakaj?\n",
    "\n",
    "■ Kaj je segmentacija TGI*\n",
    "\n",
    "■ Cilji TGI - kaj nudi*\n",
    "\n",
    "■ Sektorji uporabnikov\n",
    "\n",
    "■ Primer rezultata: segmenti uporabnikov z opisi\n",
    "\n",
    "■ Zaključki\n",
    "\n",
    "\n",
    "#### 2. Segmentacija uporabnikov mobilnih komunikacij\n",
    "\n",
    "\n",
    "■ Dimenzije segemtov uporabnikov mobilnih komunikacij\n",
    "\n",
    "■ Konceptualno drevo za uporabnikov stil življenja\n",
    "\n",
    "■ Konceptualno drevo za motivacijo uporabe\n",
    "\n",
    "■ Konceptualno drevo za lastnosti storitev in produktov\n",
    "\n",
    "■ Izvedba uporabniške raziskave in analize\n",
    "\n",
    "\n",
    "\n",
    "\n",
    "### Modeliranje uporabnikov: kontekst \n",
    "\n",
    "#### 1. Kontekst\n",
    "\n",
    "■ Uvod in opis konteksta*\n",
    "\n",
    "■ Zgradba konteksta\n",
    "\n",
    "■ Hierarhija konteksta*\n",
    "\n",
    "■ Faze upoštevanja konteksta\n",
    "\n",
    "■ Kontekstni faktorji in dostopnost konteksta*\n",
    "\n",
    "■ Določanje konteksta - viri informacij\n",
    "\n",
    "■ Določanje konteksta - algoritmi\n",
    "\n",
    "■ Določanje konteksta - podatkovne množice realne uporabe storitev\n",
    "\n",
    "\n",
    "<p style=\"margin-bottom:1cm;\"></p>\n",
    "<div style=\"width:100%;text-align:right;font-weight:bold;font-size:1.2em;\"> 3 </div>\n",
    "<img src=\"https://raw.githubusercontent.com/andrejkk/ORvTK_SlidesImgs/master/footer_full.jpg\">"
   ]
  },
  {
   "cell_type": "code",
   "execution_count": null,
   "metadata": {},
   "outputs": [],
   "source": []
  }
 ],
 "metadata": {
  "celltoolbar": "Slideshow",
  "kernelspec": {
   "display_name": "Python 3.9.7 ('spyder_tf')",
   "language": "python",
   "name": "python3"
  },
  "language_info": {
   "codemirror_mode": {
    "name": "ipython",
    "version": 3
   },
   "file_extension": ".py",
   "mimetype": "text/x-python",
   "name": "python",
   "nbconvert_exporter": "python",
   "pygments_lexer": "ipython3",
   "version": "3.9.7"
  },
  "vscode": {
   "interpreter": {
    "hash": "f16579df0db49a298d8f1c71e3c9674adcc712ea2693c640f002e39896cc0aaa"
   }
  }
 },
 "nbformat": 4,
 "nbformat_minor": 2
}
