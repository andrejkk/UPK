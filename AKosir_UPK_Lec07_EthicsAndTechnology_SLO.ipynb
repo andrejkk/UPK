{
 "cells": [
  {
   "cell_type": "markdown",
   "metadata": {
    "collapsed": true,
    "slideshow": {
     "slide_type": "slide"
    }
   },
   "source": [
    "<img style=\"float: center; width: 100%\" src=\"https://raw.githubusercontent.com/andrejkk/TalksImgs/master/FrontSlideUpperBan.png\">\n",
    "<p style=\"margin-bottom:2cm;\"></p>\n",
    "\n",
    "<center>\n",
    "    <H1> 7. Etika in tehnologija </H1>\n",
    "    <H3> Uvod </H3>\n",
    "\n",
    "<br>\n",
    "    <H3> Andrej Košir, Lucami, FE </H3>\n",
    "    <H4> Kontakt: prof. dr. Andrej Košir, andrej.kosir@lucami.fe.uni-lj.si, skype=akosir_sid </H4>\n",
    "</center>\n",
    "\n",
    "\n",
    "<p style=\"margin-bottom:2cm;\"></p>\n",
    "<img src=\"https://raw.githubusercontent.com/andrejkk/ORvTK_SlidesImgs/master/footer_full.jpg\">\n"
   ]
  },
  {
   "cell_type": "markdown",
   "metadata": {},
   "source": [
    "## Cilji in učni izidi\n",
    "\n",
    "#### Cilji \n",
    "\n",
    " Cilj poglavja je osnovno razumevanje etičnih vidikov prilagajanja uporabnikom in širše pametnih tehnologij:\n",
    " - kateri vidiki so pommbni;\n",
    " - kako se etični vidiki dotikajo razvoja pametnih aplikacij\n",
    "\n",
    "#### Učni izidi\n",
    "\n",
    " - Poznavanje izbranih konceptov etike\n",
    " - Poznavanje konceptov etike v zvezi s tehnologijo\n",
    " - Zmožnost prepoznavanja etično spornih rešitev pametnih tehnologij\n",
    " \n",
    "\n",
    "<p style=\"margin-bottom:2cm;\"></p>\n",
    "<div style=\"width:100%; text-align: right; font-weight:bold; font-size:1.2em;\"> 1 </div>\n",
    "<img src=\"https://raw.githubusercontent.com/andrejkk/ORvTK_SlidesImgs/master/footer_full.jpg\">"
   ]
  },
  {
   "cell_type": "markdown",
   "metadata": {
    "slideshow": {
     "slide_type": "slide"
    }
   },
   "source": [
    "<div style=\"display:flex;font-weight:bold;font-size:0.9em;\">\n",
    "<div style=\"flex:1;width:50%;\"> 7. Etika in tehnologija </div>\n",
    "</div>\n",
    "\n",
    "## 7. Etika in tehnologija\n",
    "\n",
    "\n",
    "### 7.1. Tehnološko ozadje\n",
    "\n",
    "■ Digitalna ločnica*\n",
    "\n",
    "■ Inteligenca sistemov*\n",
    "\n",
    "■ Kje smo s tehnologijo\n",
    "\n",
    "■ Primer: pogovorni sistem in pametni dom \n",
    "\n",
    "■ Kaj se dogaja s podatki\n",
    "\n",
    "■ GDPR in deanonimizacija* \n",
    "\n",
    "■ Ali nas uporaba občutljivih podatkov moti?\n",
    "\n",
    "\n",
    "### 7.2 Etika in tehnologija\n",
    "\n",
    "■ Kaj je etika?*\n",
    "\n",
    "■ Ali je rešitev Varnost v načrtu (angl. Privacy by design)?*\n",
    "\n",
    "■ Etična nevtralnost tehnologije?*\n",
    "\n",
    "■ Humova giljotina*\n",
    "\n",
    "■ Ali tehnologija spreminja etiko?*\n",
    "\n",
    "■ Kdo dela na tem področju - viri\n",
    "\n",
    "■ Ključno: Ali zmoremo?\n",
    "\n",
    "■ Zaključni poudarki\n",
    "\n",
    "\n",
    "\n",
    "\n",
    "<p style=\"margin-bottom:1cm;\"></p>\n",
    "<div style=\"width:100%; text-align: right; font-weight:bold; font-size:1.2em;\"> 2 </div>\n",
    "<img src=\"https://raw.githubusercontent.com/andrejkk/ORvTK_SlidesImgs/master/footer_full.jpg\">"
   ]
  },
  {
   "cell_type": "markdown",
   "metadata": {
    "slideshow": {
     "slide_type": "slide"
    }
   },
   "source": [
    "<div style=\"display:flex;font-weight:bold;font-size:0.9em;\">\n",
    "<div style=\"flex:1;width:50%;\"> 7. Etika in tehnologija </div>\n",
    "<div style=\"flex:1;width:50%;text-align:right;\"> 7. 1. Tehnološko ozadje </div>\n",
    "</div>\n",
    "\n",
    "## ■ Digitalna ločnica\n",
    "\n",
    "<br>\n",
    "\n",
    "### Definicija:\n",
    "\n",
    "<br>\n",
    "<span style=\"font-size:1.2em;\">\n",
    "\n",
    "A digital divide is **any uneven distribution** in the access to, use of, or impact of information and communication technologies (ICT) between any number of distinct groups. These groups may be defined based on \n",
    " 1. social\n",
    " 2. geographical\n",
    " 3. or geopolitical criteria, \n",
    " 4. or otherwise.   \n",
    "    \n",
    "[Wikipedia]    \n",
    "</span>\n",
    "\n",
    "Razlogi so med drugim tudi neprilagojenost storitev in aplikacij. \n",
    "\n",
    "<p style=\"margin-bottom:2cm;\"></p>\n",
    "<div style=\"width:100%; text-align: right; font-weight:bold; font-size:1.2em;\"> 3 </div>\n",
    "<img src=\"https://raw.githubusercontent.com/andrejkk/ORvTK_SlidesImgs/master/footer_full.jpg\">"
   ]
  },
  {
   "cell_type": "markdown",
   "metadata": {
    "slideshow": {
     "slide_type": "slide"
    }
   },
   "source": [
    "<div style=\"display:flex;font-weight:bold;font-size:0.9em;\">\n",
    "<div style=\"flex:1;width:50%;\"> 7. Etika in tehnologija </div>\n",
    "<div style=\"flex:1;width:50%;text-align:right;\"> 7. 1. Tehnološko ozadje </div>\n",
    "</div>\n",
    "\n",
    "## ■ Inteligenca sistemov\n",
    "\n",
    "<br>\n",
    "\n",
    "#### Definicija:\n",
    "\n",
    "<br>\n",
    "<span style=\"font-size:1.2em;\">\n",
    "\"Zmožnost sistema, da pravilno interpretira zunanje podatke, da se iz takih podatkov uči in da ta nova znanja uporablja za fleksibilno prilagajanje v okolju in doseganje specifičnih ciljev in nalog\".\n",
    "</span>\n",
    "\n",
    "\n",
    "\n",
    "<p>\n",
    "\n",
    "    \n",
    "<span style=\"font-size:1.2em;\">\n",
    "    \n",
    "Bistveno je **delo na podatkih** o uporabnikih, kar nujno vodi do previdnosti glede etike. \n",
    "</span>\n",
    "\n",
    "<br>\n",
    "\n",
    "*Literatura*: A. Kaplan, M. Haenlein: Siri, Siri, in my hand: Who’s the fairest in the land? On the interpretations, illustrations, and implications of artificial intelligence, *Business Horizons*, Volume 62, Issue 1, 2019. \n",
    "\n",
    "\n",
    "<p style=\"margin-bottom:2cm;\"></p>\n",
    "<div style=\"width:100%; text-align: right; font-weight:bold; font-size:1.2em;\"> 4 </div>\n",
    "<img src=\"https://raw.githubusercontent.com/andrejkk/ORvTK_SlidesImgs/master/footer_full.jpg\">"
   ]
  },
  {
   "cell_type": "markdown",
   "metadata": {
    "slideshow": {
     "slide_type": "slide"
    }
   },
   "source": [
    "<div style=\"display:flex;font-weight:bold;font-size:0.9em;\">\n",
    "<div style=\"flex:1;width:50%;\"> 7. Etika in tehnologija </div>\n",
    "<div style=\"flex:1;width:50%;text-align:right;\"> 7. 1. Tehnološko ozadje </div>\n",
    "</div>\n",
    "\n",
    "## ■ Kje smo s tehnologijo\n",
    "\n",
    "\n",
    "* Razpoloženje, čustveno stanje\n",
    "* Modeli pozornosti (učenje, vožnja, …) \n",
    "* Modeli zaupanja (avtonomna vožnja, …)\n",
    "* Model zdravega staranja\n",
    "* ...\n",
    "* White paper: Humility in AI\n",
    "\n",
    "\n",
    "\n",
    "<p style=\"margin-bottom:1cm;\"></p>\n",
    "<div style=\"width:100%; text-align: right; font-weight:bold; font-size:1.2em;\"> 5 </div>\n",
    "<img src=\"https://raw.githubusercontent.com/andrejkk/ORvTK_SlidesImgs/master/footer_full.jpg\">"
   ]
  },
  {
   "cell_type": "markdown",
   "metadata": {
    "slideshow": {
     "slide_type": "slide"
    }
   },
   "source": [
    "<div style=\"display:flex;font-weight:bold;font-size:0.9em;\">\n",
    "<div style=\"flex:1;width:50%;\"> 7. Etika in tehnologija </div>\n",
    "<div style=\"flex:1;width:50%;text-align:right;\"> 7. 1. Tehnološko ozadje </div>\n",
    "</div>\n",
    "\n",
    "## ■ Primer: pogovorni sistem in pametni dom \n",
    "\n",
    "<br><br>\n",
    "\n",
    "<img style=\"float: center; width: 50%;\" src=\"https://raw.githubusercontent.com/andrejkk/UPK_DataImgs/master/SmartKitchen.jpg\">\n",
    "Vir: https://www.businesswire.com/\n",
    "\n",
    "### Etični izzivi?\n",
    "\n",
    "<p style=\"margin-bottom:2cm;\"></p>\n",
    "<div style=\"width:100%; text-align: right; font-weight:bold; font-size:1.2em;\"> 6 </div>\n",
    "<img src=\"https://raw.githubusercontent.com/andrejkk/ORvTK_SlidesImgs/master/footer_full.jpg\">"
   ]
  },
  {
   "cell_type": "markdown",
   "metadata": {
    "slideshow": {
     "slide_type": "slide"
    }
   },
   "source": [
    "<div style=\"display:flex;font-weight:bold;font-size:0.9em;\">\n",
    "<div style=\"flex:1;width:50%;\"> 7. Etika in tehnologija </div>\n",
    "<div style=\"flex:1;width:50%;text-align:right;\"> 7. 1. Tehnološko ozadje </div>\n",
    "</div>\n",
    "\n",
    "## ■ Kaj se dogaja s podatki\n",
    "\n",
    "- Zakaj je \"google maps\" boljši od LPP.si?\n",
    "\n",
    "\n",
    "- Dostopnost do informacij:\n",
    "    - Akademsko okolje: odprto\n",
    "    - Podjetja: zaprto\n",
    "\n",
    "\n",
    "- Google: \n",
    "    - Potrebuje: najboljše ljudi + zaupanje\n",
    "     - Pregleduje “cel svet”\n",
    "\n",
    "\n",
    "<img style=\"float: center; width: 80%;\" src=\"https://raw.githubusercontent.com/andrejkk/UPK_DataImgs/master/Ethics_DataFlow.png\">\n",
    "\n",
    "\n",
    "<div style=\"width:100%; text-align: right; font-weight:bold; font-size:1.2em;\"> 7 </div>\n",
    "<img src=\"https://raw.githubusercontent.com/andrejkk/ORvTK_SlidesImgs/master/footer_full.jpg\">"
   ]
  },
  {
   "cell_type": "markdown",
   "metadata": {
    "slideshow": {
     "slide_type": "slide"
    }
   },
   "source": [
    "<div style=\"display:flex;font-weight:bold;font-size:0.9em;\">\n",
    "<div style=\"flex:1;width:50%;\"> 7. Etika in tehnologija </div>\n",
    "<div style=\"flex:1;width:50%;text-align:right;\"> 7. 1. Tehnološko ozadje </div>\n",
    "</div>\n",
    "\n",
    "## ■ GDPR in deanonimizacija\n",
    "\n",
    "\n",
    "- Možnosti zlorabe:\n",
    "    - Npr. Čustveni profil -> razgovor za službo\n",
    "\n",
    "\n",
    "- Ali je GDPR mogoče dosledno izvajat?\n",
    "    - osnovne informacije: https://sl.wikipedia.org/wiki/Splo%C5%A1na_uredba_o_varstvu_podatkov\n",
    "    \n",
    "\n",
    "- Kaj vse se da deanonimizirat? \n",
    "\n",
    "\n",
    "<p style=\"margin-bottom:1cm;\"></p>\n",
    "<div style=\"width:100%; text-align: right; font-weight:bold; font-size:1.2em;\"> 8 </div>\n",
    "<img src=\"https://raw.githubusercontent.com/andrejkk/ORvTK_SlidesImgs/master/footer_full.jpg\">"
   ]
  },
  {
   "cell_type": "markdown",
   "metadata": {
    "slideshow": {
     "slide_type": "slide"
    }
   },
   "source": [
    "<div style=\"display:flex;font-weight:bold;font-size:0.9em;\">\n",
    "<div style=\"flex:1;width:50%;\"> 7. Etika in tehnologija </div>\n",
    "<div style=\"flex:1;width:50%;text-align:right;\"> 7. 1. Tehnološko ozadje </div>\n",
    "</div>\n",
    "\n",
    "## ■ Ali nas uporaba občutljivih podatkov moti?\n",
    "\n",
    "\n",
    "- Ali nas uporaba podatkov res moti?\n",
    "- **Manj kot se zdi:**\n",
    "    - Google: za 1€ mesec vas rešimo reklam?\n",
    "\n",
    "\n",
    "- Nizkocenovni prevozniki: možnosti\n",
    "    - Karta 0€ + vaši podatki\n",
    "    - Karta 200€ brez vaših podatkov\n",
    "\n",
    "\n",
    "\n",
    "\n",
    "<p style=\"margin-bottom:2cm;\"></p>\n",
    "<div style=\"width:100%; text-align: right; font-weight:bold; font-size:1.2em;\"> 9 </div>\n",
    "<img src=\"https://raw.githubusercontent.com/andrejkk/ORvTK_SlidesImgs/master/footer_full.jpg\">"
   ]
  },
  {
   "cell_type": "markdown",
   "metadata": {
    "slideshow": {
     "slide_type": "slide"
    }
   },
   "source": [
    "<div style=\"display:flex;font-weight:bold;font-size:0.9em;\">\n",
    "<div style=\"flex:1;width:50%;\"> 7. Etika in tehnologija </div>\n",
    "<div style=\"flex:1;width:50%;text-align:right;\"> 7.2 Etika in tehnologija </div>\n",
    "</div>\n",
    "\n",
    "\n",
    "### 7.2 Etika in tehnologija\n",
    "\n",
    "■ Kaj je etika?\n",
    "\n",
    "■ Ali je rešitev Varnost v načrtu (angl. Privacy by design)?\n",
    "\n",
    "■ Etična nevtralnost tehnologije?\n",
    "\n",
    "■ Humova giljotina!\n",
    "\n",
    "■ Ali tehnologija spreminja etiko?\n",
    "\n",
    "■ Kdo dela na tem področju - viri\n",
    "\n",
    "■ Ključno: Ali zmoremo?\n",
    "\n",
    "■ Zaključni poudarki\n",
    "\n",
    "\n",
    "\n",
    "\n",
    "<p style=\"margin-bottom:2cm;\"></p>\n",
    "<div style=\"width:100%; text-align: right; font-weight:bold; font-size:1.2em;\"> 10 </div>\n",
    "<img src=\"https://raw.githubusercontent.com/andrejkk/ORvTK_SlidesImgs/master/footer_full.jpg\">"
   ]
  },
  {
   "cell_type": "markdown",
   "metadata": {
    "slideshow": {
     "slide_type": "slide"
    }
   },
   "source": [
    "<div style=\"display:flex;font-weight:bold;font-size:0.9em;\">\n",
    "<div style=\"flex:1;width:50%;\"> 7. Etika in tehnologija </div>\n",
    "<div style=\"flex:1;width:50%;text-align:right;\"> 7. 2. Etika in tehnologija </div>\n",
    "</div>\n",
    "\n",
    "## ■ Kaj je etika?\n",
    "\n",
    "Etika je veja filozofije, ki\n",
    "- sistematizira\n",
    "- brani \n",
    "- priporoča \n",
    "\n",
    "\n",
    "koncepte pravilnega in napačnega ravnanja.\n",
    "\n",
    "\n",
    "Etika ni morala: Morala označuje obliko človekovega odnosa do sveta, drugih ljudi in do sebe. \n",
    "\n",
    "<div style=\"width:100%; text-align: right; font-weight:bold; font-size:1.2em;\"> 11 </div>\n",
    "<img src=\"https://raw.githubusercontent.com/andrejkk/ORvTK_SlidesImgs/master/footer_full.jpg\">"
   ]
  },
  {
   "cell_type": "markdown",
   "metadata": {
    "slideshow": {
     "slide_type": "slide"
    }
   },
   "source": [
    "<div style=\"display:flex;font-weight:bold;font-size:0.9em;\">\n",
    "<div style=\"flex:1;width:50%;\"> 7. Etika in tehnologija </div>\n",
    "<div style=\"flex:1;width:50%;text-align:right;\"> 7. 2. Etika in tehnologija </div>\n",
    "</div>\n",
    "\n",
    "## ■ Ali je rešitev Varnost v načrtu (angl. Privacy by design)?\n",
    "\n",
    "\n",
    "#### Vodila (v angleščini):\n",
    "1. Proactive not reactive; preventive not remedial\n",
    "2. Privacy as the default setting\n",
    "3. Privacy embedded into design\n",
    "4. Full functionality – positive-sum, not zero-sum\n",
    "5. End-to-end security – full lifecycle protection\n",
    "6. Visibility and transparency – keep it open\n",
    "7. Respect for user privacy – keep it user-centric\n",
    "\n",
    "Vir: https://en.wikipedia.org/wiki/Privacy_by_design\n",
    "\n",
    "\n",
    "\n",
    "#### Bistveno\n",
    "Etike tehnologiji ne moreš dodati potem ko je ustvarjena in v uporabi. Lahko jo integriraš le v celotnem procesu nastajanja apliakcije.  \n",
    "\n",
    "\n",
    "<p style=\"margin-bottom:1cm;\"></p>\n",
    "<div style=\"width:100%; text-align: right; font-weight:bold; font-size:1.2em;\"> 12 </div>\n",
    "<img src=\"https://raw.githubusercontent.com/andrejkk/ORvTK_SlidesImgs/master/footer_full.jpg\">"
   ]
  },
  {
   "cell_type": "markdown",
   "metadata": {
    "slideshow": {
     "slide_type": "slide"
    }
   },
   "source": [
    "<div style=\"display:flex;font-weight:bold;font-size:0.9em;\">\n",
    "<div style=\"flex:1;width:50%;\"> 7. Etika in tehnologija </div>\n",
    "<div style=\"flex:1;width:50%;text-align:right;\"> 7. 2. Etika in tehnologija </div>\n",
    "</div>\n",
    "\n",
    "## ■ Etična nevtralnost tehnologije?\n",
    "\n",
    "\n",
    "Nevtralnost glede na:\n",
    "- Obstoječe vrednote\n",
    "- Glede na posledice\n",
    "\n",
    "### Ali se uporabnik zaveda možnosti uporabe podatkov, ki jih (nevede) daje v uporabo?\n",
    "\n",
    "\n",
    "Ali so Googlove storitve etično nevtralne?\n",
    "\n",
    "Gumb **[I agree]** ne velja več.  \n",
    "\n",
    "\n",
    "\n",
    "<p style=\"margin-bottom:2cm;\"></p>\n",
    "<div style=\"width:100%; text-align: right; font-weight:bold; font-size:1.2em;\"> 13 </div>\n",
    "<img src=\"https://raw.githubusercontent.com/andrejkk/ORvTK_SlidesImgs/master/footer_full.jpg\">"
   ]
  },
  {
   "cell_type": "markdown",
   "metadata": {
    "slideshow": {
     "slide_type": "slide"
    }
   },
   "source": [
    "<div style=\"display:flex;font-weight:bold;font-size:0.9em;\">\n",
    "<div style=\"flex:1;width:50%;\"> 7. Etika in tehnologija </div>\n",
    "<div style=\"flex:1;width:50%;text-align:right;\"> 7. 2. Etika in tehnologija </div>\n",
    "</div>\n",
    "\n",
    "## ■ Humova giljotina\n",
    "\n",
    "Filozof Hume (1711 - 1776) je sklepal takole\n",
    "\n",
    "1. Kajenje je škodljivo za zdravje (ugotovljivo).\n",
    "2. Želimo biti zdravi (vrednostni konsenz).\n",
    "\n",
    "==> \n",
    "\n",
    "3. Kajenje preopovemo.  \n",
    "\n",
    "Korak 2. je predmet **vrednostnega konsenza**. \n",
    "\n",
    "Zato: **UMETNA INTELIGENCA NE BO REŠILA ETIČNIH VPRAŠANJ.**\n",
    "\n",
    "\n",
    "<p style=\"margin-bottom:2cm;\"></p>\n",
    "<div style=\"width:100%; text-align: right; font-weight:bold; font-size:1.2em;\"> 14 </div>\n",
    "<img src=\"https://raw.githubusercontent.com/andrejkk/ORvTK_SlidesImgs/master/footer_full.jpg\">"
   ]
  },
  {
   "cell_type": "markdown",
   "metadata": {
    "slideshow": {
     "slide_type": "slide"
    }
   },
   "source": [
    "<div style=\"display:flex;font-weight:bold;font-size:0.9em;\">\n",
    "<div style=\"flex:1;width:50%;\"> 7. Etika in tehnologija </div>\n",
    "<div style=\"flex:1;width:50%;text-align:right;\"> 7. 2. Etika in tehnologija </div>\n",
    "</div>\n",
    "\n",
    "## ■ Ali tehnologija spreminja etiko?\n",
    "\n",
    "\n",
    "<br>\n",
    "\n",
    "\n",
    "- Tehnologija premika meje v smislu kaj tehnologija zmore. Ali to spreminja etiko? **DA**.\n",
    "\n",
    "\n",
    "- Etičnost tehnologij je povezana z razumevanjem teh tehnologij in regulacij s strani uporabnikov – te so pa vedno bolj zapletene. \n",
    "\n",
    "\n",
    "- Google 2019: Advanced Technology External Advisory Council: ukinjen po dobrem tednu dni. \n",
    "\n",
    "\n",
    "\n",
    "<p style=\"margin-bottom:1cm;\"></p>\n",
    "<div style=\"width:100%; text-align: right; font-weight:bold; font-size:1.2em;\"> 15 </div>\n",
    "<img src=\"https://raw.githubusercontent.com/andrejkk/ORvTK_SlidesImgs/master/footer_full.jpg\">"
   ]
  },
  {
   "cell_type": "markdown",
   "metadata": {
    "slideshow": {
     "slide_type": "slide"
    }
   },
   "source": [
    "<div style=\"display:flex;font-weight:bold;font-size:0.9em;\">\n",
    "<div style=\"flex:1;width:50%;\"> 7. Etika in tehnologija </div>\n",
    "<div style=\"flex:1;width:50%;text-align:right;\"> 7. 2. Etika in tehnologija </div>\n",
    "</div>\n",
    "\n",
    "## ■ Kdo dela na tem področju - viri\n",
    "\n",
    "\n",
    "### EU projekt SATORI (https://satoriproject.eu/), 4 M€\n",
    "\n",
    "Izhodišče: etika v raziskavah in razvoju ima velik vpliv na \n",
    "- Človekove pravice\n",
    "- Pravni system\n",
    "- Okolje\n",
    "- …\n",
    "\n",
    "Cilj: razvoj EU okvirja etične presoje raziskav: stanje, predlogi\n",
    "\n",
    "\n",
    "Udeleženci: 14 držav, 16 partnerjev: pravo, industrija, akademija, …, UNESCO \n",
    "\n",
    "\n",
    "\n",
    "\n",
    "<p style=\"margin-bottom:2cm;\"></p>\n",
    "<div style=\"width:100%; text-align: right; font-weight:bold; font-size:1.2em;\"> 16 </div>\n",
    "<img src=\"https://raw.githubusercontent.com/andrejkk/ORvTK_SlidesImgs/master/footer_full.jpg\">"
   ]
  },
  {
   "cell_type": "markdown",
   "metadata": {
    "slideshow": {
     "slide_type": "slide"
    }
   },
   "source": [
    "<div style=\"display:flex;font-weight:bold;font-size:0.9em;\">\n",
    "<div style=\"flex:1;width:50%;\"> 7. Etika in tehnologija </div>\n",
    "<div style=\"flex:1;width:50%;text-align:right;\"> 7. 2. Etika in tehnologija </div>\n",
    "</div>\n",
    "\n",
    "## ■ Ključno: Ali zmoremo?\n",
    "\n",
    "<br>\n",
    "\n",
    "Družbeni konsenz glede uporabe naprednih tehnologij?\n",
    "\n",
    "\n",
    "Uveljavitev konsenza v \n",
    "- Regulativo?\n",
    "- Prakso?\n",
    "\n",
    "\n",
    "<p style=\"margin-bottom:2cm;\"></p>\n",
    "<div style=\"width:100%; text-align: right; font-weight:bold; font-size:1.2em;\"> 17 </div>\n",
    "<img src=\"https://raw.githubusercontent.com/andrejkk/ORvTK_SlidesImgs/master/footer_full.jpg\">"
   ]
  },
  {
   "cell_type": "markdown",
   "metadata": {
    "slideshow": {
     "slide_type": "slide"
    }
   },
   "source": [
    "<div style=\"display:flex;font-weight:bold;font-size:0.9em;\">\n",
    "<div style=\"flex:1;width:50%;\"> 7. Etika in tehnologija </div>\n",
    "<div style=\"flex:1;width:50%;text-align:right;\"> 7. 2. Etika in tehnologija </div>\n",
    "</div>\n",
    "\n",
    "## ■ Zaključne misli\n",
    "\n",
    "<br>\n",
    "\n",
    "\n",
    "* Glavni izziv je **družbeni konsenz** glede uporabe tehnologije\n",
    "* **Potencial** teh tehnologij je **izjemen** (npr. Oskrba starejših)\n",
    "* Umetna inteligenca **ne more rešit** etičnih problemov\n",
    "* Napredek in poučevanje etike vzporedno s tehnologijo \n",
    "* **Regulacija** je nujna: to ni proti svobodi ustvarjanja, le z odgovornostjo!\n",
    "\n",
    "\n",
    "<p style=\"margin-bottom:1cm;\"></p>\n",
    "<div style=\"width:100%; text-align: right; font-weight:bold; font-size:1.2em;\"> 18 </div>\n",
    "<img src=\"https://raw.githubusercontent.com/andrejkk/ORvTK_SlidesImgs/master/footer_full.jpg\">"
   ]
  }
 ],
 "metadata": {
  "celltoolbar": "Slideshow",
  "kernelspec": {
   "display_name": "Python 3",
   "language": "python",
   "name": "python3"
  },
  "language_info": {
   "codemirror_mode": {
    "name": "ipython",
    "version": 3
   },
   "file_extension": ".py",
   "mimetype": "text/x-python",
   "name": "python",
   "nbconvert_exporter": "python",
   "pygments_lexer": "ipython3",
   "version": "3.7.6"
  }
 },
 "nbformat": 4,
 "nbformat_minor": 2
}
