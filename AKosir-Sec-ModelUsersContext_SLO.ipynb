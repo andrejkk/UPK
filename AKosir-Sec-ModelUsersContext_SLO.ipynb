{
 "cells": [
  {
   "cell_type": "markdown",
   "metadata": {
    "collapsed": true,
    "slideshow": {
     "slide_type": "slide"
    }
   },
   "source": [
    "<img style=\"float: center; width: 100%\" src=\"https://raw.githubusercontent.com/andrejkk/TalksImgs/master/FrontSlideUpperBan.png\">\n",
    "<p style=\"margin-bottom:2cm;\"></p>\n",
    "\n",
    "<center>\n",
    "    <H1> Modeliranje uporabnikov: kontekst </H1>\n",
    "   \n",
    "\n",
    "\n",
    "<br><br>\n",
    "    <H3> Andrej Košir, Lucami, FE </H3>\n",
    "    <H4> Kontakt: prof. dr. Andrej Košir, andrej.kosir@fe.uni-lj.si </H4>\n",
    "    <H4> ZOOM https://uni-lj-si.zoom.us/j/8638167479  </H4>\n",
    "</center>"
   ]
  },
  {
   "cell_type": "markdown",
   "metadata": {
    "slideshow": {
     "slide_type": "slide"
    }
   },
   "source": [
    "<p style=\"margin-bottom:2cm;\"></p>\n",
    "<div style=\"width:100%;text-align:right;font-weight:bold;font-size:1.2em;\"> 1 </div>\n",
    "<img src=\"https://raw.githubusercontent.com/andrejkk/ORvTK_SlidesImgs/master/footer_full.jpg\">\n",
    "\n",
    "<div style=\"display:flex;font-weight:bold;font-size:0.9em;\">\n",
    "<div style=\"flex:1;width:50%;text-align:right;\"> Cilji, ponudba </div>\n",
    "</div>\n",
    "\n",
    "\n",
    "## Cilji\n",
    "\n",
    "- seznaniti se s kontekstom in zavedanjem situacije\n",
    "- spoznati hierarhično strukturo konteksta\n",
    "- spoznati osnovne mehanizme določanja konteksta\n",
    "\n",
    "\n",
    "\n",
    "<p style=\"margin-bottom:1cm;\"></p>\n",
    "<div style=\"width:100%;text-align:right;font-weight:bold;font-size:1.2em;\"> 2 </div>\n",
    "<img src=\"https://raw.githubusercontent.com/andrejkk/ORvTK_SlidesImgs/master/footer_full.jpg\">"
   ]
  },
  {
   "cell_type": "markdown",
   "metadata": {
    "slideshow": {
     "slide_type": "slide"
    }
   },
   "source": [
    "<div style=\"display:flex;font-weight:bold;font-size:0.9em;\">\n",
    "<div style=\"flex:1;width:50%;text-align:right;\"> Modeliranje uporabnikov: kontekst in situacijsko zavedanje </div>\n",
    "</div>\n",
    "\n",
    "\n",
    "# 1. Kontekst\n",
    "\n",
    "■ Uvod in opis konteksta*\n",
    "\n",
    "■ Kontekstni faktorji in dostopnost konteksta*\n",
    "\n",
    "■ Zgradba konteksta\n",
    "\n",
    "■ Hierarhija konteksta*\n",
    "\n",
    "■ Faze upoštevanja konteksta\n",
    "\n",
    "■ Določanje konteksta - viri informacij\n",
    "\n",
    "■ Določanje konteksta - algoritmi\n",
    "\n",
    "■ Določanje konteksta - podatkovne množice realne uporabe storitev\n",
    "\n",
    "\n",
    "\n",
    "<p style=\"margin-bottom:1cm;\"></p>\n",
    "<div style=\"width:100%;text-align:right;font-weight:bold;font-size:1.2em;\"> 3 </div>\n",
    "<img src=\"https://raw.githubusercontent.com/andrejkk/ORvTK_SlidesImgs/master/footer_full.jpg\">"
   ]
  },
  {
   "cell_type": "markdown",
   "metadata": {
    "slideshow": {
     "slide_type": "slide"
    }
   },
   "source": [
    "<div style=\"display:flex;font-weight:bold;font-size:0.9em;\">\n",
    "<div style=\"flex:1;width:50%;text-align:right;\"> 1. Kontekst </div>\n",
    "</div>\n",
    "\n",
    "\n",
    "# ■ Uvod in opis konteksta\n",
    "\n",
    "#### Def.: Kontekst je vsak opis situacije, ki kakorkoli vpliva na uporabnikove odločitve ali preference glede vsebine ali načina rabe storitve\n",
    "\n",
    "<br>\n",
    "\n",
    "Kontkst je predhodna (apriorna) informacija, nujna za dobro prilagajanje storitve. Človeško prilagajanje komunikacije je bistveno odvisno od konteksta, ki ga človek zlahka razpoznava v realnem času. \n",
    "\n",
    "<br>\n",
    "\n",
    "Obstaja več kot **150 definicij konteksta**.\n",
    "\n",
    "<br>\n",
    "Seznam nekaterih vprašanj o kontekstu - originalno v angleščini:<br>\n",
    "Is context a frame for a given object? <br>\n",
    "Is it the set of elements that have any influence on the object? <br>\n",
    "Is it possible to define context a priori or just state the effects a posteriori? <br>\n",
    "Is it something static or dynamic? <br>\n",
    "Some approaches emerge now in artificial intelligence. In psychology, we generally study a person doing a task in a given situation. Which context is relevant for our study? <br>\n",
    "The context of the person? <br>\n",
    "The context of the task? <br>\n",
    "The context of the interaction? <br>\n",
    "The context of the situation? <br>\n",
    "When does a context begin and where does it stop? <br>\n",
    "What are the real relationships between context and cognition? <br>\n",
    "\n",
    "<br>\n",
    "Izraz **filtriranje** pomeni izbor vsebin ali prilagoditev, npr. vsebin pri priporočilnem sistemu.\n",
    "\n",
    "\n",
    "<br><br>\n",
    "Dva tipa konteksta:\n",
    "1. **Reprezentacijski:** znan pred aktivnostjo, neodvisen od aktivnosti, s časom s ne spreminja  \n",
    "2. **Interakcijski:** odvisen od aktvnosti, spreminja se s časom\n",
    "\n",
    "\n",
    "<br><br>\n",
    "_Literatura:_ [F. Ricci et. al. Recommender systems handbook, Springer, 2011.](https://www.springer.com/gp/book/9780387858203) <br>\n",
    "_Literatura:_ [D. Jannach et. al. An Introduction to Recommender Systems, Cambridge University Press, 2011](https://www.tandfonline.com/doi/abs/10.1080/10447318.2012.632301)\n",
    "\n",
    "\n",
    "<p style=\"margin-bottom:1cm;\"></p>\n",
    "<div style=\"width:100%;text-align:right;font-weight:bold;font-size:1.2em;\"> 4 </div>\n",
    "<img src=\"https://raw.githubusercontent.com/andrejkk/ORvTK_SlidesImgs/master/footer_full.jpg\">"
   ]
  },
  {
   "cell_type": "markdown",
   "metadata": {
    "slideshow": {
     "slide_type": "slide"
    }
   },
   "source": [
    "<div style=\"display:flex;font-weight:bold;font-size:0.9em;\">\n",
    "<div style=\"flex:1;width:50%;text-align:right;\"> 1. Kontekst </div>\n",
    "</div>\n",
    "\n",
    "\n",
    "# ■ Zgradba konteksta\n",
    "\n",
    "Zgradba konteksta:\n",
    "\n",
    "<img style=\"width:60%\" src=\"https://raw.githubusercontent.com/andrejkk/UPK_DataImgs/master/ContextDescription_SLO.png\">\n",
    "\n",
    "\n",
    "\n",
    "<p style=\"margin-bottom:1cm;\"></p>\n",
    "<div style=\"width:100%;text-align:right;font-weight:bold;font-size:1.2em;\"> 6 </div>\n",
    "<img src=\"https://raw.githubusercontent.com/andrejkk/ORvTK_SlidesImgs/master/footer_full.jpg\">"
   ]
  },
  {
   "cell_type": "markdown",
   "metadata": {
    "slideshow": {
     "slide_type": "slide"
    }
   },
   "source": [
    "<div style=\"display:flex;font-weight:bold;font-size:0.9em;\">\n",
    "<div style=\"flex:1;width:50%;text-align:right;\"> 1. Kontekst </div>\n",
    "</div>\n",
    "\n",
    "\n",
    "# ■ Hierarhija konteksta\n",
    "\n",
    "Hierarhija konteksta - glede na položaj:\n",
    "\n",
    "<img style=\"width:80%\" src=\"https://raw.githubusercontent.com/andrejkk/UPK_DataImgs/master/ContextHierarchy_SLO.png\">\n",
    "\n",
    "\n",
    "<p style=\"margin-bottom:1cm;\"></p>\n",
    "<div style=\"width:100%;text-align:right;font-weight:bold;font-size:1.2em;\"> 7 </div>\n",
    "<img src=\"https://raw.githubusercontent.com/andrejkk/ORvTK_SlidesImgs/master/footer_full.jpg\">"
   ]
  },
  {
   "cell_type": "markdown",
   "metadata": {
    "slideshow": {
     "slide_type": "slide"
    }
   },
   "source": [
    "<div style=\"display:flex;font-weight:bold;font-size:0.9em;\">\n",
    "<div style=\"flex:1;width:50%;text-align:right;\"> 1. Kontekst </div>\n",
    "</div>\n",
    "\n",
    "\n",
    "# ■ Faze upoštevanja konteksta\n",
    "\n",
    "\n",
    "Kontekst v prilagajanju lahko uporabimo na treh mestih:\n",
    "\n",
    "#### Pred-filtriranje\n",
    "Glede na kontekst izberemo podatke, ki so glede na kontekst relevantni za prilagajanje. Npr. pri učenju priporočilnega sistema le knjige, ki jih bralec bere doma - če je kontekst \"doma\" znan.\n",
    "\n",
    "#### Po-flitriranje\n",
    "Po sami prilagoditvi upoštevamo le tista priporočila, ki so relevantna za dan znan kontekst. Npr. pri priporočilnem sistemu izmed najvišje rangiranih izberemo (fitriramo) le knjige, ki jih bralec bere doma - če je kontekst \"doma\" znan.\n",
    "\n",
    "#### Modeliranje prilagoditve\n",
    "Kontekst upoštevamo pri samem modelu za prilagajanje. Npr. pri priporočilnem sistemu za knjige je podatek o kontekstu neposredno uporabljen kot vhod v algoritem modeliranja (npr. kontekstualizirana matrična faktorizacija). \n",
    "\n",
    "\n",
    "\n",
    "<p style=\"margin-bottom:1cm;\"></p>\n",
    "<div style=\"width:100%;text-align:right;font-weight:bold;font-size:1.2em;\"> 8 </div>\n",
    "<img src=\"https://raw.githubusercontent.com/andrejkk/ORvTK_SlidesImgs/master/footer_full.jpg\">"
   ]
  },
  {
   "cell_type": "markdown",
   "metadata": {
    "slideshow": {
     "slide_type": "slide"
    }
   },
   "source": [
    "<div style=\"display:flex;font-weight:bold;font-size:0.9em;\">\n",
    "<div style=\"flex:1;width:50%;text-align:right;\"> 1. Kontekst </div>\n",
    "</div>\n",
    "\n",
    "\n",
    "# ■ Kontekstni faktorji in dostopnost konteksta\n",
    "\n",
    "Predpostavimo obstoj **kontekstnih faktorjev** (informacij o kontekstu), ki so med drugim\n",
    "- čas\n",
    "- lokacija\n",
    "- namen aktivnosti\n",
    "\n",
    "<br>\n",
    "Glede na način uporabe konteksta razdelimo\n",
    "\n",
    "<table style=\"width:80%\">\n",
    "  <tr>\n",
    "    <td style=\"text-align:left;width:10em\"><b>Kako se faktorji spreminjano</b></td>\n",
    "    <td style=\"text-align:left\"><b>Popolnoma zaznavni</b></td> \n",
    "    <td style=\"text-align:left\"><b>Delno zaznavni</b></td>\n",
    "    <td style=\"text-align:left\"><b>Nezaznavni</b></td>\n",
    "  </tr>\n",
    "  <tr>\n",
    "    <td style=\"text-align:left;width:12em\"><b>Statično</b></td>\n",
    "    <td style=\"text-align:left\">Vse znano vnaprej</td> \n",
    "    <td style=\"text-align:left\">Delno znano, statično </td>\n",
    "    <td style=\"text-align:left\">Latentno znano, statično  </td>\n",
    "  </tr>\n",
    "  <tr>\n",
    "    <td style=\"text-align:left;width:12em\"><b>Dinamično</b></td>\n",
    "    <td style=\"text-align:left\">Relevantnost konteksta je dinamična </td> \n",
    "    <td style=\"text-align:left\">Delno in dinamično </td>\n",
    "    <td style=\"text-align:left\">O kontekstu ni nič znanega </td>\n",
    "  </tr>\n",
    "</table>\n",
    "\n",
    "\n",
    "<br><br>\n",
    "*Literatura*: [G. Adomavicius, B. Mobasher, F. Ricci, A. Tuhhilin, Context-Aware Recommneder Systems, Handbook of recommender systems, 2011](http://www.inf.unibz.it/~ricci/papers/08-Adomavicius.pdf)\n",
    "\n",
    "\n",
    "\n",
    "<p style=\"margin-bottom:1cm;\"></p>\n",
    "<div style=\"width:100%;text-align:right;font-weight:bold;font-size:1.2em;\"> 5 </div>\n",
    "<img src=\"https://raw.githubusercontent.com/andrejkk/ORvTK_SlidesImgs/master/footer_full.jpg\">"
   ]
  },
  {
   "cell_type": "markdown",
   "metadata": {
    "slideshow": {
     "slide_type": "slide"
    }
   },
   "source": [
    "<div style=\"display:flex;font-weight:bold;font-size:0.9em;\">\n",
    "<div style=\"flex:1;width:50%;text-align:right;\"> 1. Kontekst </div>\n",
    "</div>\n",
    "\n",
    "\n",
    "# ■ Določanje konteksta - viri informacij\n",
    "\n",
    "Pomembni viri informacij za določanje konteksta so\n",
    "1. Senzorji:\n",
    "    - pospeškometer\n",
    "    - merjenje obraznih točk -> afektivnih in čustvenih stanj\n",
    "    - lokalna temperatura in vlažnost \n",
    "    - osvetlitev\n",
    "    - jakost zvoka v ozadju\n",
    "    - ...\n",
    "    \n",
    "    \n",
    "2. Internet stvari:\n",
    "    - vreme v odvisnosti od položaja\n",
    "    - položaj mikro in makro\n",
    "    - stanje v cestnem prometu\n",
    "    - pametni dom\n",
    "    - ...\n",
    "    \n",
    "\n",
    "3. Uporabnikova interakcija:\n",
    "    - klikotok (angl. clickstream): zapis vseh klikov uporabniške interakcije (trenutek klika, gumb) v povezavi s trenutnim stanjem sistema\n",
    "    - uporaba več naprav: glavni napravi (npr. PC ali TV) se vse vse pogosteje pridružuje drugi zaslov (angl. second sceen)\n",
    "    - ...\n",
    "    \n",
    "4. Socialna omrežja:\n",
    "    - označitev udeležbe na dogodku\n",
    "    - komunikacija s prijatelji \n",
    "    - ...\n",
    "\n",
    "\n",
    "Končen izbor je v veliki meri **odvisen od konktetne aplikacije**. \n",
    "\n",
    "\n",
    "\n",
    "<p style=\"margin-bottom:1cm;\"></p>\n",
    "<div style=\"width:100%;text-align:right;font-weight:bold;font-size:1.2em;\"> 9 </div>\n",
    "<img src=\"https://raw.githubusercontent.com/andrejkk/ORvTK_SlidesImgs/master/footer_full.jpg\">"
   ]
  },
  {
   "cell_type": "markdown",
   "metadata": {
    "slideshow": {
     "slide_type": "slide"
    }
   },
   "source": [
    "<div style=\"display:flex;font-weight:bold;font-size:0.9em;\">\n",
    "<div style=\"flex:1;width:50%;text-align:right;\"> 1. Kontekst </div>\n",
    "</div>\n",
    "\n",
    "\n",
    "# ■ Določanje konteksta - algoritmi\n",
    "\n",
    "\n",
    "Algoritmi spadajo v rzlične skupine strojnega in statističnega učenja, vse do algoritmov na velikih podatkov. \n",
    "\n",
    "\n",
    "Skupine algoritmov oz njihovih rezultatov glede na vire informacij\n",
    "1. Senzorji: \n",
    "    - razpoznava situacije: vožnja z avtom na podlagi pospeška in hrupa, gledanje filma, ...\n",
    "    - ocena afektivnega in čustvenega stanja\n",
    "    - ocena kognitivne obremenitve\n",
    "    - ...\n",
    "\n",
    "\n",
    "\n",
    "2. Internet stvari:\n",
    "    - določanje vremena\n",
    "    - razpoznava hitre spremembe v temperaturi\n",
    "    - ...\n",
    "\n",
    "\n",
    "\n",
    "3. Uporabnikova interakcija:\n",
    "    - določitev persone (skupek konsistentnega obnašanj, lahko pokriva več oseb s podobnimi aktivnostmi)\n",
    "    - razpoznava sentimenta\n",
    "    - ...\n",
    "\n",
    "\n",
    "4. Socialna omržja\n",
    "    - razpoznava sentimenta\n",
    "    - detekcija aktivne komunikacije\n",
    "    - ...\n",
    "\n",
    "\n",
    "<p style=\"margin-bottom:1cm;\"></p>\n",
    "<div style=\"width:100%;text-align:right;font-weight:bold;font-size:1.2em;\"> 10 </div>\n",
    "<img src=\"https://raw.githubusercontent.com/andrejkk/ORvTK_SlidesImgs/master/footer_full.jpg\">"
   ]
  },
  {
   "cell_type": "markdown",
   "metadata": {
    "slideshow": {
     "slide_type": "slide"
    }
   },
   "source": [
    "<div style=\"display:flex;font-weight:bold;font-size:0.9em;\">\n",
    "<div style=\"flex:1;width:50%;text-align:right;\"> 1. Kontekst </div>\n",
    "</div>\n",
    "\n",
    "\n",
    "# ■ Določanje konteksta - podatkovne množice realne uporabe storitev\n",
    "\n",
    "Glavni izziv določanja konteksta so uporabne podatkovne množice realne uporabe stroitve, ki jih uporabimo pri **strojnem učenju**.\n",
    "\n",
    "\n",
    "Primer take podatkovne množice je **CoMoDa**, ki smo jo izdelali v našem laboratoriju. Na njej bilo izvedenih bliz 200 raziskav konteksta. \n",
    "\n",
    "Spletna povezava: http://www.lucami.org/index.php/research/ldos-comoda-dataset\n",
    "\n",
    "\n",
    "Vsebuje <br>\n",
    "##### Metapodatki\n",
    "userID (15 - 200, some missing) <br>\n",
    "itemID (1 -4138, some missing) <br>\n",
    "rating (1-5) <br>\n",
    "user's age <br>\n",
    "user's sex (1=male, 2= female) <br>\n",
    "user's city <br>\n",
    "user's country <br>\n",
    "time (1-4) <br>\n",
    "daytype (1-3) <br>\n",
    "season\t(1-4) <br>\n",
    "location (1-3) <br>\n",
    "weather\t(1-5) <br>\n",
    "social (1-7) <br>\n",
    "endEmo(1-7) <br>\n",
    "dominantEmo (1-7)<br>\n",
    "mood (1-3)\t<br>\n",
    "physical (1-2)\t<br>\n",
    "decision (1-2)\t<br>\n",
    "interaction (1-2) <br>\n",
    "movie director <br>\n",
    "movie's country <br>\n",
    "movie's language <br>\n",
    "movie's year <br>\n",
    "genre1 <br>\n",
    "genre2 <br>\n",
    "genre3 <br>\n",
    "actor1 <br>\n",
    "actor2 <br>\n",
    "actor3 <br>\n",
    "movie's budget <br>\n",
    "\n",
    "##### Kontekstne spremenljivke\n",
    "time : Morning, Afternoon, Evening, Night <br>\n",
    "daytype : Working day, Weekend, Holiday <br>\n",
    "season : Spring, Summer, Autumn, Winter <br>\n",
    "location :\tHome, Public place, Friend's house <br>\n",
    "weather : Sunny / clear, Rainy, Stormy, Snowy, Cloudy <br>\n",
    "social : Alone, My partner, Friends, Colleagues, Parents, Public, My family <br>\n",
    "endEmo : Sad, Happy, Scared, Surprised, Angry, Disgusted, Neutral <br>\n",
    "dominantEmo : Sad, Happy, Scared, Surprised, Angry, Disgusted, Neutral <br>\n",
    "mood : Positive, Neutral, Negative <br>\n",
    "physical : Healthy, Ill\t <br>\n",
    "decision : User decided which movie to watch, User was given a movie <br>\n",
    "interaction : first interaction with a movie, n-th interaction with a movie <br>\n",
    "\n",
    "\n",
    "\n",
    "\n",
    "<p style=\"margin-bottom:1cm;\"></p>\n",
    "<div style=\"width:100%;text-align:right;font-weight:bold;font-size:1.2em;\"> 11 </div>\n",
    "<img src=\"https://raw.githubusercontent.com/andrejkk/ORvTK_SlidesImgs/master/footer_full.jpg\">"
   ]
  },
  {
   "cell_type": "markdown",
   "metadata": {
    "slideshow": {
     "slide_type": "slide"
    }
   },
   "source": [
    "<div style=\"display:flex;font-weight:bold;font-size:0.9em;\">\n",
    "<div style=\"flex:1;width:50%;text-align:right;\"> 1. Kontekst </div>\n",
    "</div>\n",
    "\n",
    "\n",
    "# ■ Določanje konteksta - podatkovne množice realne uporabe storitev \n",
    "\n",
    "Zbiranje podatkov in rezultat za množico **Comoda** je prikazan spodaj.\n",
    "\n",
    "#### Vnos uporabnikove povratne informacije \n",
    "\n",
    "Vnos je potekal preko spletnega vmesnika, kjer je uporabnik **po ogledu filma** podal svojo povratno informacijo če je tako želel. Izgled vprašalnika:\n",
    "<img style=\"float: center; width: 60%\" src=\"https://raw.githubusercontent.com/andrejkk/UPK_DataImgs/master/CoMoDaQs.png\">\n",
    "\n",
    "<br><br>\n",
    "##### Izsek iz podatkov je prikazan na spodnji sliki. \n",
    "Podatki so zbrani v tabeli, katere izsek je prikazan spodaj:\n",
    "<img style=\"float: center; width: 100%\" src=\"https://raw.githubusercontent.com/andrejkk/UPK_DataImgs/master/CoMoDa.png\">\n",
    "\n",
    "\n",
    "\n",
    "\n",
    "<p style=\"margin-bottom:1cm;\"></p>\n",
    "<div style=\"width:100%;text-align:right;font-weight:bold;font-size:1.2em;\"> 12 </div>\n",
    "<img src=\"https://raw.githubusercontent.com/andrejkk/ORvTK_SlidesImgs/master/footer_full.jpg\">"
   ]
  },
  {
   "cell_type": "code",
   "execution_count": null,
   "metadata": {},
   "outputs": [],
   "source": []
  }
 ],
 "metadata": {
  "celltoolbar": "Slideshow",
  "kernelspec": {
   "display_name": "Python 3.10.5 64-bit",
   "language": "python",
   "name": "python3"
  },
  "language_info": {
   "codemirror_mode": {
    "name": "ipython",
    "version": 3
   },
   "file_extension": ".py",
   "mimetype": "text/x-python",
   "name": "python",
   "nbconvert_exporter": "python",
   "pygments_lexer": "ipython3",
   "version": "3.10.5"
  },
  "vscode": {
   "interpreter": {
    "hash": "66d245bc0aa345411577de3f292b9e6a6906f0558af2a59212c3c2455e5d14f2"
   }
  }
 },
 "nbformat": 4,
 "nbformat_minor": 2
}
