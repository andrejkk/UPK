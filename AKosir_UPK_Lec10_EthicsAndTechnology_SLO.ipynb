{
 "cells": [
  {
   "attachments": {},
   "cell_type": "markdown",
   "metadata": {
    "collapsed": true,
    "slideshow": {
     "slide_type": "slide"
    }
   },
   "source": [
    "<img style=\"float: center; width: 100%\" src=\"https://raw.githubusercontent.com/andrejkk/TalksImgs/master/FrontSlideUpperBan.png\">\n",
    "<p style=\"margin-bottom:2cm;\"></p>\n",
    "\n",
    "<center>\n",
    "    <H1> 10. Etika in tehnologija </H1>\n",
    "\n",
    "<br>\n",
    "    <H3> Andrej Košir, Lucami, FE </H3>\n",
    "    <H4> Kontakt: prof. dr. Andrej Košir, andrej.kosir@fe.uni-lj.si, ZOOM https://uni-lj-si.zoom.us/j/93256186073 </H4>\n",
    "</center>\n",
    "\n",
    "\n",
    "<p style=\"margin-bottom:2cm;\"></p>\n",
    "<img src=\"https://raw.githubusercontent.com/andrejkk/ORvTK_SlidesImgs/master/footer_full.jpg\">\n"
   ]
  },
  {
   "cell_type": "markdown",
   "metadata": {},
   "source": [
    "## Cilji in učni izidi\n",
    "\n",
    "#### Cilji \n",
    "\n",
    " Cilj poglavja je osnovno razumevanje etičnih vidikov prilagajanja uporabnikom in širše pametnih tehnologij:\n",
    " - kateri vidiki so pommbni;\n",
    " - kako se etični vidiki dotikajo razvoja pametnih aplikacij\n",
    "\n",
    "#### Učni izidi\n",
    "\n",
    " - Poznavanje izbranih konceptov etike\n",
    " - Poznavanje konceptov etike v zvezi s tehnologijo\n",
    " - Zmožnost prepoznavanja etično spornih rešitev pametnih tehnologij\n",
    " - Zmožnost priprave vloge za etično komisijo\n",
    " \n",
    "\n",
    "<p style=\"margin-bottom:2cm;\"></p>\n",
    "<div style=\"width:100%; text-align: right; font-weight:bold; font-size:1.2em;\"> 1 </div>\n",
    "<img src=\"https://raw.githubusercontent.com/andrejkk/ORvTK_SlidesImgs/master/footer_full.jpg\">"
   ]
  },
  {
   "cell_type": "markdown",
   "metadata": {
    "slideshow": {
     "slide_type": "slide"
    }
   },
   "source": [
    "<div style=\"display:flex;font-weight:bold;font-size:0.9em;\">\n",
    "<div style=\"flex:1;width:50%;\"> 10. Etika in tehnologija </div>\n",
    "</div>\n",
    "\n",
    "## 10. Etika in tehnologija\n",
    "\n",
    "\n",
    "### 10.1. Tehnološko ozadje\n",
    "\n",
    "■ Digitalna ločnica*\n",
    "\n",
    "■ Inteligenca sistemov*\n",
    "\n",
    "■ Kje smo s tehnologijo\n",
    "\n",
    "■ Primer: pogovorni sistem in pametni dom \n",
    "\n",
    "■ Kaj se dogaja s podatki\n",
    "\n",
    "■ GDPR, kriptiranje in deanonimizacija* \n",
    "\n",
    "■ Ali nas uporaba občutljivih podatkov moti?\n",
    "\n",
    "\n",
    "### 10.2 Etika in tehnologija\n",
    "\n",
    "■ Kaj je etika?*\n",
    "\n",
    "■ Ali je rešitev Varnost v načrtu (angl. Privacy by design)?*\n",
    "\n",
    "■ Etična nevtralnost tehnologije?*\n",
    "\n",
    "■ Humova giljotina*\n",
    "\n",
    "■ Ali tehnologija spreminja etiko?*\n",
    "\n",
    "■ Kdo dela na tem področju - viri\n",
    "\n",
    "■ Komisije za etiko\n",
    "\n",
    "■ Ključno: Ali zmoremo?\n",
    "\n",
    "■ Zaključni poudarki\n",
    "\n",
    "\n",
    "### 10.3 Etična presoja raziskav in komisije za etiko\n",
    "\n",
    "■ Zakaj etična presoja\n",
    "\n",
    "■ Relevantne komisije za etiko\n",
    "\n",
    "\n",
    "\n",
    "\n",
    "\n",
    "<p style=\"margin-bottom:1cm;\"></p>\n",
    "<div style=\"width:100%; text-align: right; font-weight:bold; font-size:1.2em;\"> 2 </div>\n",
    "<img src=\"https://raw.githubusercontent.com/andrejkk/ORvTK_SlidesImgs/master/footer_full.jpg\">"
   ]
  },
  {
   "attachments": {},
   "cell_type": "markdown",
   "metadata": {
    "slideshow": {
     "slide_type": "slide"
    }
   },
   "source": [
    "<div style=\"display:flex;font-weight:bold;font-size:0.9em;\">\n",
    "<div style=\"flex:1;width:50%;\"> 10. Etika in tehnologija </div>\n",
    "<div style=\"flex:1;width:50%;text-align:right;\"> 10. 1. Tehnološko ozadje </div>\n",
    "</div>\n",
    "\n",
    "## ■ Digitalna ločnica\n",
    "\n",
    "<br>\n",
    "\n",
    "#### Definicija\n",
    "\n",
    "Digitalna ločnica je **vsaka neenakomerna porazdelitev** v dostopu do, uporabi ali vplivu informacijskih in komunikacijskih tehnologij (IKT) med različnimi skupinami uporabnikov. Te skupine je mogoče opredeliti na podlagi\n",
    "  1. družbenih\n",
    "  2. geografski\n",
    "  3. geopolitičnih,\n",
    "  4. ali kako drugače.\n",
    "\n",
    "\n",
    "\n",
    "Razlogi so med drugim tudi neprilagojenost storitev in aplikacij. \n",
    "\n",
    "<p style=\"margin-bottom:2cm;\"></p>\n",
    "<div style=\"width:100%; text-align: right; font-weight:bold; font-size:1.2em;\"> 3 </div>\n",
    "<img src=\"https://raw.githubusercontent.com/andrejkk/ORvTK_SlidesImgs/master/footer_full.jpg\">"
   ]
  },
  {
   "attachments": {},
   "cell_type": "markdown",
   "metadata": {
    "slideshow": {
     "slide_type": "slide"
    }
   },
   "source": [
    "<div style=\"display:flex;font-weight:bold;font-size:0.9em;\">\n",
    "<div style=\"flex:1;width:50%;\"> 10. Etika in tehnologija </div>\n",
    "<div style=\"flex:1;width:50%;text-align:right;\"> 10. 1. Tehnološko ozadje </div>\n",
    "</div>\n",
    "\n",
    "## ■ Inteligenca sistemov\n",
    "\n",
    "<br>\n",
    "\n",
    "#### Definicija\n",
    "\"Zmožnost sistema, da pravilno interpretira zunanje podatke, da se iz takih podatkov uči in da ta nova znanja uporablja za fleksibilno prilagajanje v okolju in doseganje specifičnih ciljev in nalog\".\n",
    "\n",
    "    \n",
    "Bistveno je **delo na podatkih** o uporabnikih, kar nujno vodi do previdnosti glede etike. \n",
    "\n",
    "\n",
    "<br><br>\n",
    "*Literatura*: A. Kaplan, M. Haenlein: Siri, Siri, in my hand: Who’s the fairest in the land? On the interpretations, illustrations, and implications of artificial intelligence, *Business Horizons*, Volume 62, Issue 1, 2019. \n",
    "\n",
    "\n",
    "<p style=\"margin-bottom:2cm;\"></p>\n",
    "<div style=\"width:100%; text-align: right; font-weight:bold; font-size:1.2em;\"> 4 </div>\n",
    "<img src=\"https://raw.githubusercontent.com/andrejkk/ORvTK_SlidesImgs/master/footer_full.jpg\">"
   ]
  },
  {
   "cell_type": "markdown",
   "metadata": {
    "slideshow": {
     "slide_type": "slide"
    }
   },
   "source": [
    "<div style=\"display:flex;font-weight:bold;font-size:0.9em;\">\n",
    "<div style=\"flex:1;width:50%;\"> 10. Etika in tehnologija </div>\n",
    "<div style=\"flex:1;width:50%;text-align:right;\"> 10. 1. Tehnološko ozadje </div>\n",
    "</div>\n",
    "\n",
    "## ■ Kje smo s tehnologijo\n",
    "\n",
    "\n",
    "* Razpoloženje, čustveno stanje\n",
    "* Modeli pozornosti (učenje, vožnja, …) \n",
    "* Modeli zaupanja (avtonomna vožnja, …)\n",
    "* Model zdravega staranja\n",
    "* ...\n",
    "* White paper: Humility in AI\n",
    "\n",
    "\n",
    "\n",
    "<p style=\"margin-bottom:1cm;\"></p>\n",
    "<div style=\"width:100%; text-align: right; font-weight:bold; font-size:1.2em;\"> 5 </div>\n",
    "<img src=\"https://raw.githubusercontent.com/andrejkk/ORvTK_SlidesImgs/master/footer_full.jpg\">"
   ]
  },
  {
   "cell_type": "markdown",
   "metadata": {
    "slideshow": {
     "slide_type": "slide"
    }
   },
   "source": [
    "<div style=\"display:flex;font-weight:bold;font-size:0.9em;\">\n",
    "<div style=\"flex:1;width:50%;\"> 10. Etika in tehnologija </div>\n",
    "<div style=\"flex:1;width:50%;text-align:right;\"> 10. 1. Tehnološko ozadje </div>\n",
    "</div>\n",
    "\n",
    "## ■ Primer: pogovorni sistem in pametni dom \n",
    "\n",
    "<br><br>\n",
    "\n",
    "<img style=\"float: center; width: 50%;\" src=\"https://raw.githubusercontent.com/andrejkk/UPK_DataImgs/master/SmartKitchen.jpg\">\n",
    "Vir: https://www.businesswire.com/\n",
    "\n",
    "### Etični izzivi?\n",
    "\n",
    "<p style=\"margin-bottom:2cm;\"></p>\n",
    "<div style=\"width:100%; text-align: right; font-weight:bold; font-size:1.2em;\"> 6 </div>\n",
    "<img src=\"https://raw.githubusercontent.com/andrejkk/ORvTK_SlidesImgs/master/footer_full.jpg\">"
   ]
  },
  {
   "cell_type": "markdown",
   "metadata": {
    "slideshow": {
     "slide_type": "slide"
    }
   },
   "source": [
    "<div style=\"display:flex;font-weight:bold;font-size:0.9em;\">\n",
    "<div style=\"flex:1;width:50%;\"> 10. Etika in tehnologija </div>\n",
    "<div style=\"flex:1;width:50%;text-align:right;\"> 10. 1. Tehnološko ozadje </div>\n",
    "</div>\n",
    "\n",
    "## ■ Kaj se dogaja s podatki\n",
    "\n",
    "- Zakaj je \"google maps\" boljši od LPP.si?\n",
    "\n",
    "\n",
    "- Dostopnost do informacij:\n",
    "    - Akademsko okolje: odprto\n",
    "    - Podjetja: zaprto\n",
    "\n",
    "\n",
    "- Google: \n",
    "    - Potrebuje: najboljše ljudi + zaupanje\n",
    "     - Pregleduje “cel svet”\n",
    "\n",
    "\n",
    "<img style=\"float: center; width: 80%;\" src=\"https://raw.githubusercontent.com/andrejkk/UPK_DataImgs/master/Ethics_DataFlow.png\">\n",
    "\n",
    "\n",
    "<div style=\"width:100%; text-align: right; font-weight:bold; font-size:1.2em;\"> 7 </div>\n",
    "<img src=\"https://raw.githubusercontent.com/andrejkk/ORvTK_SlidesImgs/master/footer_full.jpg\">"
   ]
  },
  {
   "attachments": {},
   "cell_type": "markdown",
   "metadata": {
    "slideshow": {
     "slide_type": "slide"
    }
   },
   "source": [
    "<div style=\"display:flex;font-weight:bold;font-size:0.9em;\">\n",
    "<div style=\"flex:1;width:50%;\"> 10. Etika in tehnologija </div>\n",
    "<div style=\"flex:1;width:50%;text-align:right;\"> 10. 1. Tehnološko ozadje </div>\n",
    "</div>\n",
    "\n",
    "## ■ GDPR, deanonimizacija in kriptiranje\n",
    "\n",
    "\n",
    "- Možnosti zlorab so realne in zanje obstaja velik interes:\n",
    "    * Npr. Čustveni profil -> razgovor za službo\n",
    "\n",
    "\n",
    "<p>\n",
    "\n",
    "- Ali je GDPR mogoče dosledno izvajat?\n",
    "    * osnovne informacije: https://sl.wikipedia.org/wiki/Splo%C5%A1na_uredba_o_varstvu_podatkov\n",
    "\n",
    "<p>\n",
    "\n",
    "- Kaj vse se da deanonimizirat? \n",
    "\n",
    "\n",
    "<p style=\"margin-bottom:1cm;\"></p>\n",
    "<div style=\"width:100%; text-align: right; font-weight:bold; font-size:1.2em;\"> 8 </div>\n",
    "<img src=\"https://raw.githubusercontent.com/andrejkk/ORvTK_SlidesImgs/master/footer_full.jpg\">"
   ]
  },
  {
   "attachments": {},
   "cell_type": "markdown",
   "metadata": {
    "slideshow": {
     "slide_type": "slide"
    }
   },
   "source": [
    "<div style=\"display:flex;font-weight:bold;font-size:0.9em;\">\n",
    "<div style=\"flex:1;width:50%;\"> 10. Etika in tehnologija </div>\n",
    "<div style=\"flex:1;width:50%;text-align:right;\"> 10. 1. Tehnološko ozadje </div>\n",
    "</div>\n",
    "\n",
    "## ■ Ali nas uporaba občutljivih podatkov moti?\n",
    "\n",
    "\n",
    "- Ali nas uporaba podatkov res moti?\n",
    "\n",
    "\n",
    "- **Manj kot se zdi:**\n",
    "    * Google: za 1€ mesec vas rešimo reklam?\n",
    "\n",
    "\n",
    "<p>\n",
    "\n",
    "- Nizkocenovni prevozniki: možnosti\n",
    "    - Karta 0€ + vaši podatki\n",
    "    - Karta 200€ brez vaših podatkov\n",
    "\n",
    "\n",
    "\n",
    "\n",
    "<p style=\"margin-bottom:2cm;\"></p>\n",
    "<div style=\"width:100%; text-align: right; font-weight:bold; font-size:1.2em;\"> 9 </div>\n",
    "<img src=\"https://raw.githubusercontent.com/andrejkk/ORvTK_SlidesImgs/master/footer_full.jpg\">"
   ]
  },
  {
   "cell_type": "markdown",
   "metadata": {
    "slideshow": {
     "slide_type": "slide"
    }
   },
   "source": [
    "<div style=\"display:flex;font-weight:bold;font-size:0.9em;\">\n",
    "<div style=\"flex:1;width:50%;\"> 10. Etika in tehnologija </div>\n",
    "<div style=\"flex:1;width:50%;text-align:right;\"> 10.2 Etika in tehnologija </div>\n",
    "</div>\n",
    "\n",
    "\n",
    "### 10.2 Etika in tehnologija\n",
    "\n",
    "■ Kaj je etika?\n",
    "\n",
    "■ Ali je rešitev Varnost v načrtu (angl. Privacy by design)?\n",
    "\n",
    "■ Etična nevtralnost tehnologije?\n",
    "\n",
    "■ Humova giljotina!\n",
    "\n",
    "■ Ali tehnologija spreminja etiko?\n",
    "\n",
    "■ Kdo dela na tem področju - viri\n",
    "\n",
    "■ Ključno: Ali zmoremo?\n",
    "\n",
    "■ Zaključni poudarki\n",
    "\n",
    "\n",
    "\n",
    "\n",
    "<p style=\"margin-bottom:2cm;\"></p>\n",
    "<div style=\"width:100%; text-align: right; font-weight:bold; font-size:1.2em;\"> 10 </div>\n",
    "<img src=\"https://raw.githubusercontent.com/andrejkk/ORvTK_SlidesImgs/master/footer_full.jpg\">"
   ]
  },
  {
   "cell_type": "markdown",
   "metadata": {
    "slideshow": {
     "slide_type": "slide"
    }
   },
   "source": [
    "<div style=\"display:flex;font-weight:bold;font-size:0.9em;\">\n",
    "<div style=\"flex:1;width:50%;\"> 10. Etika in tehnologija </div>\n",
    "<div style=\"flex:1;width:50%;text-align:right;\"> 10.2 Etika in tehnologija </div>\n",
    "</div>\n",
    "\n",
    "\n",
    "### 10.2 Etika in tehnologija\n",
    "\n",
    "■ Kaj je etika?\n",
    "\n",
    "■ Ali je rešitev Varnost v načrtu (angl. Privacy by design)?\n",
    "\n",
    "■ Etična nevtralnost tehnologije?\n",
    "\n",
    "■ Humova giljotina!\n",
    "\n",
    "■ Ali tehnologija spreminja etiko?\n",
    "\n",
    "■ Kdo dela na tem področju - viri\n",
    "\n",
    "■ Ključno: Ali zmoremo?\n",
    "\n",
    "■ Zaključni poudarki\n",
    "\n",
    "\n",
    "\n",
    "\n",
    "<p style=\"margin-bottom:2cm;\"></p>\n",
    "<div style=\"width:100%; text-align: right; font-weight:bold; font-size:1.2em;\"> 11 </div>\n",
    "<img src=\"https://raw.githubusercontent.com/andrejkk/ORvTK_SlidesImgs/master/footer_full.jpg\">"
   ]
  },
  {
   "cell_type": "markdown",
   "metadata": {
    "slideshow": {
     "slide_type": "slide"
    }
   },
   "source": [
    "<div style=\"display:flex;font-weight:bold;font-size:0.9em;\">\n",
    "<div style=\"flex:1;width:50%;\"> 10. Etika in tehnologija </div>\n",
    "<div style=\"flex:1;width:50%;text-align:right;\"> 10. 2. Etika in tehnologija </div>\n",
    "</div>\n",
    "\n",
    "## ■ Ali je rešitev Varnost v načrtu (angl. Privacy by design)?\n",
    "\n",
    "\n",
    "#### Vodila (v angleščini):\n",
    "1. Proactive not reactive; preventive not remedial\n",
    "2. Privacy as the default setting\n",
    "3. Privacy embedded into design\n",
    "4. Full functionality – positive-sum, not zero-sum\n",
    "5. End-to-end security – full lifecycle protection\n",
    "6. Visibility and transparency – keep it open\n",
    "10. Respect for user privacy – keep it user-centric\n",
    "\n",
    "Vir: https://en.wikipedia.org/wiki/Privacy_by_design\n",
    "\n",
    "\n",
    "\n",
    "#### Bistveno\n",
    "Etike tehnologiji ne moreš dodati potem ko je ustvarjena in v uporabi. Lahko jo integriraš le v celotnem procesu nastajanja apliakcije.  \n",
    "\n",
    "\n",
    "<p style=\"margin-bottom:1cm;\"></p>\n",
    "<div style=\"width:100%; text-align: right; font-weight:bold; font-size:1.2em;\"> 12 </div>\n",
    "<img src=\"https://raw.githubusercontent.com/andrejkk/ORvTK_SlidesImgs/master/footer_full.jpg\">"
   ]
  },
  {
   "cell_type": "markdown",
   "metadata": {
    "slideshow": {
     "slide_type": "slide"
    }
   },
   "source": [
    "<div style=\"display:flex;font-weight:bold;font-size:0.9em;\">\n",
    "<div style=\"flex:1;width:50%;\"> 10. Etika in tehnologija </div>\n",
    "<div style=\"flex:1;width:50%;text-align:right;\"> 10. 2. Etika in tehnologija </div>\n",
    "</div>\n",
    "\n",
    "## ■ Etična nevtralnost tehnologije?\n",
    "\n",
    "\n",
    "Nevtralnost glede na:\n",
    "- Obstoječe vrednote\n",
    "- Glede na posledice\n",
    "\n",
    "### Ali se uporabnik zaveda možnosti uporabe podatkov, ki jih (nevede) daje v uporabo?\n",
    "\n",
    "\n",
    "Ali so Googlove storitve etično nevtralne?\n",
    "\n",
    "Gumb **[I agree]** ne velja več.  \n",
    "\n",
    "\n",
    "\n",
    "<p style=\"margin-bottom:2cm;\"></p>\n",
    "<div style=\"width:100%; text-align: right; font-weight:bold; font-size:1.2em;\"> 13 </div>\n",
    "<img src=\"https://raw.githubusercontent.com/andrejkk/ORvTK_SlidesImgs/master/footer_full.jpg\">"
   ]
  },
  {
   "cell_type": "markdown",
   "metadata": {
    "slideshow": {
     "slide_type": "slide"
    }
   },
   "source": [
    "<div style=\"display:flex;font-weight:bold;font-size:0.9em;\">\n",
    "<div style=\"flex:1;width:50%;\"> 10. Etika in tehnologija </div>\n",
    "<div style=\"flex:1;width:50%;text-align:right;\"> 10. 2. Etika in tehnologija </div>\n",
    "</div>\n",
    "\n",
    "## ■ Humova giljotina\n",
    "\n",
    "Filozof Hume (1711 - 1776) je sklepal takole\n",
    "\n",
    "1. Kajenje je škodljivo za zdravje (ugotovljivo).\n",
    "2. Želimo biti zdravi (vrednostni konsenz).\n",
    "\n",
    "==> \n",
    "\n",
    "3. Kajenje preopovemo.  \n",
    "\n",
    "Korak 2. je predmet **vrednostnega konsenza**. \n",
    "\n",
    "Zato: **UMETNA INTELIGENCA NE BO REŠILA ETIČNIH VPRAŠANJ.**\n",
    "\n",
    "\n",
    "<p style=\"margin-bottom:2cm;\"></p>\n",
    "<div style=\"width:100%; text-align: right; font-weight:bold; font-size:1.2em;\"> 14 </div>\n",
    "<img src=\"https://raw.githubusercontent.com/andrejkk/ORvTK_SlidesImgs/master/footer_full.jpg\">"
   ]
  },
  {
   "cell_type": "markdown",
   "metadata": {
    "slideshow": {
     "slide_type": "slide"
    }
   },
   "source": [
    "<div style=\"display:flex;font-weight:bold;font-size:0.9em;\">\n",
    "<div style=\"flex:1;width:50%;\"> 10. Etika in tehnologija </div>\n",
    "<div style=\"flex:1;width:50%;text-align:right;\"> 10. 2. Etika in tehnologija </div>\n",
    "</div>\n",
    "\n",
    "## ■ Ali tehnologija spreminja etiko?\n",
    "\n",
    "\n",
    "<br>\n",
    "\n",
    "\n",
    "- Tehnologija premika meje v smislu kaj tehnologija zmore. Ali to spreminja etiko? **DA**.\n",
    "\n",
    "\n",
    "- Etičnost tehnologij je povezana z razumevanjem teh tehnologij in regulacij s strani uporabnikov – te so pa vedno bolj zapletene. \n",
    "\n",
    "\n",
    "- Google 2019: Advanced Technology External Advisory Council: ukinjen po dobrem tednu dni. \n",
    "\n",
    "\n",
    "\n",
    "<p style=\"margin-bottom:1cm;\"></p>\n",
    "<div style=\"width:100%; text-align: right; font-weight:bold; font-size:1.2em;\"> 15 </div>\n",
    "<img src=\"https://raw.githubusercontent.com/andrejkk/ORvTK_SlidesImgs/master/footer_full.jpg\">"
   ]
  },
  {
   "cell_type": "markdown",
   "metadata": {
    "slideshow": {
     "slide_type": "slide"
    }
   },
   "source": [
    "<div style=\"display:flex;font-weight:bold;font-size:0.9em;\">\n",
    "<div style=\"flex:1;width:50%;\"> 10. Etika in tehnologija </div>\n",
    "<div style=\"flex:1;width:50%;text-align:right;\"> 10. 2. Etika in tehnologija </div>\n",
    "</div>\n",
    "\n",
    "## ■ Kdo dela na tem področju - viri\n",
    "\n",
    "\n",
    "### EU projekt SATORI (https://satoriproject.eu/), 4 M€\n",
    "\n",
    "Izhodišče: etika v raziskavah in razvoju ima velik vpliv na \n",
    "- Človekove pravice\n",
    "- Pravni system\n",
    "- Okolje\n",
    "- …\n",
    "\n",
    "Cilj: razvoj EU okvirja etične presoje raziskav: stanje, predlogi\n",
    "\n",
    "\n",
    "Udeleženci: 14 držav, 16 partnerjev: pravo, industrija, akademija, …, UNESCO \n",
    "\n",
    "\n",
    "\n",
    "\n",
    "<p style=\"margin-bottom:2cm;\"></p>\n",
    "<div style=\"width:100%; text-align: right; font-weight:bold; font-size:1.2em;\"> 16 </div>\n",
    "<img src=\"https://raw.githubusercontent.com/andrejkk/ORvTK_SlidesImgs/master/footer_full.jpg\">"
   ]
  },
  {
   "cell_type": "markdown",
   "metadata": {
    "slideshow": {
     "slide_type": "slide"
    }
   },
   "source": [
    "<div style=\"display:flex;font-weight:bold;font-size:0.9em;\">\n",
    "<div style=\"flex:1;width:50%;\"> 10. Etika in tehnologija </div>\n",
    "<div style=\"flex:1;width:50%;text-align:right;\"> 10. 2. Etika in tehnologija </div>\n",
    "</div>\n",
    "\n",
    "## ■ Ključno: Ali zmoremo?\n",
    "\n",
    "<br>\n",
    "\n",
    "Družbeni konsenz glede uporabe naprednih tehnologij?\n",
    "\n",
    "\n",
    "Uveljavitev konsenza v \n",
    "- Regulativo?\n",
    "- Prakso?\n",
    "\n",
    "\n",
    "<p style=\"margin-bottom:2cm;\"></p>\n",
    "<div style=\"width:100%; text-align: right; font-weight:bold; font-size:1.2em;\"> 17 </div>\n",
    "<img src=\"https://raw.githubusercontent.com/andrejkk/ORvTK_SlidesImgs/master/footer_full.jpg\">"
   ]
  },
  {
   "cell_type": "markdown",
   "metadata": {
    "slideshow": {
     "slide_type": "slide"
    }
   },
   "source": [
    "<div style=\"display:flex;font-weight:bold;font-size:0.9em;\">\n",
    "<div style=\"flex:1;width:50%;\"> 10. Etika in tehnologija </div>\n",
    "<div style=\"flex:1;width:50%;text-align:right;\"> 10.3 Etična presoja raziskav in komisije za etiko </div>\n",
    "</div>\n",
    "\n",
    "## ■ 10.3 Etična presoja raziskav in komisije za etiko\n",
    "\n",
    "\n",
    "■ Zakaj etična presoja\n",
    "\n",
    "■ Relevantne komisije za etiko\n",
    "\n",
    "\n",
    "<div style=\"width:100%; text-align: right; font-weight:bold; font-size:1.2em;\"> 18 </div>\n",
    "<img src=\"https://raw.githubusercontent.com/andrejkk/ORvTK_SlidesImgs/master/footer_full.jpg\">"
   ]
  },
  {
   "cell_type": "markdown",
   "metadata": {
    "slideshow": {
     "slide_type": "slide"
    }
   },
   "source": [
    "<div style=\"display:flex;font-weight:bold;font-size:0.9em;\">\n",
    "<div style=\"flex:1;width:50%;\"> 10. Etika in tehnologija </div>\n",
    "<div style=\"flex:1;width:50%;text-align:right;\"> 10.3 Etična presoja raziskav in komisije za etiko </div>\n",
    "</div>\n",
    "\n",
    "## ■ Zakaj etična presoja\n",
    "\n",
    "Varovanje uporabnikov pred zlorabami.\n",
    "\n",
    "Vloga za etično presojo imam naslednje elemente: \n",
    "1. _Osnovni podatki o vlogi:_ vlagatelj, naslov, področje raziskave ipd. \n",
    "2. _Uvod:_ vlagatelj poda izhodišča raziskovalnega dela, raziskovalna vprašanja, hipoteze in druge relevantne uvodne informacije; \n",
    "3. _Udeleženci:_ število in opis udeležencev, način pridobivanja udeležencev (dobrodošla je navedba vključitvenih in izključitvenih kriterijev) in njihova morebitna korist od udeležbe;   \n",
    "4. _Raziskovalni načrt:_ opis raziskovalnega načrta (npr. anketa, eksperiment, intervju, fokusna skupina itd) ter navedba odvisnih (rezultati postopka) in neodvisnih spremenljivk (kontrola eksperimenta in drugo);\n",
    "5. _Postopek:_ poleg samega zaporedja korakov vlagatelj poda še seznam instrumentov in pripomočkov (vprašalniki, senzorji ipd), opis eksperimentalnih nalog udeležencev in izdelana navodila udeležencem.\n",
    "6. _Soglasje za sodelovanje:_ dokončan pisni obrazec za formalno soglasje k sodelovanju udeležencev, opustitev pisnega soglasja, morebitni razgovor o raziskavi in umik soglasja; \n",
    "7. _Varovanje in zaupnost podatkov:_ Vlagatelj zagotovi varovanje zajetih podatkov v vseh fazah od merjenja do shranjevanja in obdelave, torej popolno anonimnost, psevdoanonimizacijo podatkov (če je potrebno zaradi nadaljnje obdelave podatkov) ali polno anonimizacijo podatkov, ter preprečitev prepoznavnosti podatkov;\n",
    "8. _Ocena morebitnih tveganj in koristi sodelovanja:_ tveganja za testne udeležence morajo biti jasno opredeljena, prav tako njihove morebitne koristi (slednje bi lahko vplivalo na izbor udeležencev in posledično na same rezultate). \n",
    "9. _Priloge:_ potrebne priloge kot je izdelano soglasje za sodelovanje itd.\n",
    "\n",
    "\n",
    "Zakaj so vloge za etično presojo tako zapletene? Ker so nesmiselne raziskave z zporabniki v osnovi neetične. \n",
    "\n",
    "\n",
    "<p style=\"margin-bottom:1cm;\"></p>\n",
    "<div style=\"width:100%; text-align: right; font-weight:bold; font-size:1.2em;\"> 19 </div>\n",
    "<img src=\"https://raw.githubusercontent.com/andrejkk/ORvTK_SlidesImgs/master/footer_full.jpg\">"
   ]
  },
  {
   "cell_type": "markdown",
   "metadata": {
    "slideshow": {
     "slide_type": "slide"
    }
   },
   "source": [
    "<div style=\"display:flex;font-weight:bold;font-size:0.9em;\">\n",
    "<div style=\"flex:1;width:50%;\"> 10. Etika in tehnologija </div>\n",
    "<div style=\"flex:1;width:50%;text-align:right;\"> 10.3 Etična presoja raziskav in komisije za etiko </div>\n",
    "</div>\n",
    "\n",
    "## ■ Relevantne komisije za etiko\n",
    "\n",
    "Zakaj presoja: varovanje uporabnikov pred zlorabami. Uporabniki so šibki člen.\n",
    "\n",
    "Komisije: odobrijo, ne nadzorujejo\n",
    "\n",
    "Nadzorni organ: organi za varstvo podatkov (DPA), ki jih določi komisija EU v vsaki državi posebej. Za Slovenijo je to Informacijski pooblaščenec (https://www.ip-rs.si/).\n",
    "\n",
    "\n",
    "\n",
    "\n",
    "<br>\n",
    "\n",
    "V Sloveniji in znotraj Univerze v Ljubljani obstala več komisij, ki odobrijo prdloženo raziskavo:\n",
    "- Komisija za etiko Univerze v Ljubljani [povezava](https://www.uni-lj.si/raziskovalno_in_razvojno_delo/etika_in_integriteta_v_raziskovanju/komisija_univerze_v_ljubljani_za_etiko_v_raziskavah__ki_vkljucujejo_delo_z_ljudmi/)\n",
    "- Filozofska fakulteta - psihologija: [povezava](https://www.ff.uni-lj.si/fakulteta/komisija-za-etiko) \n",
    "- Pedagoška fakulteta - pedagoško delo: [povezava](https://www.pef.uni-lj.si/931.html) \n",
    "- Komisija Republike Slovenije za medicinsko etiko [povezava](https://www.gov.si/zbirke/delovna-telesa/komisija-rs-za-medicinsko-etiko/)\n",
    "- Komisija za medicinsko etiko UKC Maribor [povezava](https://www.ukc-mb.si/bolni%C5%A1nica/komisija-za-medicinsko-etiko-ukc-maribor)\n",
    "- Komisija UP za raziskave, ki vključujejo delo z ljudmi (KER UP) [povezava](https://www.upr.si/files/static/847)\n",
    "\n",
    "\n",
    "\n",
    "**Postopek:**\n",
    "1. Pred izvedbo raziskavo izdelamo vlogo za etično komisijo: obrazci (glejte povezave zgoraj)\n",
    "2. Oddaja, porpavki, potrdili\n",
    "\n",
    "\n",
    "<p style=\"margin-bottom:2cm;\"></p>\n",
    "<div style=\"width:100%; text-align: right; font-weight:bold; font-size:1.2em;\"> 20 </div>\n",
    "<img src=\"https://raw.githubusercontent.com/andrejkk/ORvTK_SlidesImgs/master/footer_full.jpg\">"
   ]
  },
  {
   "cell_type": "markdown",
   "metadata": {
    "slideshow": {
     "slide_type": "slide"
    }
   },
   "source": [
    "<div style=\"display:flex;font-weight:bold;font-size:0.9em;\">\n",
    "<div style=\"flex:1;width:50%;\"> 10. Etika in tehnologija </div>\n",
    "<div style=\"flex:1;width:50%;text-align:right;\"> Zaključek </div>\n",
    "</div>\n",
    "\n",
    "## ■ Zaključne misli\n",
    "\n",
    "<br>\n",
    "\n",
    "\n",
    "* Glavni izziv je **družbeni konsenz** glede uporabe tehnologije\n",
    "* **Potencial** teh tehnologij je **izjemen** (npr. Oskrba starejših)\n",
    "* Umetna inteligenca **ne more rešit** etičnih problemov\n",
    "* Napredek in poučevanje etike vzporedno s tehnologijo \n",
    "* **Regulacija** je nujna: to ni proti svobodi ustvarjanja, le z odgovornostjo!\n",
    "\n",
    "\n",
    "<p style=\"margin-bottom:1cm;\"></p>\n",
    "<div style=\"width:100%; text-align: right; font-weight:bold; font-size:1.2em;\"> 21 </div>\n",
    "<img src=\"https://raw.githubusercontent.com/andrejkk/ORvTK_SlidesImgs/master/footer_full.jpg\">"
   ]
  },
  {
   "cell_type": "markdown",
   "metadata": {},
   "source": []
  }
 ],
 "metadata": {
  "celltoolbar": "Slideshow",
  "kernelspec": {
   "display_name": "Python 3",
   "language": "python",
   "name": "python3"
  },
  "language_info": {
   "codemirror_mode": {
    "name": "ipython",
    "version": 3
   },
   "file_extension": ".py",
   "mimetype": "text/x-python",
   "name": "python",
   "nbconvert_exporter": "python",
   "pygments_lexer": "ipython3",
   "version": "3.10.5 (tags/v3.10.5:f377153, Jun  6 2022, 16:14:13) [MSC v.1929 64 bit (AMD64)]"
  },
  "vscode": {
   "interpreter": {
    "hash": "66d245bc0aa345411577de3f292b9e6a6906f0558af2a59212c3c2455e5d14f2"
   }
  }
 },
 "nbformat": 4,
 "nbformat_minor": 2
}
